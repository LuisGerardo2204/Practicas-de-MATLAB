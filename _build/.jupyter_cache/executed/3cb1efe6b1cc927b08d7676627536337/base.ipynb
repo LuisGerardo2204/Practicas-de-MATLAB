{
 "cells": [
  {
   "cell_type": "code",
   "execution_count": 1,
   "id": "715c77bf-af96-4a02-963e-97406f466dbb",
   "metadata": {},
   "outputs": [
    {
     "name": "stderr",
     "output_type": "stream",
     "text": [
      "\n",
      "            Error: MATLAB Kernel for Jupyter was unable to find the notebook server from which it was spawned!\n",
      "\n",
      "            Resolution: Please relaunch kernel from JupyterLab or Classic Jupyter Notebook.\n",
      "            "
     ]
    }
   ],
   "source": [
    "t=[0:0.001:5];\n",
    "y=exp(-2.5*t).*cos(12*t);\n",
    "plot(t,y)"
   ]
  },
  {
   "cell_type": "code",
   "execution_count": 2,
   "id": "eb9c9f0a-5b08-4dce-a505-5e0fae306ae1",
   "metadata": {},
   "outputs": [
    {
     "name": "stderr",
     "output_type": "stream",
     "text": [
      "\n",
      "            Error: MATLAB Kernel for Jupyter was unable to find the notebook server from which it was spawned!\n",
      "\n",
      "            Resolution: Please relaunch kernel from JupyterLab or Classic Jupyter Notebook.\n",
      "            "
     ]
    }
   ],
   "source": [
    "A=[3 2 -5;2 -5 1;-1 3 -3]\n",
    "B=[10;25;13]"
   ]
  },
  {
   "cell_type": "code",
   "execution_count": 3,
   "id": "ed563196",
   "metadata": {},
   "outputs": [
    {
     "name": "stderr",
     "output_type": "stream",
     "text": [
      "\n",
      "            Error: MATLAB Kernel for Jupyter was unable to find the notebook server from which it was spawned!\n",
      "\n",
      "            Resolution: Please relaunch kernel from JupyterLab or Classic Jupyter Notebook.\n",
      "            "
     ]
    }
   ],
   "source": [
    "X=inv(A)*B"
   ]
  },
  {
   "cell_type": "code",
   "execution_count": null,
   "id": "edf63b7d-67fe-48d1-bebf-9ae924cbdfb8",
   "metadata": {},
   "outputs": [],
   "source": []
  }
 ],
 "metadata": {
  "kernelspec": {
   "display_name": "MATLAB Kernel",
   "language": "matlab",
   "name": "jupyter_matlab_kernel"
  },
  "language_info": {
   "file_extension": ".m",
   "mimetype": "text/x-matlab",
   "name": "matlab"
  }
 },
 "nbformat": 4,
 "nbformat_minor": 5
}