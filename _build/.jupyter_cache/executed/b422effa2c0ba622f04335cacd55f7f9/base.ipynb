{
 "cells": [
  {
   "cell_type": "code",
   "execution_count": 1,
   "id": "174f76cd",
   "metadata": {
    "tags": [
     "remove-stderr"
    ]
   },
   "outputs": [
    {
     "name": "stdout",
     "output_type": "stream",
     "text": [
      "ans = 8\n"
     ]
    }
   ],
   "source": [
    "2^3"
   ]
  }
 ],
 "metadata": {
  "jupytext": {
   "formats": "md:myst",
   "text_representation": {
    "extension": ".md",
    "format_name": "myst",
    "format_version": 0.13,
    "jupytext_version": "1.11.5",
    "language": "es"
   }
  },
  "kernelspec": {
   "display_name": "Octave",
   "language": "Octave",
   "name": "Octave"
  },
  "language_info": {
   "file_extension": ".m",
   "help_links": [
    {
     "text": "GNU Octave",
     "url": "https://www.gnu.org/software/octave/support.html"
    },
    {
     "text": "Octave Kernel",
     "url": "https://github.com/Calysto/octave_kernel"
    },
    {
     "text": "MetaKernel Magics",
     "url": "https://metakernel.readthedocs.io/en/latest/source/README.html"
    }
   ],
   "mimetype": "text/x-octave",
   "name": "octave",
   "version": "8.3.0"
  },
  "source_map": [
   14,
   29,
   32
  ]
 },
 "nbformat": 4,
 "nbformat_minor": 5
}