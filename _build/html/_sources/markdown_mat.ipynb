{
 "cells": [
  {
   "cell_type": "markdown",
   "id": "895ba7b8",
   "metadata": {},
   "source": [
    "# Notebooks con MATLAB\n",
    "\n",
    "Jupyter Book also lets you write text-based notebooks using MyST Markdown.\n",
    "See [the Notebooks with MyST Markdown documentation](https://jupyterbook.org/file-types/myst-notebooks.html) for more detailed instructions.\n",
    "This page shows off a notebook written in MyST Markdown.\n",
    "\n",
    "## An example cell\n",
    "\n",
    "With MyST Markdown, you can define code cells with a directive like so:"
   ]
  },
  {
   "cell_type": "code",
   "execution_count": null,
   "id": "85aa7cf9",
   "metadata": {},
   "outputs": [],
   "source": [
    "t=[0:0.001:5];\n",
    "y=exp(-2.5*t).*cos(22*t);\n",
    "figure\n",
    "plot(t,y)\n",
    "set(gcf,'Visible','on')"
   ]
  }
 ],
 "metadata": {
  "jupytext": {
   "formats": "md:myst",
   "text_representation": {
    "extension": ".md",
    "format_name": "myst",
    "format_version": 0.13,
    "jupytext_version": "1.11.5",
    "language": "es"
   }
  },
  "kernelspec": {
   "display_name": "Octave",
   "language": "Octave",
   "name": "Octave"
  },
  "source_map": [
   14,
   26
  ]
 },
 "nbformat": 4,
 "nbformat_minor": 5
}