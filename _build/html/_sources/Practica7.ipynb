{
 "cells": [
  {
   "cell_type": "markdown",
   "id": "b068e0cc-3bef-438b-9b18-30ae2d29cfae",
   "metadata": {},
   "source": [
    "# Práctica 7: Matrices para aplicaciones especiales\n",
    "\n",
    "En el ambiente de programación MATLAB es posible generar matrices con características especiales, por ejemplo, la creación de una matriz identidad de dimenciones $4\\times 4$:"
   ]
  },
  {
   "cell_type": "code",
   "execution_count": 1,
   "id": "468f0a2d-f54f-4456-aeb4-8e88a646117d",
   "metadata": {},
   "outputs": [
    {
     "data": {
      "text/html": [
       "<html><body><pre>I = 4x4 double\n",
       "     1     0     0     0\n",
       "     0     1     0     0\n",
       "     0     0     1     0\n",
       "     0     0     0     1\n",
       "</pre></body></html>"
      ],
      "text/plain": [
       "I = 4x4 double\n",
       "     1     0     0     0\n",
       "     0     1     0     0\n",
       "     0     0     1     0\n",
       "     0     0     0     1\n"
      ]
     },
     "execution_count": 1,
     "metadata": {},
     "output_type": "execute_result"
    }
   ],
   "source": [
    "I=eye(4)"
   ]
  },
  {
   "cell_type": "markdown",
   "id": "ed4a781a-fece-4e9d-8c57-c1e81099f60a",
   "metadata": {},
   "source": [
    "Una matriz $V$ de dimensiones $1\\times 5$, formada con unos, para escalarla o generar constantes:"
   ]
  },
  {
   "cell_type": "code",
   "execution_count": 2,
   "id": "254a54a0-0d9a-48e4-8339-b5294a9c244c",
   "metadata": {},
   "outputs": [
    {
     "data": {
      "text/html": [
       "<html><body><pre>V = 1x5 double\n",
       "     1     1     1     1     1\n",
       "</pre></body></html>"
      ],
      "text/plain": [
       "V = 1x5 double\n",
       "     1     1     1     1     1\n"
      ]
     },
     "execution_count": 2,
     "metadata": {},
     "output_type": "execute_result"
    }
   ],
   "source": [
    "V=ones(1,5)"
   ]
  },
  {
   "cell_type": "markdown",
   "id": "2446e736-82fd-4536-bc57-5d114b63e737",
   "metadata": {},
   "source": [
    "La transpuesta de una matriz se usa en ciertas aplicaciones de las matemáticas y el álgebra lineal. En Matlab, la comilla simple implica hacer transpuesta a una matriz, por ejemplo, sean las matrices $A$ y $B$:\n",
    "\n",
    "$$\n",
    "A=\\begin{bmatrix}-1&4&3\\\\-4&10&15\\\\3&6&11\\end{bmatrix}~~~~B=\\begin{bmatrix}-2&7&5\\end{bmatrix}\n",
    "$$"
   ]
  },
  {
   "cell_type": "code",
   "execution_count": 3,
   "id": "fa46d30a-a271-4709-8f8c-c0b51a7ff20d",
   "metadata": {},
   "outputs": [
    {
     "data": {
      "text/html": [
       "<html><body><pre>A = 3x3 double\n",
       "    -1     4     3\n",
       "    -4    10    15\n",
       "     3     6    11\n",
       "</pre></body></html>"
      ],
      "text/plain": [
       "A = 3x3 double\n",
       "    -1     4     3\n",
       "    -4    10    15\n",
       "     3     6    11\n"
      ]
     },
     "execution_count": 3,
     "metadata": {},
     "output_type": "execute_result"
    },
    {
     "data": {
      "text/html": [
       "<html><body><pre>B = 1x3 double\n",
       "    -2     7     5\n",
       "</pre></body></html>"
      ],
      "text/plain": [
       "B = 1x3 double\n",
       "    -2     7     5\n"
      ]
     },
     "execution_count": 3,
     "metadata": {},
     "output_type": "execute_result"
    }
   ],
   "source": [
    "A=[-1 4 3;-4 10 15; 3 6 11]\n",
    "B=[-2 7 5]"
   ]
  },
  {
   "cell_type": "markdown",
   "id": "4d306dfe-b7e2-4535-a071-b22ad7d05826",
   "metadata": {},
   "source": [
    "Las transpuestas de estas dos matrices son:\n",
    "\n",
    "$$\n",
    "A^{T}=\\begin{bmatrix}-1&-4&3\\\\4&10&6\\\\3&15&11\\end{bmatrix}~~~~B^{T}=\\begin{bmatrix}-2\\\\7\\\\5\\end{bmatrix}\n",
    "$$\n",
    "\n",
    "En MATLAB se ecribe:"
   ]
  },
  {
   "cell_type": "code",
   "execution_count": 4,
   "id": "8d01775e-163c-493b-a385-e1adab7afc0b",
   "metadata": {},
   "outputs": [
    {
     "data": {
      "text/html": [
       "<html><body><pre>ans = 3x3 double\n",
       "    -1    -4     3\n",
       "     4    10     6\n",
       "     3    15    11\n",
       "</pre></body></html>"
      ],
      "text/plain": [
       "ans = 3x3 double\n",
       "    -1    -4     3\n",
       "     4    10     6\n",
       "     3    15    11\n"
      ]
     },
     "execution_count": 4,
     "metadata": {},
     "output_type": "execute_result"
    },
    {
     "data": {
      "text/html": [
       "<html><body><pre>ans = 3x1 double\n",
       "    -2\n",
       "     7\n",
       "     5\n",
       "</pre></body></html>"
      ],
      "text/plain": [
       "ans = 3x1 double\n",
       "    -2\n",
       "     7\n",
       "     5\n"
      ]
     },
     "execution_count": 4,
     "metadata": {},
     "output_type": "execute_result"
    }
   ],
   "source": [
    "A'\n",
    "B'"
   ]
  },
  {
   "cell_type": "markdown",
   "id": "f9fe787e-30c4-4318-813c-0373c81f29e5",
   "metadata": {},
   "source": [
    "## Operaciones con matrices\n",
    "\n",
    "Cuando se realizan operaciones con matrices, es muy importante que exista compatibilidad entre las dimensiones de las mismas. Para que sea posible una multiplicación entre matrices, bebe existrir un puente que genera compatibilidad entre las matrices para poder multiplicarlas, además de que las dimensiones de las matrices que se están multiplicando dicatrán las dimenciones de la matriz resultante: \n",
    "\n",
    "$$\n",
    "A=\\begin{bmatrix}-1&4&3\\\\-4&10&15\\\\3&6&11\\end{bmatrix}\n",
    "$$\n",
    "\n",
    "$$\n",
    "C=\\begin{bmatrix}-2\\\\7\\\\5\\end{bmatrix}\n",
    "$$\n",
    "\n",
    "La matriz $X$ que resulta de multiplicar la matriz $A$ por la matriz $C$ tendrá dimensiones $3\\times 1$:\n",
    "\n",
    "$$\n",
    "X=\\begin{bmatrix}45\\\\153\\\\91\\end{bmatrix}\n",
    "$$\n",
    "\n",
    "Se obtiene este resultado debido a las dimensiones de las matrices involucradas en el producto: $A \\in \\mathbb{R}^{3\\times 3}$ y $C\\in \\mathbb{R}^{3\\times 1}$. Se observa la compatibilidad de las matrices para la operación de multiplicación:\n",
    "\n",
    "$$\n",
    "(3\\times 3)(3 \\times 1) \t\\Longrightarrow   3\\times 1\n",
    "$$\n",
    "\n",
    "Por otro lado, si una matriz $Y$ es el resultado de la multiplicacion de la matriz $C$ por su transpuesta, se obtiene una matriz de dimensiones $3 \\times 3$ debido a que $C \\in \\mathbb{R}^{3\\times 1} $ y $C^{T} \\in \\mathbb{R}^{1\\times 3} $, dando como resultado las dimensiones: \n",
    "\n",
    "$$\n",
    "(3\\times 1)(1 \\times 3) \t\\Longrightarrow   3\\times 3\n",
    "$$\n",
    "\n",
    "\n",
    "$$\n",
    "Y=CC^T=\\begin{bmatrix}-2\\\\7\\\\5\\end{bmatrix}\\begin{bmatrix}-2&7&5\\end{bmatrix}=\\begin{bmatrix}-4&-14&-10\\\\-14&49&35\\\\-10&35&25\\end{bmatrix}\n",
    "$$\n",
    "\n"
   ]
  },
  {
   "cell_type": "code",
   "execution_count": 5,
   "id": "678fc332-ecb9-44ca-b239-eb8b7318f18a",
   "metadata": {},
   "outputs": [
    {
     "data": {
      "text/html": [
       "<html><body><pre>A = 3x3 double\n",
       "    -1     4     3\n",
       "    -4    10    15\n",
       "     3     6    11\n",
       "</pre></body></html>"
      ],
      "text/plain": [
       "A = 3x3 double\n",
       "    -1     4     3\n",
       "    -4    10    15\n",
       "     3     6    11\n"
      ]
     },
     "execution_count": 5,
     "metadata": {},
     "output_type": "execute_result"
    },
    {
     "data": {
      "text/html": [
       "<html><body><pre>C = 3x1 double\n",
       "    -2\n",
       "     7\n",
       "     5\n",
       "</pre></body></html>"
      ],
      "text/plain": [
       "C = 3x1 double\n",
       "    -2\n",
       "     7\n",
       "     5\n"
      ]
     },
     "execution_count": 5,
     "metadata": {},
     "output_type": "execute_result"
    },
    {
     "data": {
      "text/html": [
       "<html><body><pre>X = 3x1 double\n",
       "    45\n",
       "   153\n",
       "    91\n",
       "</pre></body></html>"
      ],
      "text/plain": [
       "X = 3x1 double\n",
       "    45\n",
       "   153\n",
       "    91\n"
      ]
     },
     "execution_count": 5,
     "metadata": {},
     "output_type": "execute_result"
    },
    {
     "data": {
      "text/html": [
       "<html><body><pre>Y = 3x3 double\n",
       "     4   -14   -10\n",
       "   -14    49    35\n",
       "   -10    35    25\n",
       "</pre></body></html>"
      ],
      "text/plain": [
       "Y = 3x3 double\n",
       "     4   -14   -10\n",
       "   -14    49    35\n",
       "   -10    35    25\n"
      ]
     },
     "execution_count": 5,
     "metadata": {},
     "output_type": "execute_result"
    }
   ],
   "source": [
    "A=[-1 4 3;-4 10 15; 3 6 11]\n",
    "C=[-2;7;5]\n",
    "\n",
    "X=A*B'\n",
    "\n",
    "Y=C*C'"
   ]
  },
  {
   "cell_type": "markdown",
   "id": "5ea87736-e34b-47d9-a782-e3736f555034",
   "metadata": {},
   "source": [
    "Una operación muy popular en el álgebra lienal y de matrices es la represntación de una forma cuadrática, sean las matrices $V$ y $A$:\n",
    "\n",
    "$$\n",
    "A=\\begin{bmatrix}1&-4&13\\\\-14&8&5\\\\3&-6&11\\end{bmatrix}\n",
    "$$\n",
    "\n",
    "$$\n",
    "V=\\begin{bmatrix}x\\\\y\\\\z\\end{bmatrix}\n",
    "$$\n",
    "\n",
    "La forma cuadrática del vector $V$ es:\n",
    "\n",
    "$$\n",
    "Z=\\begin{bmatrix}x&y&z\\end{bmatrix}\\begin{bmatrix}1&-4&13\\\\-14&8&5\\\\3&-6&11\\end{bmatrix}\\begin{bmatrix}x\\\\y\\\\z\\end{bmatrix}=V^TAV\n",
    "$$\n",
    "\n",
    "$$                        \n",
    "Z=x^2-14xy+3xz-4xy-8y^2+6yz+13xz+5yz+11z^2\n",
    "$$"
   ]
  },
  {
   "cell_type": "markdown",
   "id": "03ff6709-89ad-4a99-84de-cf7113fd728b",
   "metadata": {},
   "source": [
    "### Matrices diagonales\n",
    "\n",
    "La extracción de la diagonal principal de una matriz se puede realizar en MATLAB, accediendo manuelamente a las localidade de la diagonal de interés y alamacenandolos en una matriz o arreglo para su posterior manipulación, por ejemplo, para una matriz:\n",
    "\n",
    "$$\n",
    "A=\\begin{bmatrix}-1&4&3\\\\-4&10&15\\\\3&6&11\\end{bmatrix}\n",
    "$$\n",
    "\n",
    "Un vector que contiene a los elementos diagonal principal $D=\\begin{bmatrix}-1&10&15\\end{bmatrix}^T$es:\n",
    "\n",
    "$$\n",
    "D=\\begin{bmatrix}-1\\\\10\\\\11\\end{bmatrix}\n",
    "$$\n",
    "\n",
    "En MATLAB, esta extracción de la diagonal pirncipal se realiza con el siguiente código: \n"
   ]
  },
  {
   "cell_type": "code",
   "execution_count": 6,
   "id": "74beb87b-b5e4-4c7c-84bc-49e6bc4131d3",
   "metadata": {},
   "outputs": [
    {
     "data": {
      "text/html": [
       "<html><body><pre>A = 3x3 double\n",
       "    -1     4     3\n",
       "    -4    10    15\n",
       "     3     6    11\n",
       "</pre></body></html>"
      ],
      "text/plain": [
       "A = 3x3 double\n",
       "    -1     4     3\n",
       "    -4    10    15\n",
       "     3     6    11\n"
      ]
     },
     "execution_count": 6,
     "metadata": {},
     "output_type": "execute_result"
    },
    {
     "data": {
      "text/html": [
       "<html><body><pre>D = 3x1 double\n",
       "    -1\n",
       "    10\n",
       "    11\n",
       "</pre></body></html>"
      ],
      "text/plain": [
       "D = 3x1 double\n",
       "    -1\n",
       "    10\n",
       "    11\n"
      ]
     },
     "execution_count": 6,
     "metadata": {},
     "output_type": "execute_result"
    }
   ],
   "source": [
    "A=[-1 4 3;-4 10 15; 3 6 11]\n",
    "D=[A(1,1) A(2,2) A(3,3)]'"
   ]
  },
  {
   "cell_type": "markdown",
   "id": "63cf4e99-8c35-43a3-9a70-a7afc0821ae3",
   "metadata": {},
   "source": [
    "La extracción atomática se realiza usando el comando o función `diag()` como sigue:"
   ]
  },
  {
   "cell_type": "code",
   "execution_count": 7,
   "id": "ceba27c8-50de-4f9e-96eb-0d46e8eb4160",
   "metadata": {},
   "outputs": [
    {
     "data": {
      "text/html": [
       "<html><body><pre>D = 3x1 double\n",
       "    -1\n",
       "    10\n",
       "    11\n",
       "</pre></body></html>"
      ],
      "text/plain": [
       "D = 3x1 double\n",
       "    -1\n",
       "    10\n",
       "    11\n"
      ]
     },
     "execution_count": 7,
     "metadata": {},
     "output_type": "execute_result"
    }
   ],
   "source": [
    "D=diag(A)"
   ]
  },
  {
   "cell_type": "markdown",
   "id": "00c26552-4359-4ff6-931c-685317f78958",
   "metadata": {},
   "source": [
    "Es posible también extraer otras diagonales aparte de la diagonal principal si se define una segunda entrada o argumento **j** a la función o instrucción `diag()`. Por ejemplo, para la matriz $A$ antes definida, se puede extraer la diagonal formada a partir de la segunda columna:"
   ]
  },
  {
   "cell_type": "code",
   "execution_count": 8,
   "id": "2946d52d-c8a7-469f-89fe-a9920406a49f",
   "metadata": {},
   "outputs": [
    {
     "data": {
      "text/html": [
       "<html><body><pre>ans = 2x1 double\n",
       "     4\n",
       "    15\n",
       "</pre></body></html>"
      ],
      "text/plain": [
       "ans = 2x1 double\n",
       "     4\n",
       "    15\n"
      ]
     },
     "execution_count": 8,
     "metadata": {},
     "output_type": "execute_result"
    }
   ],
   "source": [
    "diag(A,1)"
   ]
  },
  {
   "cell_type": "markdown",
   "id": "873455ba-99d2-4568-bfc4-f961b7d68f8b",
   "metadata": {},
   "source": [
    "Se crear una matriz diagonal a partir de un vector, de manera tal que los elementos del vector formarán la diagonal principal de la matriz creada:"
   ]
  },
  {
   "cell_type": "code",
   "execution_count": 9,
   "id": "11d8d4e3-dee6-4f4f-9e86-3413b118fb8a",
   "metadata": {},
   "outputs": [
    {
     "data": {
      "text/html": [
       "<html><body><pre>D = 1x4 double\n",
       "     1    -4     5     6\n",
       "</pre></body></html>"
      ],
      "text/plain": [
       "D = 1x4 double\n",
       "     1    -4     5     6\n"
      ]
     },
     "execution_count": 9,
     "metadata": {},
     "output_type": "execute_result"
    },
    {
     "data": {
      "text/html": [
       "<html><body><pre>ans = 4x4 double\n",
       "     1     0     0     0\n",
       "     0    -4     0     0\n",
       "     0     0     5     0\n",
       "     0     0     0     6\n",
       "</pre></body></html>"
      ],
      "text/plain": [
       "ans = 4x4 double\n",
       "     1     0     0     0\n",
       "     0    -4     0     0\n",
       "     0     0     5     0\n",
       "     0     0     0     6\n"
      ]
     },
     "execution_count": 9,
     "metadata": {},
     "output_type": "execute_result"
    }
   ],
   "source": [
    "D=[1 -4 5 6]\n",
    "diag(D)"
   ]
  },
  {
   "cell_type": "markdown",
   "id": "4e9cc26a-4e2c-4dc8-b96c-228dae104b3d",
   "metadata": {},
   "source": [
    "Tambien se puede desplazar la diagonal principal en la matriz a crear, especicifando la columna de inicio deseada, en el momento de la creación de la matriz:"
   ]
  },
  {
   "cell_type": "code",
   "execution_count": 10,
   "id": "864e293b-ec3d-4cbd-9a15-8a6194456e21",
   "metadata": {},
   "outputs": [
    {
     "data": {
      "text/html": [
       "<html><body><pre>D = 1x4 double\n",
       "     1    -4     5     6\n",
       "</pre></body></html>"
      ],
      "text/plain": [
       "D = 1x4 double\n",
       "     1    -4     5     6\n"
      ]
     },
     "execution_count": 10,
     "metadata": {},
     "output_type": "execute_result"
    },
    {
     "data": {
      "text/html": [
       "<html><body><pre>ans = 6x6 double\n",
       "     0     0     1     0     0     0\n",
       "     0     0     0    -4     0     0\n",
       "     0     0     0     0     5     0\n",
       "     0     0     0     0     0     6\n",
       "     0     0     0     0     0     0\n",
       "     0     0     0     0     0     0\n",
       "</pre></body></html>"
      ],
      "text/plain": [
       "ans = 6x6 double\n",
       "     0     0     1     0     0     0\n",
       "     0     0     0    -4     0     0\n",
       "     0     0     0     0     5     0\n",
       "     0     0     0     0     0     6\n",
       "     0     0     0     0     0     0\n",
       "     0     0     0     0     0     0\n"
      ]
     },
     "execution_count": 10,
     "metadata": {},
     "output_type": "execute_result"
    }
   ],
   "source": [
    "D=[1 -4 5 6]\n",
    "diag(D,2)"
   ]
  },
  {
   "cell_type": "markdown",
   "id": "e18c8afa-e673-41b5-8c50-d572ea9e721f",
   "metadata": {},
   "source": [
    "### Matriz mágica\n",
    "\n",
    "Una matriz mágica es aquella que que tiene la característica de que la suma de los elementos de sus filas, colunas y diagonales es igual a la misma constante:\n",
    "\n",
    "$$\n",
    "M=\\begin{bmatrix}8&1&6\\\\3&5&7\\\\4&9&2\\end{bmatrix}\n",
    "$$\n",
    "\n",
    "En esta matriz especial se cumple que la suma de los elementos en las columnas:\n",
    "\n",
    "$$\n",
    "\\sum^{3}_{i=1}m_{i,1}=\\sum^{3}_{i=1}m_{i,2}=\\sum^{3}_{i=1}m_{i,3}=15\n",
    "$$\n",
    "\n",
    "Es igual a la suma de los elementos en las filas:\n",
    "\n",
    "$$\n",
    "\\sum^{3}_{j=1}m_{1,j}=\\sum^{3}_{j=1}m_{2,j}=\\sum^{3}_{j=1}m_{3,j}=15\n",
    "$$\n",
    "\n",
    "A su vez igual a la suma de los elementos de la diagonal principal;\n",
    "\n",
    "$$\n",
    "\\sum^{3}_{d=1}m_{d,d}=m_{1,1}+m_{2,2}+m_{3,3}=15\n",
    "$$\n",
    "\n",
    "En MATLAB, el comando o instrucción `magic(n)` crea una matriz de dimensiones $n\\times n$ denominada matriz mágica, que cumple con las características antes mencionadas. Lo anterior se ejemplifica con las siguientes líneas de código:\n"
   ]
  },
  {
   "cell_type": "code",
   "execution_count": 11,
   "id": "d065e199-c7ed-4028-8789-32253ba7acfb",
   "metadata": {},
   "outputs": [
    {
     "data": {
      "text/html": [
       "<html><body><pre>M = 3x3 double\n",
       "     8     1     6\n",
       "     3     5     7\n",
       "     4     9     2\n",
       "</pre></body></html>"
      ],
      "text/plain": [
       "M = 3x3 double\n",
       "     8     1     6\n",
       "     3     5     7\n",
       "     4     9     2\n"
      ]
     },
     "execution_count": 11,
     "metadata": {},
     "output_type": "execute_result"
    },
    {
     "data": {
      "text/html": [
       "<html><body><pre>suma_columnas = 1x3 double\n",
       "    15    15    15\n",
       "</pre></body></html>"
      ],
      "text/plain": [
       "suma_columnas = 1x3 double\n",
       "    15    15    15\n"
      ]
     },
     "execution_count": 11,
     "metadata": {},
     "output_type": "execute_result"
    },
    {
     "data": {
      "text/html": [
       "<html><body><pre>suma_diagonal = 15</pre></body></html>"
      ],
      "text/plain": [
       "suma_diagonal = 15"
      ]
     },
     "execution_count": 11,
     "metadata": {},
     "output_type": "execute_result"
    },
    {
     "data": {
      "text/html": [
       "<html><body><pre>suma_filas = 1x3 double\n",
       "    15    15    15\n",
       "</pre></body></html>"
      ],
      "text/plain": [
       "suma_filas = 1x3 double\n",
       "    15    15    15\n"
      ]
     },
     "execution_count": 11,
     "metadata": {},
     "output_type": "execute_result"
    }
   ],
   "source": [
    "M=magic(3) %Se crea una matriz mágica de dimensiones 3x3\n",
    "\n",
    "suma_columnas=sum(M)%Se calcula la suma de los elementos de las columnas\n",
    "\n",
    "suma_diagonal=sum(diag(M))%Se calcula la suma de los elementos en la diagonal principal\n",
    "\n",
    "%Para poder hacer la suma de los elementos en las filas se utiliza la transpuesta\n",
    "suma_filas=sum(M')"
   ]
  },
  {
   "cell_type": "markdown",
   "id": "28b5be55-6011-46dd-af5f-5dff2020c42f",
   "metadata": {},
   "source": [
    "## Manipulación de dos variables usando matrices\n",
    "\n",
    "En MATLAB, el comando `meshgrid()` toma los dos vectores de entrada y crea dos matrices bidimensionales que tiene el mismo número de filas y columnas. Por ejemplo, considérese la {numref}`Tabla_mesh`, donde cada uno de los elementos del vector **X**\n",
    "se multiplica por los elementos del vector **V**. Este conjuto de multiplicaciones equivale a la conversión se unidades si se considera a los elementos del vector **V** como los factores de conversión. En la {numref}`Tabla_mesh` se muestran algunas conversiones, el resto se podría calcular a mano para poder completar la tabla, por ejemplo el producto $0.1\\times 0.35=0.035$ se colocaría en la primera fila y tercera columna de la tabla. \n",
    "\n",
    "```{list-table} Un ejemplo de tabla de conversiones.\n",
    ":header-rows: 1\n",
    ":name: Tabla_mesh\n",
    "* - \n",
    "  - \n",
    "  - V\n",
    "  - \n",
    "* - **X**\n",
    "  - **0.15**\n",
    "  - **0.35**\n",
    "  - **0.24**\n",
    "* - **0.1**\n",
    "  - 0.015\n",
    "  - \n",
    "  - \n",
    "* - **0.2**\n",
    "  - \n",
    "  - 0.07\n",
    "  - \n",
    "* - **0.3**\n",
    "  - \n",
    "  - \n",
    "  - 0.072\n",
    "* - **0.4**\n",
    "  - \n",
    "  - 0.014\n",
    "  - \n",
    "```\n",
    "\n",
    "Para aplicar el comando `mesgrid()`, el número de columnas se determina por el número de elementos en un vector **V**, y el número de filas se determina mediante el número de elementos de un segundo vector **X**. Esta operación se llama mapeo de vectores en un arreglo bidimensional, el mapeo de vectores permitirá completar de forma automática la {numref}`Tabla_mesh` como se muestra abajo:"
   ]
  },
  {
   "cell_type": "code",
   "execution_count": 12,
   "id": "6828729d-0f04-4ca6-a70f-5b34dbb1a32b",
   "metadata": {},
   "outputs": [
    {
     "data": {
      "text/html": [
       "<html><body><pre>V = 1x3 double\n",
       "    0.1500    0.3500    0.2400\n",
       "</pre></body></html>"
      ],
      "text/plain": [
       "V = 1x3 double\n",
       "    0.1500    0.3500    0.2400\n"
      ]
     },
     "execution_count": 12,
     "metadata": {},
     "output_type": "execute_result"
    },
    {
     "data": {
      "text/html": [
       "<html><body><pre>X = 1x4 double\n",
       "    0.1000    0.2000    0.3000    0.4000\n",
       "</pre></body></html>"
      ],
      "text/plain": [
       "X = 1x4 double\n",
       "    0.1000    0.2000    0.3000    0.4000\n"
      ]
     },
     "execution_count": 12,
     "metadata": {},
     "output_type": "execute_result"
    },
    {
     "data": {
      "text/html": [
       "<html><body><pre>nuevo_V = 4x3 double\n",
       "    0.1500    0.3500    0.2400\n",
       "    0.1500    0.3500    0.2400\n",
       "    0.1500    0.3500    0.2400\n",
       "    0.1500    0.3500    0.2400\n",
       "</pre></body></html>"
      ],
      "text/plain": [
       "nuevo_V = 4x3 double\n",
       "    0.1500    0.3500    0.2400\n",
       "    0.1500    0.3500    0.2400\n",
       "    0.1500    0.3500    0.2400\n",
       "    0.1500    0.3500    0.2400\n"
      ]
     },
     "execution_count": 12,
     "metadata": {},
     "output_type": "execute_result"
    },
    {
     "data": {
      "text/html": [
       "<html><body><pre>nuevo_X = 4x3 double\n",
       "    0.1000    0.1000    0.1000\n",
       "    0.2000    0.2000    0.2000\n",
       "    0.3000    0.3000    0.3000\n",
       "    0.4000    0.4000    0.4000\n",
       "</pre></body></html>"
      ],
      "text/plain": [
       "nuevo_X = 4x3 double\n",
       "    0.1000    0.1000    0.1000\n",
       "    0.2000    0.2000    0.2000\n",
       "    0.3000    0.3000    0.3000\n",
       "    0.4000    0.4000    0.4000\n"
      ]
     },
     "execution_count": 12,
     "metadata": {},
     "output_type": "execute_result"
    }
   ],
   "source": [
    "V=[0.15 0.35 0.24]\n",
    "X=[0.1:0.1:0.4]\n",
    "[nuevo_V,nuevo_X]=meshgrid(V,X)"
   ]
  },
  {
   "cell_type": "markdown",
   "id": "a093f457-989d-4492-83ed-f7fb74ea1ae4",
   "metadata": {},
   "source": [
    "La {numref}`Tabla_mesh` se completa con el resultado de multiplicar los factores de conversión y los valores a convertir con la siguente instrucción:"
   ]
  },
  {
   "cell_type": "code",
   "execution_count": 13,
   "id": "e3d2023f-d3f1-4c4f-886f-ad37ad99cb51",
   "metadata": {},
   "outputs": [
    {
     "data": {
      "text/html": [
       "<html><body><pre>ans = 4x3 double\n",
       "    0.0150    0.0350    0.0240\n",
       "    0.0300    0.0700    0.0480\n",
       "    0.0450    0.1050    0.0720\n",
       "    0.0600    0.1400    0.0960\n",
       "</pre></body></html>"
      ],
      "text/plain": [
       "ans = 4x3 double\n",
       "    0.0150    0.0350    0.0240\n",
       "    0.0300    0.0700    0.0480\n",
       "    0.0450    0.1050    0.0720\n",
       "    0.0600    0.1400    0.0960\n"
      ]
     },
     "execution_count": 13,
     "metadata": {},
     "output_type": "execute_result"
    }
   ],
   "source": [
    "nuevo_V.*nuevo_X"
   ]
  },
  {
   "cell_type": "markdown",
   "id": "211d4f50-21e8-4d08-b2c4-65cc8f6d2c79",
   "metadata": {},
   "source": [
    "Se observa que todas las filas en **nuevo_V** son las mismas y todas las columnas en **nuevo_X** son las mismas, de manera que se hace posible multiplicar **nuevo_V** por **nuevo_X** y obtener una tabla de resultados en los que la primera columna del arreglo **nuevo_X** es un arreglo con valores de referencia y **nuevo_V** es un arreglo de factores de conversión:"
   ]
  },
  {
   "cell_type": "code",
   "execution_count": 14,
   "id": "b73da183-485a-4b53-84a6-8a98c4aa8fe9",
   "metadata": {},
   "outputs": [
    {
     "name": "stdout",
     "output_type": "stream",
     "text": [
      "  Tabla de equivalencias de distancias \n",
      "centímetros   pulgadas    pies    yardas\n",
      "    1.000      0.394     0.033    0.011 \n",
      "    2.500      0.984     0.082    0.027 \n",
      "    4.000      1.575     0.131    0.044 \n",
      "    5.500      2.165     0.180    0.060 \n",
      "    7.000      2.756     0.230    0.077 \n",
      "    8.500      3.346     0.279    0.093 \n",
      "   10.000      3.937     0.328    0.109 \n",
      "   11.500      4.528     0.377    0.126 \n",
      "   13.000      5.118     0.427    0.142 \n",
      "   14.500      5.709     0.476    0.159 \n",
      "   16.000      6.299     0.525    0.175 \n",
      "   17.500      6.890     0.574    0.191 \n",
      "   19.000      7.480     0.623    0.208 \n",
      "   20.500      8.071     0.673    0.224 \n",
      "   22.000      8.661     0.722    0.241 \n",
      "   23.500      9.252     0.771    0.257 \n",
      "   25.000      9.843     0.820    0.273 \n",
      "   26.500     10.433     0.869    0.290 \n",
      "   28.000     11.024     0.919    0.306 \n",
      "   29.500     11.614     0.968    0.323 \n",
      "   31.000     12.205     1.017    0.339 \n",
      "   32.500     12.795     1.066    0.355 \n"
     ]
    }
   ],
   "source": [
    "cm=[1:1.5:33];\n",
    "% Se crea el vector con las equivalencias o factores de conversión\n",
    "% de centímetros a pulgadas pies y yardas.\n",
    "\n",
    "conversion= [0.393701 0.0328084 0.0109361];\n",
    "\n",
    "% Se crean los vectores que almacenan la conversión\n",
    "[factor_conversion,longitud]=meshgrid(conversion,cm);\n",
    "\n",
    "% En la matriz llamada equivalencias se almacenan las \n",
    "% conversiones, una vez que se aplica la multiplicación por el\n",
    "% conjunto de factores correspondiente\n",
    "equivalencias=(factor_conversion.*longitud);\n",
    "\n",
    "% Tabla de conversión de centímetros a pulgadas, pies y yardas\n",
    "tabla=[cm;equivalencias']; % Se agrupan los datos convertidos \n",
    "%en una matriz que será la tabla de datos\n",
    "\n",
    "% Finalmente, se imprime en la pantalla la tabla de equivalencias\n",
    "disp(\"  Tabla de equivalencias de distancias \")\n",
    "disp(\"centímetros   pulgadas    pies    yardas\")\n",
    "fprintf(\"   %6.3f     %6.3f    %6.3f   %6.3f \\n\",tabla)"
   ]
  },
  {
   "cell_type": "markdown",
   "id": "58d8f5f2-a977-467d-9a7b-e8a1ff4243c7",
   "metadata": {},
   "source": [
    "En el ambiente de programación MATLAB es posible generar matrices con características especiales como las que se muestran en la {numref}`Tabla_mesh`.\n",
    "\n",
    "```{list-table} Tabla de formatos especiales.\n",
    ":header-rows: 1\n",
    ":name: Tabla_matrices\n",
    "* - Comando de creación\n",
    "  - Descripción\n",
    "  - Resultado\n",
    "* - `ones(m)` \n",
    "  - Crea una matriz $m\\times m$ de unos\n",
    "  - `A=ones(2)`$=\\begin{bmatrix}1&1\\\\1&1\\end{bmatrix}$\n",
    "* - `ones(m,n)`\n",
    "  - Crea una matriz $m\\times n$ de unos\n",
    "  - `A=ones(2,3)`$=\\begin{bmatrix}1&1&1\\\\1&1&1\\end{bmatrix}$\n",
    "* - `eye(m)`\n",
    "  - Crea una matriz identidad $m\\times m$\n",
    "  - `A=eye(3)`$=\\begin{bmatrix}1&0&0\\\\0&1&0\\\\0&0&1 \\end{bmatrix}$\n",
    "* - `zeros(m)` \n",
    "  - Crea una matriz $m\\times m$ de ceros\n",
    "  - `A=zeros(2)`$=\\begin{bmatrix}0&0\\\\0&0\\end{bmatrix}$\n",
    "* - `diag(A)`\n",
    "  - Extrae la diagonal principal de una matriz\n",
    "  - $A=\\begin{bmatrix}1&4&7\\\\2&-3&5\\\\-8&5&7\\end{bmatrix}$,$~~~~~~$`diag(A)`$=\\begin{bmatrix}1\\\\-3\\\\7\\end{bmatrix}$\n",
    "* - \n",
    "  - Si se trata de un vector de tamaño $n$, el comando creará una matriz cuadrada de dimensiones $n \\times n$ donde el vecor      es la diagonal principal \n",
    "  - $V=\\begin{bmatrix}-2&3&4\\end{bmatrix}$,$~~~~~~~~~~~~~~~~$`diag(V)`$=\\begin{bmatrix}-2&0&0\\\\0&3&0\\\\0&0&4\\end{bmatrix}$\n",
    "* - `flipud(A)`\n",
    "  -  Voltea una matriz verticalmente\n",
    "  - $A=\\begin{bmatrix}11&0&0\\\\0&-13&0\\\\0&0&7\\end{bmatrix}$,$~~~~$`flipud(A)`$=\\begin{bmatrix}0&0&7\\\\0&-13&0\\\\11&0&0\\end{bmatrix}$\n",
    "* - `magic(3)`\n",
    "  - Crea una matriz mágica de dimensiones $n\\times n$\n",
    "  - `magic(V)`$=\\begin{bmatrix}8&1&6\\\\3&5&7\\\\4&9&2\\end{bmatrix}$\n",
    "* - `:`\n",
    "  - El operador **:** sirve para crear y seleccionar datos en matrices\n",
    "  - $V=\\begin{bmatrix}-2&3&14&15&9\\end{bmatrix}$,$~~~~~~~~~~~~~~$`V(2:4)`$=\\begin{bmatrix}3&14&15\\end{bmatrix}$\n",
    "* - `...`\n",
    "  - El operador elipsis **...** indica continuación en la línea siguiente\n",
    "  - `X=[3,14,15,...`$~~~~~~~~~~~~~~~~~~~~~~~$`4,7,8,19,20]`$~~~~~~~~~~~~~~~~~~~~~~~~~~~~~~~$\n",
    "    $X=[3,14,15,4,7,8,19,20]$\n",
    "```\n",
    "\n"
   ]
  },
  {
   "cell_type": "markdown",
   "id": "41b6fb61-152a-4fa3-ab37-9ccb3022f890",
   "metadata": {},
   "source": [
    "## Ejercicio de la práctica 7\n",
    "\n",
    "1. Construya una matriz $A$ de ceros de  dimensiones $4\\times4$.\n",
    "2. Construya una matriz identidad $I$ de dimensiones $4\\times4$.\n",
    "3. Construya una matriz $B$ de dimensiones $4\\times 3$, tal que todos sus elementos sean iguales a $\\frac{\\pi}{2}$\n",
    "4. Obtenga el resultado de la forma cuadrática de las matrices:\n",
    "\n",
    "$$\n",
    "C=\\begin{bmatrix}-2.5&3.2&15.4\\\\-11.3&3.5&7.8\\\\1.25&4.7&4.6\\end{bmatrix}~~~~~D=\\begin{bmatrix}-2.5&7.5&3.8\\end{bmatrix}\n",
    "$$\n",
    "\n",
    "5. Construya una matriz mágica de tamaño $7\\times 7$.\n",
    "   \n",
    "    a. Extraiga la diagonal inferior izquierda de la matriz\n",
    "   \n",
    "    b. Extraiga la diagonal pricipal\n",
    "   \n",
    "    c. Confirme que la suma de las filas, las columnas y las diagonales son iguales.\n",
    "   \n",
    "    d. Multiplique la matriz mágica por su inversa.\n",
    "\n",
    "7. Genere una matriz $E$ de dimensiones $3\\times 3$ a partir de los vectores\n",
    "\n",
    "$$\n",
    "F=\\begin{bmatrix}-1.25&4.7&4.6\\end{bmatrix}~~~~~G=\\begin{bmatrix}-5.25\\\\7.35\\\\3.84\\end{bmatrix}\n",
    "$$\n",
    "\n",
    "7. Aplique el comando `meshgrid()` para resolver el siguiente problema:\n",
    "\n",
    "La presión $P$ medida por un barómetro es igual al producto de la altura de la columna de un fluido $h$, la densidad\n",
    "del fluido $\\rho$ y la aceleración de la gravedad, $g$ como lo indica la sigiente ecuación:\n",
    "\n",
    "$$\n",
    "P=h\\rho g\n",
    "$$\n",
    "\n",
    "Si se despeja la altura $h$ se obtiene:\n",
    "\n",
    "$$\n",
    "h=\\frac{P}{\\rho g}\n",
    "$$\n",
    "\n",
    "Escriba un programa que despliegue una tabla con los valores de altura $h$ a los que se elevará una columna de líquido ante un rango de presiones de 0 a 10 kilo Pascales, para dos líquidos diferentes, agua pesada con $\\rho =1110kg/m^3$ y mercurio con una densidad $\\rho =13560kg/m^3$. Recuerde que un kilo Pascal equivale a 1000 Pascales.\n",
    "\n",
    "8. El área de un triángulo se obtiene como área$=\\frac{1}{2}bh$. Encuentre  el área de un grupo de triángulos en centímetros cuadrados, cuya base varía de 2 a 15 pulgadas y cuya altura varía de 2 a 18 pulgadas. Reporte los cálculos en una tabla. Use un espaciamiento adecuado para sus variables de cálculo.\n"
   ]
  },
  {
   "cell_type": "code",
   "execution_count": null,
   "id": "d03ac896-e426-4011-b7b5-a8b5c0e0e5f8",
   "metadata": {},
   "outputs": [],
   "source": []
  }
 ],
 "metadata": {
  "kernelspec": {
   "display_name": "MATLAB Kernel",
   "language": "matlab",
   "name": "jupyter_matlab_kernel"
  },
  "language_info": {
   "file_extension": ".m",
   "mimetype": "text/x-matlab",
   "name": "matlab"
  }
 },
 "nbformat": 4,
 "nbformat_minor": 5
}
