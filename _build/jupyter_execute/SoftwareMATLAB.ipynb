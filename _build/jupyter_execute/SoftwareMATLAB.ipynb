{
 "cells": [
  {
   "cell_type": "markdown",
   "id": "bd0a24ca",
   "metadata": {},
   "source": [
    "# Software MATLAB\n",
    "\n",
    "Para empezar con este cuadernillo de prácticas, empezaremos por definir el software MATLAB usando la definición dada por Moore {cite:t}`Moore2007`: ``MATLAB es una de las muchas sofisticadas herramientas de computación disponibles\n",
    "en el comercio para resolver problemas de matemáticas, tales como Maple, Mathematica y MathCad... El nombre mismo de MATLAB es una abreviatura de Matrix Laboratory, laboratorio matricial``\n",
    "\n",
    "\n",
    "La interfaz gráfica o ventana principal del software se muestra en la {numref}`figura1`.\n",
    "```{figure} /images/figura1.jpg\n",
    ":height: 450px\n",
    ":name: figura1\n",
    "Pantalla principal de MATLAB\n",
    "```\n",
    "\n",
    "Las funciones y operaciones básicas, así como los cálculos con fórmulas complejas se llevan a cabo utilizando la ventana de comandos (ver {numref}`figura2`). Esta ventana de comandos recueerda a una calculadora científica, como es posible intuir, la sintaxis para realizar operaciones es muy similar a la que se utiliza en ese tipo de calculadoras. Para realizar una operación básica basta con expresarla con la sintaxis correcta, por ejemplo:"
   ]
  },
  {
   "cell_type": "code",
   "execution_count": 1,
   "id": "474532df",
   "metadata": {
    "tags": [
     "remove-stderr"
    ]
   },
   "outputs": [
    {
     "name": "stdout",
     "output_type": "stream",
     "text": [
      "ans = 8\n"
     ]
    },
    {
     "name": "stdout",
     "output_type": "stream",
     "text": [
      "ans = 12.566\n"
     ]
    },
    {
     "name": "stdout",
     "output_type": "stream",
     "text": [
      "ans = 201.06\n"
     ]
    }
   ],
   "source": [
    "2^3\n",
    "area_circulo(2)\n",
    "area_circulo(8)"
   ]
  },
  {
   "cell_type": "markdown",
   "id": "a0911325",
   "metadata": {},
   "source": [
    "```{note}\n",
    "<div align='justify'>\n",
    "Es posible copiar el código directamente de este cuadernillo y pegarlo en el command window de MATLAB.\n",
    "</div>\n",
    "```\n",
    "\n",
    "\n",
    "Las sub-ventanas principales son las mostradas en las Figuras: {numref}`figura2`, {numref}`fig3`, {numref}`figura4` y {numref}`figura5`.\n",
    "\n",
    "\n",
    "```{figure} /images/figura2a.jpg\n",
    ":align: left\n",
    ":height: 150px\n",
    ":name: figura2\n",
    "Ventana de comandos (Command window)\n",
    "\n",
    "```\n",
    "```{figure} /images/figura2b.jpg\n",
    ":align: right\n",
    ":height: 150px\n",
    ":name: fig3\n",
    "Area del espacio de trabajo (Workspace)\n",
    "\n",
    "```\n",
    "\n",
    "```{figure} /images/figura3b.jpg\n",
    ":align: left\n",
    ":height: 150px\n",
    ":name: figura4\n",
    "Area de la carpeta activa (Current folder)\n",
    "\n",
    "```\n",
    "```{figure} /images/figura3c.jpg\n",
    ":align: right\n",
    ":height: 150px\n",
    ":name: figura5\n",
    "Area de inicio general de MATLAB (Home)\n",
    "\n",
    "```\n",
    "\n",
    "## Las ecuaciones se introducen de la siguiente manera\n",
    "\n",
    "```{math}\n",
    ":label: eq1\n",
    "\\begin{eqnarray}\n",
    "\\dot{x}_1&=-\\frac{R}{L}x_1-\\frac{1}{L}x_2+\\frac{1}{L}V_s\\\\\n",
    "\\dot{x}_2&=\\frac{1}{C}x_1-\\frac{1}{C}I_{R_L}(x_2)\n",
    "\\end{eqnarray}\n",
    "```\n",
    "## Y las tablas así:\n",
    "\n",
    "```{list-table} Tabla de parámetros\n",
    ":header-rows: 1\n",
    ":name: Tabla 1\n",
    "* - Parameter\n",
    "  - Value\n",
    "* - $$I_s$$\n",
    "  - $$0.0015sin(100\\pi t)~[A]$$\n",
    "* - $$R$$\n",
    "  - $$220~[\\Omega]$$\n",
    "* - $$L$$  \n",
    "  - $$11.5~[H]$$ \n",
    "* - $$C$$ \n",
    "  - $$1~\\mu [F]$$\n",
    "* - $$R_L$$\n",
    "  - $$1000~[\\Omega]$$\n",
    "```"
   ]
  }
 ],
 "metadata": {
  "jupytext": {
   "formats": "md:myst",
   "text_representation": {
    "extension": ".md",
    "format_name": "myst",
    "format_version": 0.13,
    "jupytext_version": "1.11.5",
    "language": "es"
   }
  },
  "kernelspec": {
   "display_name": "Octave",
   "language": "Octave",
   "name": "Octave"
  },
  "language_info": {
   "file_extension": ".m",
   "help_links": [
    {
     "text": "GNU Octave",
     "url": "https://www.gnu.org/software/octave/support.html"
    },
    {
     "text": "Octave Kernel",
     "url": "https://github.com/Calysto/octave_kernel"
    },
    {
     "text": "MetaKernel Magics",
     "url": "https://metakernel.readthedocs.io/en/latest/source/README.html"
    }
   ],
   "mimetype": "text/x-octave",
   "name": "octave",
   "version": "8.3.0"
  },
  "source_map": [
   14,
   31,
   36
  ]
 },
 "nbformat": 4,
 "nbformat_minor": 5
}