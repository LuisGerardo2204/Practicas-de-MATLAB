{
 "cells": [
  {
   "attachments": {},
   "cell_type": "markdown",
   "id": "dc411ab3-620c-4e68-8ff4-d527b3bf07b2",
   "metadata": {},
   "source": [
    "# Práctica 1\n",
    "\n",
    "En esta práctica se utilizan comandos básicos de MATLAB y un ejemplo sencillo de solución de un sistema de ecuaciones, utilizando matrices.\n",
    "\n",
    "## Operaciones y comandos básicos\n",
    "\n",
    "A continuacion se enlistan los comandos básicos que se usan comunmente en la ventana de comandos (command window) de MATLAB.\n",
    "\n",
    "1.-Limpiar pantalla de comandos: >>clc\n",
    "\n",
    "2.-Limpiar las variables almacenadas en memoria: >>clear\n",
    "\n",
    "3.-Despliegue de información de las variables: >>whos\n",
    "\n",
    "4.-Cerrar todas las gráficas de datos: >>close all\r\n",
    "En MATLAB, tanto en la ventana de comandos como en el editor de textos, el símbolo de porcentaje \"%\" se utiliza para escribir comentarios.\n"
   ]
  },
  {
   "cell_type": "code",
   "execution_count": 1,
   "id": "b455bf21-738a-4d3a-afe3-a7d9fe7730be",
   "metadata": {},
   "outputs": [
    {
     "data": {
      "text/html": [
       "<html><body><pre>a = 3</pre></body></html>"
      ],
      "text/plain": [
       "a = 3"
      ]
     },
     "execution_count": 1,
     "metadata": {},
     "output_type": "execute_result"
    }
   ],
   "source": [
    "a=3 %Asignación del valor 3 a la variable a"
   ]
  },
  {
   "cell_type": "markdown",
   "id": "ace0e752-a64c-49b5-8962-5d42ae0b3f06",
   "metadata": {},
   "source": [
    "Como se puede observar en la salida, el comentario al lado de la instrucción a=3 no se despliega \n",
    "en la ventana de comandos. Para desplegar texto en el command window se usa la función interna de MATLAB disp(\"mensaje\"). A continuación se presentan ejemplos de los resultados del uso de comandos \n",
    "y operaciones comunes en MATLAB:\n",
    "\n",
    "1.- Creación de variables y asignación de valores numéricos: a=3;b=45;\n",
    "\n",
    "2.- Multiplicación: a*b\n",
    "\n",
    "3.- Suma: a+b\n",
    "\n",
    "4.- Resta: a-b\n",
    "\n",
    "5.-División: a/b\n",
    "\n",
    "6.-Potencia: a^b (a elevado a la potencia b)\n",
    "\n",
    "7.- Raiz cuadrada: sqrt(b) \n",
    "\n",
    "Para reprodicir estas operaciones, se puede copiar y pegar el conjunto de instrucciones siguiente en el command wondow de MATLAB."
   ]
  },
  {
   "cell_type": "code",
   "execution_count": 2,
   "id": "e7deced8-d48f-4626-9e5e-b8245dfecc6a",
   "metadata": {},
   "outputs": [
    {
     "data": {
      "text/html": [
       "<html><body><pre>a = 3</pre></body></html>"
      ],
      "text/plain": [
       "a = 3"
      ]
     },
     "execution_count": 2,
     "metadata": {},
     "output_type": "execute_result"
    },
    {
     "data": {
      "text/html": [
       "<html><body><pre>b = 45</pre></body></html>"
      ],
      "text/plain": [
       "b = 45"
      ]
     },
     "execution_count": 2,
     "metadata": {},
     "output_type": "execute_result"
    },
    {
     "name": "stdout",
     "output_type": "stream",
     "text": [
      "Multiplicación a*b\n"
     ]
    },
    {
     "data": {
      "text/html": [
       "<html><body><pre>ans = 135</pre></body></html>"
      ],
      "text/plain": [
       "ans = 135"
      ]
     },
     "execution_count": 2,
     "metadata": {},
     "output_type": "execute_result"
    },
    {
     "name": "stdout",
     "output_type": "stream",
     "text": [
      "Suma a+b\n"
     ]
    },
    {
     "data": {
      "text/html": [
       "<html><body><pre>ans = 48</pre></body></html>"
      ],
      "text/plain": [
       "ans = 48"
      ]
     },
     "execution_count": 2,
     "metadata": {},
     "output_type": "execute_result"
    },
    {
     "name": "stdout",
     "output_type": "stream",
     "text": [
      "Resta a-b\n"
     ]
    },
    {
     "data": {
      "text/html": [
       "<html><body><pre>ans = -42</pre></body></html>"
      ],
      "text/plain": [
       "ans = -42"
      ]
     },
     "execution_count": 2,
     "metadata": {},
     "output_type": "execute_result"
    },
    {
     "name": "stdout",
     "output_type": "stream",
     "text": [
      "División a/b\n"
     ]
    },
    {
     "data": {
      "text/html": [
       "<html><body><pre>ans = 0.0667</pre></body></html>"
      ],
      "text/plain": [
       "ans = 0.0667"
      ]
     },
     "execution_count": 2,
     "metadata": {},
     "output_type": "execute_result"
    },
    {
     "name": "stdout",
     "output_type": "stream",
     "text": [
      "Potencia a^b (a elevado a la potencia b)\n"
     ]
    },
    {
     "data": {
      "text/html": [
       "<html><body><pre>ans = 27</pre></body></html>"
      ],
      "text/plain": [
       "ans = 27"
      ]
     },
     "execution_count": 2,
     "metadata": {},
     "output_type": "execute_result"
    },
    {
     "name": "stdout",
     "output_type": "stream",
     "text": [
      "Raiz cuadrada de a\n"
     ]
    },
    {
     "data": {
      "text/html": [
       "<html><body><pre>ans = 6.7082</pre></body></html>"
      ],
      "text/plain": [
       "ans = 6.7082"
      ]
     },
     "execution_count": 2,
     "metadata": {},
     "output_type": "execute_result"
    }
   ],
   "source": [
    "clear\n",
    "a=3  % Creación de variables y asignación de valores numéricos\n",
    "b=45 % \n",
    "disp(\"Multiplicación a*b\")\n",
    "a*b\n",
    "disp(\"Suma a+b\")\n",
    "a+b \n",
    "disp(\"Resta a-b\")\n",
    "a-b  \n",
    "disp(\"División a/b\")\n",
    "a/b \n",
    "disp(\"Potencia a^b (a elevado a la potencia b)\")\n",
    "a^3  \n",
    "disp(\"Raiz cuadrada de a\")\n",
    "sqrt(b) "
   ]
  },
  {
   "cell_type": "markdown",
   "id": "2c2b6544-6c8f-4a48-96a9-2d801fd2a319",
   "metadata": {},
   "source": [
    "Una instrucción muy util es la de limpiar pantalla, esto permite borrar resultados anteriores para evitar la saturación de datos desplegados."
   ]
  },
  {
   "cell_type": "code",
   "execution_count": 3,
   "id": "fce84c7b-2556-4bf4-83f1-605c1b4f749d",
   "metadata": {},
   "outputs": [],
   "source": [
    "clc"
   ]
  },
  {
   "cell_type": "markdown",
   "id": "5247a921-ceda-4bcb-b2f2-7311b79c0ab5",
   "metadata": {},
   "source": [
    "También se puede desplegar información de las variables creadas y su tamaño en memoria"
   ]
  },
  {
   "cell_type": "code",
   "execution_count": 4,
   "id": "57464925-e253-483c-8058-e1f440663303",
   "metadata": {},
   "outputs": [
    {
     "name": "stdout",
     "output_type": "stream",
     "text": [
      "  Name      Size            Bytes  Class     Attributes\n",
      "\n",
      "  a         1x1                 8  double              \n",
      "  ans       1x1                 8  double              \n",
      "  b         1x1                 8  double              \n",
      "\n"
     ]
    }
   ],
   "source": [
    "whos"
   ]
  },
  {
   "cell_type": "code",
   "execution_count": 5,
   "id": "4a44d57c-6b71-4a51-88ee-90aa5d1d7523",
   "metadata": {},
   "outputs": [],
   "source": [
    "close all"
   ]
  },
  {
   "cell_type": "markdown",
   "id": "4451bc43-3c34-42b1-bb9b-f3f2e67cb032",
   "metadata": {},
   "source": [
    "El comando clear limpiará las variables creadas en la ejecución de los comandos anteriores.\n",
    "Fácilmente se puede comprobar lo anterior usando un comando clear, seguido de un comando whos, esto producirá una salida vacía que indica que no hay variables en el espacio de trabajo o workspace.\n"
   ]
  },
  {
   "cell_type": "code",
   "execution_count": 6,
   "id": "c59d8b22-e353-413a-9da6-e4067fee1dd0",
   "metadata": {},
   "outputs": [],
   "source": [
    "clear\n",
    "whos"
   ]
  },
  {
   "cell_type": "markdown",
   "id": "44a137c9-5445-48dc-9205-04e6da4d0cbc",
   "metadata": {},
   "source": [
    "## Conversión de grados Celsius a Farenheit\n",
    "Es posible realizar la conversión de un conjunto de datos en un sistema de unidades a otro usando variables tipo arreglo en MATLAB. Haremos un ejemplo de la conversión a grados Farenheit de un conjunto de datos almacenados en un arreglo en las siguientes líneas de código. Se crea el conjunto de datos en grados Centígrados $-4<°C<4$ con incremento de $1$ $°C$, para tener un total de 10 datos. \n"
   ]
  },
  {
   "cell_type": "code",
   "execution_count": 7,
   "id": "88975c7f-093a-4b11-8669-0fde1cba695a",
   "metadata": {
    "jupyter": {
     "source_hidden": true
    }
   },
   "outputs": [],
   "source": [
    "C=[-4:1:4];"
   ]
  },
  {
   "cell_type": "markdown",
   "id": "c54e3a20-db53-4251-994c-917afa1e9447",
   "metadata": {},
   "source": [
    "La fórmula para la conversión de grados Centígrados a Farenheit es:\n",
    "```{math}\n",
    ":label: conv_grados\n",
    "\\begin{equation}\n",
    "   °F=\\frac{9}{5}°C+32\n",
    " \\end{equation}\n",
    "```\n",
    "En MATLAB, la operación se realiza en el vector completo."
   ]
  },
  {
   "cell_type": "code",
   "execution_count": 8,
   "id": "44f044cb-99d8-47ed-9285-3bb1c43ca79f",
   "metadata": {},
   "outputs": [],
   "source": [
    "F=(9/5)*C+32;"
   ]
  },
  {
   "cell_type": "markdown",
   "id": "7605ebc9-1439-491e-b27b-b9c379684db2",
   "metadata": {},
   "source": [
    "Se puede desplegar la información en forma de tabla si se crea una variable tipo matriz para tal efecto."
   ]
  },
  {
   "cell_type": "code",
   "execution_count": 9,
   "id": "ca6675a0-f468-464f-9476-d74e70aa2c17",
   "metadata": {},
   "outputs": [
    {
     "data": {
      "text/html": [
       "<html><body><pre>Tabla_conv = 9x2 double\n",
       "   -4.0000   24.8000\n",
       "   -3.0000   26.6000\n",
       "   -2.0000   28.4000\n",
       "   -1.0000   30.2000\n",
       "         0   32.0000\n",
       "    1.0000   33.8000\n",
       "    2.0000   35.6000\n",
       "    3.0000   37.4000\n",
       "    4.0000   39.2000\n",
       "</pre></body></html>"
      ],
      "text/plain": [
       "Tabla_conv = 9x2 double\n",
       "   -4.0000   24.8000\n",
       "   -3.0000   26.6000\n",
       "   -2.0000   28.4000\n",
       "   -1.0000   30.2000\n",
       "         0   32.0000\n",
       "    1.0000   33.8000\n",
       "    2.0000   35.6000\n",
       "    3.0000   37.4000\n",
       "    4.0000   39.2000\n"
      ]
     },
     "execution_count": 9,
     "metadata": {},
     "output_type": "execute_result"
    }
   ],
   "source": [
    "Tabla_conv=[C' F']"
   ]
  },
  {
   "cell_type": "markdown",
   "id": "5dd78f81-9709-43b9-bae3-033fce851920",
   "metadata": {},
   "source": [
    "La comilla simple se usa para generar la versión transpuesta de un vector o matriz, es decir, se puede convertir un vector fila en un vector columna, por ejemplo: "
   ]
  },
  {
   "cell_type": "code",
   "execution_count": 10,
   "id": "23c6fe7b-37cc-49a9-928d-9e9da57ae7d5",
   "metadata": {},
   "outputs": [
    {
     "data": {
      "text/html": [
       "<html><body><pre>V = 1x3 double\n",
       "     1    -1     3\n",
       "</pre></body></html>"
      ],
      "text/plain": [
       "V = 1x3 double\n",
       "     1    -1     3\n"
      ]
     },
     "execution_count": 10,
     "metadata": {},
     "output_type": "execute_result"
    }
   ],
   "source": [
    "V=[1 -1 3]"
   ]
  },
  {
   "cell_type": "markdown",
   "id": "0041ff9a-cc73-47f8-a418-90a4873214bd",
   "metadata": {},
   "source": [
    "Su versión transpuesta $V^{T}$ es "
   ]
  },
  {
   "cell_type": "code",
   "execution_count": 11,
   "id": "bc2d24fb-54dc-4daf-9eea-e61b3bc20999",
   "metadata": {},
   "outputs": [
    {
     "data": {
      "text/html": [
       "<html><body><pre>ans = 3x1 double\n",
       "     1\n",
       "    -1\n",
       "     3\n",
       "</pre></body></html>"
      ],
      "text/plain": [
       "ans = 3x1 double\n",
       "     1\n",
       "    -1\n",
       "     3\n"
      ]
     },
     "execution_count": 11,
     "metadata": {},
     "output_type": "execute_result"
    }
   ],
   "source": [
    "V'"
   ]
  },
  {
   "cell_type": "markdown",
   "id": "489bdc87-3b8b-4fd9-8459-c8ea0ff0060c",
   "metadata": {},
   "source": [
    "En caso de ser necesario, es posible hacer la conversión de grados Centígrados a Farenheit con una mayor resolución, de manera tal que en vez de mostrar una tabla de conversiones se puede mostrar una gráfica. Por ejemplo, para en rango de grados centígrados $-4<°C<40$ con incremento de $0.5$ $°C$, para tener un total de 91 pares de datos, en MATLAB se expresa lo siguiente:"
   ]
  },
  {
   "cell_type": "code",
   "execution_count": 12,
   "id": "cb62cd33-7a76-4425-abce-188f9f6b5e0c",
   "metadata": {},
   "outputs": [],
   "source": [
    "C=[-5:0.5:40];"
   ]
  },
  {
   "cell_type": "markdown",
   "id": "c583a854-96cf-49bd-9f24-d6786e087235",
   "metadata": {},
   "source": [
    "Se hace la conversión a grados Farenheit como en el caso anterior, usando la Ecuación {eq}`conv_grados`"
   ]
  },
  {
   "cell_type": "code",
   "execution_count": 13,
   "id": "381468db-4db3-47e3-879f-b8485f4ea918",
   "metadata": {},
   "outputs": [],
   "source": [
    "F=(9/5)*C+32;"
   ]
  },
  {
   "cell_type": "markdown",
   "id": "e02b5404-dba6-4e2e-aa6b-7a51b92fc8d9",
   "metadata": {},
   "source": [
    "Se hace una gráfica de °F contra °C, con la instrucción plot() en la que se introduce la variable independiente\n",
    "y la variable dependiente separadas por una coma"
   ]
  },
  {
   "cell_type": "code",
   "execution_count": 14,
   "id": "6c431d95-5643-404d-8bf2-6d7359a30bf9",
   "metadata": {},
   "outputs": [
    {
     "data": {
      "image/png": "[encoded data removed]"
     },
     "execution_count": 14,
     "metadata": {},
     "output_type": "execute_result"
    }
   ],
   "source": [
    "figure\n",
    "plot (C,F) %Gráfica"
   ]
  },
  {
   "cell_type": "markdown",
   "id": "d97d181c-ad41-4e7d-adf6-32c7fce7bd8a",
   "metadata": {},
   "source": [
    "## Generación de gráficas de funciones\n",
    "Para generar la gráfica de una función en MATLAB, se crean dos vectores; uno con la variable independiente y \n",
    "un segundo con la variable independiente, por ejemplo, para gráficar la función del tiempo,\n",
    "expresada en la ecuación siguiente:\n",
    "\n",
    "```{math}\n",
    ":label: conv_grados\n",
    "\\begin{equation}\n",
    "\\nonumber\n",
    "   y(t)=e^{-1.5t}cos(11.35t)\n",
    " \\end{equation}\n",
    "```\n",
    "\n",
    "Se genera un vector de tiempo en el intervalo definido como $0<t<5$ con un incremento $\\Delta t=0.001$ \n"
   ]
  },
  {
   "cell_type": "code",
   "execution_count": 15,
   "id": "21504204-afdf-43c5-9e11-1b92ab9ba86a",
   "metadata": {},
   "outputs": [],
   "source": [
    "t=[0:0.001:5];"
   ]
  },
  {
   "cell_type": "markdown",
   "id": "63bcb4ac-649a-411b-ad96-ba77d3d868cf",
   "metadata": {},
   "source": [
    "Después se genera la variable indepenndiente $y(t)$ evaluando la función con operadores multiplicación y exponencial"
   ]
  },
  {
   "cell_type": "code",
   "execution_count": 16,
   "id": "6ee69614-0c21-40a0-b9e7-671f658b4b86",
   "metadata": {},
   "outputs": [],
   "source": [
    "y=exp(-1.5*t).*cos(11.35*t);"
   ]
  },
  {
   "cell_type": "markdown",
   "id": "9e28e91f-3b8f-473f-9402-37f784add0ec",
   "metadata": {},
   "source": [
    "El punto antes del operador multiplicación (.*) se utiliza cuando se trabaja con vectores y no con variables \n",
    "constante o escalares"
   ]
  },
  {
   "cell_type": "markdown",
   "id": "b8d3f7bf-56ed-4596-8ace-8bb82df630bd",
   "metadata": {},
   "source": [
    "Se genera la gráfica usando la instrucción plot"
   ]
  },
  {
   "cell_type": "code",
   "execution_count": 17,
   "id": "52b4c103-f35a-4d32-bccf-7ba05deeecc8",
   "metadata": {},
   "outputs": [
    {
     "data": {
      "image/png": "[encoded data removed]"
     },
     "execution_count": 17,
     "metadata": {},
     "output_type": "execute_result"
    }
   ],
   "source": [
    "plot(t,y)"
   ]
  },
  {
   "cell_type": "markdown",
   "id": "95200958-3e28-4b7c-bb8b-b463913debd3",
   "metadata": {},
   "source": [
    "## Resolver un sistema de ecuaciones usando MATLAB\n",
    "\n",
    "El siguiente ejemplo muestra como utilizar MATLAB para resolver un sistema de ecuaciones de tres incógnitas. Considere el sistema de tres ecuaciones con tres incógnitas de la Ecuación {eq}`uno`\n",
    "```{math}\n",
    ":label: uno\n",
    "\\begin{eqnarray}\n",
    "\t3x+2y-5z=10\\\\\n",
    "    x+0.5y+3z=5\\\\\n",
    "    -2x+7y-3z=-2\n",
    "\t\\label{dos}\n",
    "\t\\end{eqnarray}\n",
    "```\n",
    "Para resolver el sistema de ecuaciones, se plantea La forma matricial del sistema de ecuaciones, de la forma:\n",
    "\n",
    "```{math}\n",
    "\\begin{equation}\n",
    "   AX=B\n",
    " \\end{equation}\n",
    "```\n",
    "Donde $A$ es la matriz de coeficientes y $B$ el vector de resultados. \n",
    "\n",
    "```{math}\n",
    "\\begin{equation}\n",
    "A=\\begin{bmatrix}\n",
    "3 & 2 & -5\\\\\n",
    "1 & 0.5 & 3\\\\\n",
    "-2 & 7 & -3\n",
    "\\end{bmatrix}\n",
    "\\end{equation}\n",
    "```\n",
    "\n",
    "```{math}\n",
    "\\begin{equation}\n",
    "B=\\begin{bmatrix}\n",
    "10\\\\\n",
    "5\\\\\n",
    "-2\n",
    "\\end{bmatrix}\n",
    "\\end{equation}\n",
    "```\n",
    "\n",
    "A continuación se construye la matriz y el vector usando los comandos de MATLAB:"
   ]
  },
  {
   "cell_type": "code",
   "execution_count": 18,
   "id": "eb9c9f0a-5b08-4dce-a505-5e0fae306ae1",
   "metadata": {},
   "outputs": [
    {
     "data": {
      "text/html": [
       "<html><body><pre>A = 3x3 double\n",
       "    3.0000    2.0000   -5.0000\n",
       "    1.0000    0.5000    3.0000\n",
       "   -2.0000    7.0000   -3.0000\n",
       "</pre></body></html>"
      ],
      "text/plain": [
       "A = 3x3 double\n",
       "    3.0000    2.0000   -5.0000\n",
       "    1.0000    0.5000    3.0000\n",
       "   -2.0000    7.0000   -3.0000\n"
      ]
     },
     "execution_count": 18,
     "metadata": {},
     "output_type": "execute_result"
    }
   ],
   "source": [
    "A=[3 2 -5;1 0.5 3;-2 7 -3]\n"
   ]
  },
  {
   "cell_type": "markdown",
   "id": "d12c84ec-f3d5-4d43-a500-3976b1984b60",
   "metadata": {},
   "source": [
    "Para crear el vector de coeficientes:"
   ]
  },
  {
   "cell_type": "code",
   "execution_count": 19,
   "id": "d630131a-249b-4652-925f-d9dfcc03f0d5",
   "metadata": {},
   "outputs": [
    {
     "data": {
      "text/html": [
       "<html><body><pre>B = 3x1 double\n",
       "    10\n",
       "     5\n",
       "    -2\n",
       "</pre></body></html>"
      ],
      "text/plain": [
       "B = 3x1 double\n",
       "    10\n",
       "     5\n",
       "    -2\n"
      ]
     },
     "execution_count": 19,
     "metadata": {},
     "output_type": "execute_result"
    }
   ],
   "source": [
    "B=[10;5;-2]"
   ]
  },
  {
   "cell_type": "markdown",
   "id": "25d25a1b",
   "metadata": {},
   "source": [
    "La solución del sistema de ecuaciones se encuentra al realizar la operación matricial:\n",
    "```{math}\n",
    " \\begin{equation}\n",
    "   X=A^{-1}B\n",
    " \\end{equation}\n",
    "```"
   ]
  },
  {
   "cell_type": "code",
   "execution_count": 20,
   "id": "ed563196",
   "metadata": {},
   "outputs": [
    {
     "data": {
      "text/html": [
       "<html><body><pre>X = 3x1 double\n",
       "    3.4097\n",
       "    0.8546\n",
       "    0.3877\n",
       "</pre></body></html>"
      ],
      "text/plain": [
       "X = 3x1 double\n",
       "    3.4097\n",
       "    0.8546\n",
       "    0.3877\n"
      ]
     },
     "execution_count": 20,
     "metadata": {},
     "output_type": "execute_result"
    }
   ],
   "source": [
    "X=inv(A)*B"
   ]
  },
  {
   "cell_type": "markdown",
   "id": "3b393df1-73d7-4691-97f3-b06bd7d30760",
   "metadata": {},
   "source": [
    "De manera alternativa, dado que $A^{-1}$ es la inversa de la matriz $A$, se puede usar el comando inv(A), de manera que la solución se puede calcular como:"
   ]
  },
  {
   "cell_type": "code",
   "execution_count": 21,
   "id": "0fa87f65-ae5a-4da6-b16e-fcf22793e6b8",
   "metadata": {},
   "outputs": [
    {
     "data": {
      "text/html": [
       "<html><body><pre>X = 3x1 double\n",
       "    3.4097\n",
       "    0.8546\n",
       "    0.3877\n",
       "</pre></body></html>"
      ],
      "text/plain": [
       "X = 3x1 double\n",
       "    3.4097\n",
       "    0.8546\n",
       "    0.3877\n"
      ]
     },
     "execution_count": 21,
     "metadata": {},
     "output_type": "execute_result"
    }
   ],
   "source": [
    "X=(A^-1)*B"
   ]
  },
  {
   "cell_type": "markdown",
   "id": "5a5d3bf9-3f1b-4ca3-aa73-6b034d3396dd",
   "metadata": {},
   "source": [
    "De manera que el valor numérico de las variables es:\n",
    "```{math}\n",
    ":label: dos\n",
    "\\begin{eqnarray}\n",
    "\tx= 3.4097 \\\\\n",
    "    y= 0.8546\\\\\n",
    "    z=0.3877\n",
    "\t\\label{tres}\n",
    "\t\\end{eqnarray}\n",
    "```\n",
    "Es fácil comprobar que estos valores satisfacen el sistema de ecuaciones si se realizan las sustiticiones en el sistema de ecuaciones original:"
   ]
  },
  {
   "cell_type": "code",
   "execution_count": 22,
   "id": "1756fabd-377c-4832-92be-60a21ce50ed0",
   "metadata": {},
   "outputs": [
    {
     "data": {
      "text/html": [
       "<html><body><pre>ans = 9.9998</pre></body></html>"
      ],
      "text/plain": [
       "ans = 9.9998"
      ]
     },
     "execution_count": 22,
     "metadata": {},
     "output_type": "execute_result"
    }
   ],
   "source": [
    "% Ecuacion (1) 3x+2y-5z\n",
    "3*(3.4097)+2*(0.8546)-5*(0.3877)"
   ]
  },
  {
   "cell_type": "code",
   "execution_count": 23,
   "id": "f2bc60dd-f93f-44fe-8967-0eb5238769b9",
   "metadata": {},
   "outputs": [
    {
     "data": {
      "text/html": [
       "<html><body><pre>ans = 5.0001</pre></body></html>"
      ],
      "text/plain": [
       "ans = 5.0001"
      ]
     },
     "execution_count": 23,
     "metadata": {},
     "output_type": "execute_result"
    }
   ],
   "source": [
    "% Ecuacion (2) x+0.5y+3z\n",
    "1*(3.4097)+0.5*(0.8546)+3*(0.3877)"
   ]
  },
  {
   "cell_type": "code",
   "execution_count": 24,
   "id": "8dd7958c-1da0-4ae0-a79d-a456abd92dea",
   "metadata": {},
   "outputs": [
    {
     "data": {
      "text/html": [
       "<html><body><pre>ans = -2.0003</pre></body></html>"
      ],
      "text/plain": [
       "ans = -2.0003"
      ]
     },
     "execution_count": 24,
     "metadata": {},
     "output_type": "execute_result"
    }
   ],
   "source": [
    "% Ecuacion (3) -2x+7y-3z\n",
    "-2*(3.4097)+7*(0.8546)-3*(0.3877)"
   ]
  },
  {
   "cell_type": "code",
   "execution_count": 25,
   "id": "56e6fd58-5344-4ece-9f1d-80c43698a20d",
   "metadata": {},
   "outputs": [
    {
     "data": {
      "image/png": "[encoded data removed]"
     },
     "execution_count": 25,
     "metadata": {},
     "output_type": "execute_result"
    },
    {
     "data": {
      "text/html": [
       "<html><body><pre>y = 1x6 double\n",
       "    1.0000    0.0285   -0.0051   -0.0005    0.0000    0.0000\n",
       "</pre></body></html>"
      ],
      "text/plain": [
       "y = 1x6 double\n",
       "    1.0000    0.0285   -0.0051   -0.0005    0.0000    0.0000\n"
      ]
     },
     "execution_count": 25,
     "metadata": {},
     "output_type": "execute_result"
    },
    {
     "data": {
      "text/html": [
       "<html><body><pre>ans = 0.2900</pre></body></html>"
      ],
      "text/plain": [
       "ans = 0.2900"
      ]
     },
     "execution_count": 25,
     "metadata": {},
     "output_type": "execute_result"
    },
    {
     "data": {
      "image/png": "[encoded data removed]"
     },
     "execution_count": 25,
     "metadata": {},
     "output_type": "execute_result"
    },
    {
     "data": {
      "text/html": [
       "<html><body><pre>A = 3x3 double\n",
       "    3.0000    2.0000   -5.0000\n",
       "    1.0000    0.5000    3.0000\n",
       "   -2.0000    7.0000   -3.0000\n",
       "</pre></body></html>"
      ],
      "text/plain": [
       "A = 3x3 double\n",
       "    3.0000    2.0000   -5.0000\n",
       "    1.0000    0.5000    3.0000\n",
       "   -2.0000    7.0000   -3.0000\n"
      ]
     },
     "execution_count": 25,
     "metadata": {},
     "output_type": "execute_result"
    },
    {
     "data": {
      "text/html": [
       "<html><body><pre>B = 1x3 double\n",
       "    10     5    -2\n",
       "</pre></body></html>"
      ],
      "text/plain": [
       "B = 1x3 double\n",
       "    10     5    -2\n"
      ]
     },
     "execution_count": 25,
     "metadata": {},
     "output_type": "execute_result"
    },
    {
     "data": {
      "text/html": [
       "<html><body><pre>X = 3x1 double\n",
       "    3.4097\n",
       "    0.8546\n",
       "    0.3877\n",
       "</pre></body></html>"
      ],
      "text/plain": [
       "X = 3x1 double\n",
       "    3.4097\n",
       "    0.8546\n",
       "    0.3877\n"
      ]
     },
     "execution_count": 25,
     "metadata": {},
     "output_type": "execute_result"
    },
    {
     "data": {
      "text/html": [
       "<html><body><pre>X = 3x1 double\n",
       "    3.4097\n",
       "    0.8546\n",
       "    0.3877\n",
       "</pre></body></html>"
      ],
      "text/plain": [
       "X = 3x1 double\n",
       "    3.4097\n",
       "    0.8546\n",
       "    0.3877\n"
      ]
     },
     "execution_count": 25,
     "metadata": {},
     "output_type": "execute_result"
    },
    {
     "data": {
      "text/html": [
       "<html><body><pre>ans = -5</pre></body></html>"
      ],
      "text/plain": [
       "ans = -5"
      ]
     },
     "execution_count": 25,
     "metadata": {},
     "output_type": "execute_result"
    },
    {
     "data": {
      "text/html": [
       "<html><body><pre>ans = 3</pre></body></html>"
      ],
      "text/plain": [
       "ans = 3"
      ]
     },
     "execution_count": 25,
     "metadata": {},
     "output_type": "execute_result"
    },
    {
     "data": {
      "text/html": [
       "<html><body><pre>ans = 12.5664</pre></body></html>"
      ],
      "text/plain": [
       "ans = 12.5664"
      ]
     },
     "execution_count": 25,
     "metadata": {},
     "output_type": "execute_result"
    }
   ],
   "source": [
    "clear %Limpia todas la variables\n",
    "clc %Limpia la ventana de comandos\n",
    "close all %Cierra todas las graficas\n",
    "C=[-5:0.5:40]; %Tabla de datos C a F\n",
    "F=(9/5)*C+32; %Convertir C a F\n",
    "figure\n",
    "plot (C,F) %Grafica\n",
    "\n",
    "t=[0:1:5]; %Vector de variable independiente\n",
    "y=exp(-2.5*t).*cos(11.35*t) %Calculo de una funcion\n",
    "\n",
    "v=[0:0.01:100]; %Arreglo de prueba\n",
    "v(30)%Acceso a la localidad 30\n",
    "\n",
    "A=[0:0.0001:0.1]; %Vector de variable independiente\n",
    "y=cos(115*A).*sin(30*A)+2; %Calculo de una funcion\n",
    "figure\n",
    "plot(A,y) %Grafica\n",
    "\n",
    "%Solucion de un sistema de ecuaciones usando matrices\n",
    "A=[3 2 -5; 1 0.5 3; -2 7 -3]\n",
    "B=[10 5 -2]\n",
    "X=(A^-1)*B'%Calculo alternativo\n",
    "X=inv(A)*B'%B' Significa transpuesta\n",
    "\n",
    "A(1,3)%Acceder a la localidad Fila=1 Columna=3\n",
    "A(2,3)%Acceder a la localidad Fila=2 Columna=3\n",
    "\n",
    "\n",
    "area_circulo(2)"
   ]
  },
  {
   "cell_type": "code",
   "execution_count": null,
   "id": "268192f9-1784-40a0-a176-b6315e97e52f",
   "metadata": {},
   "outputs": [],
   "source": []
  }
 ],
 "metadata": {
  "kernelspec": {
   "display_name": "MATLAB Kernel",
   "language": "matlab",
   "name": "jupyter_matlab_kernel"
  },
  "language_info": {
   "file_extension": ".m",
   "mimetype": "text/x-matlab",
   "name": "matlab"
  }
 },
 "nbformat": 4,
 "nbformat_minor": 5
}