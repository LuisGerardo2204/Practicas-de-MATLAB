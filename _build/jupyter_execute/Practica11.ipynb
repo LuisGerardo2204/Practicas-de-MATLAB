{
 "cells": [
  {
   "attachments": {},
   "cell_type": "markdown",
   "id": "9894d962-a427-4356-a35b-102293787cae",
   "metadata": {},
   "source": [
    "# Práctica 11: Simulación de sistemas dinámicos\n",
    "\n",
    "Un énte matemático que sirve para representar la relación que existe entre las entradas y las salidas en los sistemas es una ecuación diferencial. A lo largo de nuestra formación académica como ingenieros, estamos en contacto con el término ecuación, cuya definición formal es: *Una ecuación se define como una igualdad establecida entre dos expresiones, en la cual puede haber una o más incógnitas o términos cuyo valor numérico es desconocido*.\n",
    "\n",
    "A diferencia de las ecuaciones con incógnitas reales o complejas, las ecuaciones diferenciales tienen como incognita a una función. Una ecuación diferencial en el contexto de los sistemas dinámicos, involucra a las señales de entrada y salida, así como diversas derivadas de cualquiera de ellas o de ambas. Por ejemplo, la ecuación diferencial:\n",
    "\n",
    "```{math}\n",
    ":label: edo1\n",
    "\\begin{equation}\n",
    "  2\\frac{d^2y(t)}{dt^2}+300y(t)=4.5x(t)+5\\frac{dx(t)}{dt}\n",
    "\t\\end{equation}\n",
    "```\n",
    "\n",
    "La solución a la ecuación diferencial es la salida del sistema $y(t)$, es decir, es aquella función que satisface la igualdad establecida en la transformación o estructura {eq}`edo1`. En el caso de los sistemas mecánicos $x(t)$ representará la evolución en el tiempo de una fuerza de entrada, en forma de par o empuje. En sistemas en los que existan almacenes de energía cinética en forma de masas, es común usar tambien aceleración. En el caso de los sistemas eléctricos, los alamacenes de energía son los inductores o bobinas y los capacitores y la entrada son variables como los voltajes o corrientes. Es posible encontrar análogos muy útiles entre los sistemas mecánicos y eléctricos debido a su comportamiento y las realciones constitutivas que se usan para construir la estructura de la ecuación diferencial que los modelan. Ejemplos de relaciones constitutivas para los sistemas mecánicos, de acuerdo con la ley de Newton son:\n",
    "\n",
    "```{math}\n",
    ":label: relconst1\n",
    "\\begin{equation}\n",
    "     m\\frac{d^2x(t)}{dt^2}=ma~~F_b=b\\frac{dx(t)}{dt}~~F_r=kx(t)\n",
    "\t\\end{equation}\n",
    "```\n",
    "Donde $m$ es la masa en $[kg]$, $b$ la constante de amortiguador con unidades $[Ns/m]$ y $k$ en unidades $[N/m]$. Las fuerzas $F_b$ y $F_r$ son las fuerzas del amortiguador y la fuerza del resorte respectivamente. Además, de acurdo con los conceptos de la cinemática, se sabe que la aceleración es la segunda derivada de la posicion y la velocidad es la razón de cambio o derivada de la posición $a=\\frac{d^2x(t)}{dt}$ y $v=\\frac{dx(t)}{dt}$. La {numref}`mbk` muestra un típico sistema masa resorte amortiguador:\n",
    "\n",
    "```{figure} /images/mbk.png\n",
    ":height: 200px\n",
    ":name: mbk\n",
    "Sistema masa resorte amortiguador.\n",
    "```\n",
    "Aplicando la segunda ley de Newton al sistema masa resorte amortiguador se obtiene la ecuación diferencial o el modelo del sistema masa resorte amortiguador:\n",
    "\n",
    "```{math}\n",
    ":label: edombk1\n",
    "\\begin{equation}\n",
    "  m\\frac{d^2x(t)}{dt^2}+b_1\\frac{dx(t)}{dt}+k_1x(t)=f(t)\n",
    "\t\\end{equation}\n",
    "```\n",
    "\n",
    "En este caso, la salida se nombra $x(t)$ dado que es un desplazamiento causado por la fuerza de entrada $f(t)$, que sería equivalente a la función estímulo o de entrada, se dice entoces que para este sistema, la entrada es una fuerza y la salida un desplazamiento.\n",
    "\n",
    "```{note} \n",
    "\n",
    "Es común usar la notación abreviada para las ecuaciones diferenciales:\n",
    "\n",
    "$$\n",
    "\\frac{d^2x(t)}{dt^2}=\\ddot{x}~~\\frac{x(t)}{dt}=\\dot{x}\n",
    "$$\n",
    "\n",
    "Usando esta notación se obtiene la forma alternativa de la ecuación diferencial de movimiento o modelo matemático del sistema masa resorte amortiguador como:\n",
    "\n",
    "$$\n",
    "m\\ddot{x}+b\\dot{x}+kx=f\n",
    "$$\n",
    "\n",
    "```\n",
    "En Matlab, la solución de las ecuaciones diferenciales se obtiene usando el comando `dsolve(edo,ci)`, donde edo es la ecuación diferencial que se desea resolver y ci son las condiciones iniciales $x(0)$ y $\\frac{dx}{dt}|_{t=0}$. Por ejemlo, para un sistema masa-resorte-amortiguador con la ecuación diferencial de movimiento:\n",
    "\n",
    "$$\n",
    "2.5\\frac{dx^2}{dt}+3\\frac{dx}{dt}+350x(t)=0\n",
    "$$\n",
    "\n",
    "con condiciones iniciales $x(0)=0.01$ y $\\frac{dx}{dt}|_{t=0}=0$ se resuelve con los siguientes comandos:\n"
   ]
  },
  {
   "cell_type": "code",
   "execution_count": 1,
   "id": "3ab46b2a-357b-4e4d-b0ec-bc21187d97a4",
   "metadata": {
    "scrolled": true
   },
   "outputs": [
    {
     "data": {
      "text/latex": [
       "$xSol(t) =\\frac{{\\mathrm{e}}^{-\\frac{3\\,t}{5}} \\,{\\left(3491\\,\\cos \\left(\\frac{\\sqrt{3491}\\,t}{5}\\right)+3\\,\\sqrt{3491}\\,\\sin \\left(\\frac{\\sqrt{3491}\\,t}{5}\\right)\\right)}}{349100}$"
      ]
     },
     "execution_count": 1,
     "metadata": {},
     "output_type": "execute_result"
    }
   ],
   "source": [
    "clear\n",
    "close all\n",
    "clc\n",
    "syms x(t);\n",
    "Dx=diff(x,t);\n",
    "ode = 2.5*diff(x,t,2)+3*diff(x,t)+350*x==0;\n",
    "cond1=x(0)==0.01;\n",
    "cond2=Dx(0)==0;\n",
    "ci=[cond1 cond2];\n",
    "xSol(t) =dsolve(ode,ci)"
   ]
  },
  {
   "cell_type": "markdown",
   "id": "cad1f737-3c89-434f-9c24-74aeb263a35c",
   "metadata": {},
   "source": [
    "La solución de la ecuación diferencial es $x(t)$ y describe el movimiento de la masa como una función del tiempo. La ecuación diferencial anterior, al estar igualada a cero, es decir, cuando $f(t)=0$, se denomina ecuación diferencial homogénea, en este tipo de ecuaciones diferenciales, la única manera en la que la solución es diferente de cero, es cuando al menos una de las condiciones iniciales $x(0)$ y $\\dot{x}(0)$ sea diferente de cero. Un ejemplo de aplicación para cuando $f(t)$ es diferente de cero, es el caso de la ecuadión diferencial no homogénea, En Matlab se plantea y resuelve con las siguientes instrucciones:"
   ]
  },
  {
   "cell_type": "code",
   "execution_count": 2,
   "id": "0bc38986-2c61-4b29-8154-9f28286bd59b",
   "metadata": {},
   "outputs": [
    {
     "data": {
      "text/latex": [
       "$xSol(t) =\\frac{2}{175}-\\frac{6\\,\\sqrt{3491}\\,{\\mathrm{e}}^{-\\frac{3\\,t}{5}} \\,\\sin \\left(\\frac{\\sqrt{3491}\\,t}{5}\\right)}{610925}-\\frac{2\\,{\\mathrm{e}}^{-\\frac{3\\,t}{5}} \\,\\cos \\left(\\frac{\\sqrt{3491}\\,t}{5}\\right)}{175}$"
      ]
     },
     "execution_count": 2,
     "metadata": {},
     "output_type": "execute_result"
    }
   ],
   "source": [
    "clear \n",
    "close all\n",
    "clc\n",
    "\n",
    "syms x(t);\n",
    "Dx=diff(x,t);\n",
    "ode = 2.5*diff(x,t,2)+3*diff(x,t)+350*x==4;\n",
    "cond1=x(0)==0.0;\n",
    "cond2=Dx(0)==0.0;\n",
    "ci=[cond1 cond2];\n",
    "xSol(t) =dsolve(ode,ci)"
   ]
  },
  {
   "cell_type": "markdown",
   "id": "06ae2bdc-dedb-4c55-abb0-d5d975529db2",
   "metadata": {},
   "source": [
    "La solución de la ecuación diferencial es $x(t)$ y describe el movimiento de la masa como una función del tiempo. La herramienta simulink permite crear simulaciones en forma de diagramas de bloques como se muestra en los siguientes videos.\n",
    "\n",
    "<div align='center'>\n",
    "<video controls autoplay muted=\"true\" loop=\"true\" width=\"600\">\n",
    "    <source src=\"./_static/videos/abre_simulink.mp4 \" type=\"video/mp4\">\n",
    "</video>\n",
    "</div>\n",
    "\n",
    "La creación del diagrama de bloques y los detalles de la simulación se muestran en el siguiente video:\n",
    "\n",
    "<div align='center'>\n",
    "<video controls autoplay muted=\"true\" loop=\"true\" width=\"600\">\n",
    "    <source src=\"./_static/videos/crea_bloques.mp4 \" type=\"video/mp4\">\n",
    "</video>\n",
    "</div>\n",
    "\n",
    "\n"
   ]
  },
  {
   "cell_type": "markdown",
   "id": "5af85d80-cd4d-465d-ad4e-dc08d2c40a8a",
   "metadata": {},
   "source": [
    "Para el caso de un sistema eléctrico del tipo resistencia capacitor inductancia, como el mostrado en la {numref}`RLC`\n",
    "\n",
    "```{figure} /images/Imagen8.png\n",
    ":height: 300px\n",
    ":name: RLC\n",
    "Circuito RLC.\n",
    "```\n",
    "Las relaciones constitutivas del sistema eléctrico son: \n",
    "\n",
    "```{math}\n",
    ":label: relconst2\n",
    "\\begin{equation}\n",
    "     v_L=L\\frac{di(t)}{dt}~~i_C=C\\frac{dv_c(t)}{dt}~~v_R=i(t)R\n",
    "\t\\end{equation}\n",
    "```\n",
    "Con $L$ la inductancia en $[H]$, $C$ la capacitancia en $[F]$ y $R$ la resistencia en $[\\Omega]$. Además, por la ley de Kirchoff, la corriente en el capacitor $i_C(t)=i(t)$. En este caso, la salida se nombra $v_c(t)$ el voltaje en el capacitor, debido a la presencia de la fuente de alimentación $V_s(t)$, que sería equivalente a la función estímulo o de entrada. La ecuación diferencial que modela a este sistema eléctrico es:\n",
    "\n",
    "```{math}\n",
    ":label: edoRLC\n",
    "\\begin{equation}\n",
    "  LC\\frac{d^2v_c(t)}{dt^2}+RC\\frac{dv_c(t)}{dt}+v_c(t)=V_s(t)\n",
    "\t\\end{equation}\n",
    "```"
   ]
  },
  {
   "cell_type": "code",
   "execution_count": null,
   "id": "9850d3b2-29e8-4425-8b6e-ef5b8c204300",
   "metadata": {},
   "outputs": [],
   "source": []
  }
 ],
 "metadata": {
  "kernelspec": {
   "display_name": "MATLAB Kernel",
   "language": "matlab",
   "name": "jupyter_matlab_kernel"
  },
  "language_info": {
   "file_extension": ".m",
   "mimetype": "text/x-matlab",
   "name": "matlab"
  }
 },
 "nbformat": 4,
 "nbformat_minor": 5
}