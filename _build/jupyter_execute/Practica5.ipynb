{
 "cells": [
  {
   "cell_type": "markdown",
   "id": "b068e0cc-3bef-438b-9b18-30ae2d29cfae",
   "metadata": {},
   "source": [
    "# Práctica 5: Entrada-salida de datos y formatos de despliegue \n",
    "\n",
    " En esta prácitca se abordan situaciones que se presentan cuando se trabaja con programas, cuyo objetivo o aplicación final implican que el programador y el usuario final del código pudieran ser personas diferentes. Esto hará necesaria una comunicación sencilla y efectiva con el usuario a través de instrucciones y funciones de entrada y salid. Como se vio en la Práctica 2, en  MATLAB existen funciones nativas que permiten al usuario comunicarse con un programa conforme se ejecuta. El comando `input()` permite solicitar al usuario el valor de un dato de entrada y almacenarlo para su posterior uso. Las funciones nativas `disp()` y `fprintf()` porporcionan una salida visual en la ventana de comandos. \n",
    "\n",
    "La función `input()` permite ingresar incluso arreglos completos, por ejemplom si se usa la instrucción:\n",
    "\n",
    "`>>v=input(\"ingese un vector con el formato de corchetes\")`\n",
    "\n",
    "El usuario introduce el vector en formato de corchetes:\n",
    "\n",
    "`>>[1,-3,5];`\n",
    "\n",
    "Tambien se puede introducir una matriz completa:\n",
    "\n",
    "`A=input(\"ingese una matriz cuadrada con el formato de corchetes\")`\n",
    "\n",
    "El usuario introdude la Matriz A en formato de corchetes:\n",
    "\n",
    "`>>[1 3 4;5 6 -1;9 2 5]`\n",
    "\n",
    "Una consideración importante es el hecho de que los datos de entrada tambien puenden ser cadenas de caracteres o texto:\n",
    "\n",
    "`>>nombre=input(\"ingese su nombre completo entre comillas\")`\n",
    "\n",
    "El usuario entonces puede introducir su nombre usando el formato de las comillas:\n",
    "\n",
    "`>>\"Luis Gerardo Trujillo Franco\"`\n",
    "\n",
    "## Recolección de puntos de una gráfica\n",
    "\n",
    "Una opción más para solicitar datos de entrada al usuario, es por medio de la coleción de datos directamente de una curva en una gráfica. Esta forma de solicitar datos al usuario se lleva a cabo usado la función `ginput()`. Esta función se utiliza para colectar puntos en forma de pares ordenados, el número entre paréntesis es el total de puntos o pares ordenados que se colectarán de la gráfica. Lo anterior se muestra en el siguiente video:\n",
    "\n",
    " <div align='center'>\n",
    "<video controls autoplay muted=\"true\" loop=\"true\" width=\"600\">\n",
    "    <source src=\"./_static/videos/ginput.mp4 \" type=\"video/mp4\">\n",
    "</video>\n",
    "</div>\n",
    "\n",
    "Las siguientes instrucciones permiten reproducir lo mostrado en el video:\n"
   ]
  },
  {
   "cell_type": "code",
   "execution_count": 1,
   "id": "ea673f7e-85b7-49ea-a39e-b40db2ea5713",
   "metadata": {},
   "outputs": [],
   "source": [
    "t=[0:0.001:2];\n",
    "y=exp(-3.5*t).*cos(45.*t);"
   ]
  },
  {
   "cell_type": "markdown",
   "id": "06d19721-3d26-415f-8f12-803b22e366c4",
   "metadata": {},
   "source": [
    "Usando el comado ginput se otienen, por ejemplo, las coordenadas de dos crestas de la gráfica:"
   ]
  },
  {
   "cell_type": "code",
   "execution_count": 2,
   "id": "adf6741a-e1b1-4910-91db-fa506efd7a18",
   "metadata": {},
   "outputs": [
    {
     "data": {
      "image/png": "[encoded data removed]"
     },
     "execution_count": 2,
     "metadata": {},
     "output_type": "execute_result"
    },
    {
     "data": {
      "text/html": [
       "<html><body><pre>x = 2x1 double\n",
       "    0.1429\n",
       "    0.2842\n",
       "</pre></body></html>"
      ],
      "text/plain": [
       "x = 2x1 double\n",
       "    0.1429\n",
       "    0.2842\n"
      ]
     },
     "execution_count": 2,
     "metadata": {},
     "output_type": "execute_result"
    },
    {
     "data": {
      "text/html": [
       "<html><body><pre>y = 2x1 double\n",
       "    0.5955\n",
       "    0.3574\n",
       "</pre></body></html>"
      ],
      "text/plain": [
       "y = 2x1 double\n",
       "    0.5955\n",
       "    0.3574\n"
      ]
     },
     "execution_count": 2,
     "metadata": {},
     "output_type": "execute_result"
    }
   ],
   "source": [
    "plot(t,y)\n",
    "[x,y]=ginput(2)"
   ]
  },
  {
   "cell_type": "markdown",
   "id": "0fc4dfe3-7d86-416a-adab-e480fc1ca780",
   "metadata": {},
   "source": [
    "## La función menú como entrada de datos \n",
    "\n",
    "Una opción interactiva es la que ofrece la función interna `menu`, cuya sintaxis se muestra a continuación:\n",
    "``entrada=menu(\"Mensaje al usuario\",\"Texto para el botón 1\",\"Texto para el botón 2\",...,\"Texto para el botón n\"). La salida, que se almacena en la variable entrada, es un número entero que depende del botón sobre el cual se hizo click, por ejemplo si se presiona el botón rotulado con el mensaje opción 1 la salida enttrada será igual a uno como se muestra en el siguiente clip y en el código de salida de abajo.\n",
    "\n",
    "<div align='center'>\n",
    "<video controls autoplay muted=\"true\" loop=\"true\" width=\"200\">\n",
    "    <source src=\"./_static/videos/menu.mp4 \" type=\"video/mp4\">\n",
    "</video>\n",
    "</div>"
   ]
  },
  {
   "cell_type": "code",
   "execution_count": 3,
   "id": "0a9b2d4e-e623-44ff-8af3-eef216ad9c74",
   "metadata": {},
   "outputs": [
    {
     "data": {
      "text/html": [
       "<html><body><pre>entrada = 1</pre></body></html>"
      ],
      "text/plain": [
       "entrada = 1"
      ]
     },
     "execution_count": 3,
     "metadata": {},
     "output_type": "execute_result"
    }
   ],
   "source": [
    "entrada=menu(\"Seleccione una opción\",\"Opción 1\",\"Opción2\",\"Opción 3\")"
   ]
  },
  {
   "cell_type": "markdown",
   "id": "a865b211-3410-4832-b780-6e3aa2244222",
   "metadata": {},
   "source": [
    "Un ejemplo simple de aplicación de la función menu es el siguiente programa, el cual proporciona el peso específico del material que se muestra en el menu:"
   ]
  },
  {
   "cell_type": "code",
   "execution_count": 4,
   "id": "82f4bd11-193a-469a-913c-93c19043aa38",
   "metadata": {},
   "outputs": [
    {
     "data": {
      "text/html": [
       "<html><body><pre>material = 4</pre></body></html>"
      ],
      "text/plain": [
       "material = 4"
      ]
     },
     "execution_count": 4,
     "metadata": {},
     "output_type": "execute_result"
    },
    {
     "name": "stdout",
     "output_type": "stream",
     "text": [
      "11400 N/m3\n"
     ]
    }
   ],
   "source": [
    "% Programa de ejemplo de aplicación de la función menú\n",
    "% Fuente: https://concepto.de/peso-especifico/#ixzz8V4bEJMuH\n",
    "\n",
    "material=menu(\"Selecione el material\",\"Acero\",\"Aluminio\",\"Bronce\",\"Plomo\",\"Zinc\")\n",
    "\n",
    "switch material\n",
    "\n",
    "       case 1\n",
    "          disp(\"7850 N/m3\")\n",
    "       case 2\n",
    "          disp(\"2700 N/m3\")\n",
    "       case 3\n",
    "          disp(\"8600 N/m3\")\n",
    "       case 4\n",
    "          disp(\"11400 N/m3\")\n",
    "       case 5\n",
    "          disp(\"7200 N/m3\")\n",
    "end"
   ]
  },
  {
   "cell_type": "markdown",
   "id": "7b3e43d5-17fd-41a8-9672-ec97bcf10f64",
   "metadata": {},
   "source": [
    "## Formatos de salida de datos\n",
    "\n",
    "En MATLAB, la función `fprintf()` (función impresión formateada) proporciona un mayor control sobre la salida\n",
    "de la que tiene con la función `disp()`. Además de desplegar valores tanto texto como arreglos, puede especificar el formato requerido para desplegar los valores, y puede especificar también un cambio de línea. La forma general de la función nativa `fprintf()` contiene dos argumentos, uno tipo texto o cadena de caracteres y otro una lista de variables en forma de constantes o matrices, según se requiera: `fprintf(\"Texto de formato\",variable 1, variable 2,...,variable n)`. Un ejemplo se muestra abajo:"
   ]
  },
  {
   "cell_type": "code",
   "execution_count": 5,
   "id": "59c0ee64-049f-41c7-aa9b-277055deac1e",
   "metadata": {},
   "outputs": [
    {
     "name": "stdout",
     "output_type": "stream",
     "text": [
      "Hay 5.000000 metales, 3.000000 polímeros y 14.000000 cerámicos"
     ]
    }
   ],
   "source": [
    "metales=5;\n",
    "polimeros=3;\n",
    "ceramicos=14;\n",
    "\n",
    "fprintf(\"Hay %f metales, %f polímeros y %f cerámicos\",metales,polimeros,ceramicos)"
   ]
  },
  {
   "cell_type": "markdown",
   "id": "0f9f4157-42cf-4b56-99ff-52c6bb2f75be",
   "metadata": {},
   "source": [
    "Nótese como es necesario incluir un especificador **%f**, por cada número que se desea desplegar. En el caso anterior, resulta más conveniente mostrar las cantidades de materiales como enteros, para ello se utiliza la especificación de formato **%d**."
   ]
  },
  {
   "cell_type": "code",
   "execution_count": 6,
   "id": "eae0e17a-a376-4a54-bc17-7724dc8e4290",
   "metadata": {},
   "outputs": [
    {
     "name": "stdout",
     "output_type": "stream",
     "text": [
      "Hay 5 metales, 3 polímeros y 14 cerámicos"
     ]
    }
   ],
   "source": [
    "metales=5;\n",
    "polimeros=3;\n",
    "ceramicos=14;\n",
    "\n",
    "fprintf(\"Hay %d metales, %d polímeros y %d cerámicos\",metales,polimeros,ceramicos)"
   ]
  },
  {
   "cell_type": "markdown",
   "id": "4203f758-b42b-4d1b-8bb0-70d5540b9e63",
   "metadata": {},
   "source": [
    "La siguiente tabla resume algunos de los formatos de datos más utilizados para representar información en MATLAB:\n",
    "\n",
    "```{list-table} Tabla de formatos para despliegue de información.\n",
    ":header-rows: 1\n",
    ":name: Tabla6\n",
    "* - Tipo de formato  \n",
    "  - Dato o notación resultante\n",
    "* - **%f** \n",
    "  - Notación de numeros decimales\n",
    "* - **%e**\n",
    "  - Notación exponencial (7.8e3=7800)\n",
    "* - **%g**\n",
    "  - Usará la notación que resulte más corta **%f** o **%e**\n",
    "* - **%c**\n",
    "  - Notación para caracteres\n",
    "* - **%d**\n",
    "  - Notación para enteros\n",
    "* - **%s**\n",
    "  - Notación para texto o cadena de caracteres\n",
    "```\n"
   ]
  },
  {
   "cell_type": "markdown",
   "id": "f7a31294-bd39-4f2d-ab71-0a1348cc19c6",
   "metadata": {},
   "source": [
    "También es posible usar comandos de formato especial, por ejemplo, el tabulador **\\t** es muy útil para crear tablas en las cuales las línesa se ajusten de manera ordenada. Es posible ontrolar aún más cómo se despliegan las variables al usar especificaciones como `width field` y `precision field` con el comando format, `width field` controla el número mínimo de caracteres a imprimir. Debe ser un entero positivo. El `precision field` está precedido por un punto (.) y especifica el número de decimales después del punto decimal para tipos exponencial y punto fijo. Por ejemplo, **%5.3f** especifica que el ancho total mínimo disponible para desplegar su resultado es cinco dígitos, de los cuales, tres están después del punto decimal. Por ejemplo:"
   ]
  },
  {
   "cell_type": "code",
   "execution_count": 7,
   "id": "8919f1b1-4c09-4456-b37f-57cdf6940fe7",
   "metadata": {},
   "outputs": [
    {
     "name": "stdout",
     "output_type": "stream",
     "text": [
      "La presión es 4.500 kilo Pascales \n"
     ]
    }
   ],
   "source": [
    "presion=4.5;\n",
    "fprintf(\"La presión es %5.3f kilo Pascales \\n\",presion)"
   ]
  },
  {
   "cell_type": "markdown",
   "id": "6ea1a099-71e4-4ae3-8bb3-77694aed858d",
   "metadata": {},
   "source": [
    "El espacio vacío entre el texto y el número 4.500 se debe a que se reservan, por la indicación de formato **%5.3f**\n",
    "se reservaron 2 espacios para la parte entera del número a desplegar. El comando o función `fprintf()` tambíen se exptiende a cada uno de los elementos de los arreglos. Por ejemplo para una tabla de centímetros y pulgadas se puede usar el siguiente código:"
   ]
  },
  {
   "cell_type": "code",
   "execution_count": 8,
   "id": "8f3c04d4-ffa7-49b1-a1d6-a2e7bc265072",
   "metadata": {},
   "outputs": [
    {
     "name": "stdout",
     "output_type": "stream",
     "text": [
      "  Cm   Pulg\n",
      " 1.000  0.394 \n",
      " 1.500  0.591 \n",
      " 2.000  0.787 \n",
      " 2.500  0.984 \n",
      " 3.000  1.181 \n",
      " 3.500  1.378 \n",
      " 4.000  1.575 \n",
      " 4.500  1.772 \n",
      " 5.000  1.969 \n"
     ]
    }
   ],
   "source": [
    "% Tabla de conversión de centímetros a pulgadas\n",
    "cm=[1:0.5:5];\n",
    "pulgadas=cm./2.54;\n",
    "tabla=[cm;pulgadas]; % Se agrupan los datos convertidos en una matriz que será la tabla de datos\n",
    "disp(\"  Cm   Pulg\")\n",
    "fprintf(\"%6.3f %6.3f \\n\",tabla)"
   ]
  },
  {
   "cell_type": "markdown",
   "id": "bc822f04-a0f5-4948-aded-2e26bc3abba0",
   "metadata": {},
   "source": [
    "Una tabla con comandos de formato especial es la siguiente:\n",
    "\n",
    "```{list-table} Tabla de formatos especiales.\n",
    ":header-rows: 1\n",
    ":name: Tabla7\n",
    "* - Tipo de formato  \n",
    "  - Acción de formato resultante\n",
    "* - **\\n** \n",
    "  - Salto de línea\n",
    "* - **\\r**\n",
    "  - Regreso de carro \n",
    "* - **\\t**\n",
    "  - Tabulador\n",
    "* - **\\b**\n",
    "  - Retroceder un espacio\n",
    "```\n"
   ]
  },
  {
   "cell_type": "markdown",
   "id": "67589082-7500-4d3d-94c5-bf9f01713aec",
   "metadata": {},
   "source": [
    "## Ejercicio de la práctica 5.\n",
    "\n",
    "Escriba un programa que despliegue un menú con 4 opciones que realice las siguientes funciones según la selección del usuario.\n",
    "\n",
    " 1.- Grafica la parábola $y=3(x-2)^2$ en el intervalo $[-10,10]$.\n",
    " \n",
    " 2.- Hace el cálculo de: $z=\\sqrt{\\frac{354+45}{2}}$.\n",
    "\n",
    "3.- Grafica $y=5x^3-2x^2+3x+2$ en el intervalo $[-15.15]$ y solicita al usuario 4 puntos de la gráfica.\n",
    "\n",
    "4.- Suma los primeros 150 enteros.\n",
    "\n",
    "5.- Use el comando `disp` para crear un título para una tabla que convierta centímetros a pies.\n",
    "\n",
    "6.- Use el comando  `disp` para crear encabezados de columna para la tabla anterior.\n",
    "\n",
    "7.- Cree un vector de centímetros desde 30 hasta 1200 con un incremento de 100. Calcule los correspondientes valores de pies. Agrupe el vector cm y el vector pies en una matriz tabla.\n",
    "Use el comando `fprintf` para enviar la tabla a la ventana de comandos para visualizarla.\n",
    " "
   ]
  },
  {
   "cell_type": "code",
   "execution_count": null,
   "id": "9b6edad0-16e2-4daa-9eca-20e684a3ec29",
   "metadata": {},
   "outputs": [],
   "source": []
  }
 ],
 "metadata": {
  "kernelspec": {
   "display_name": "MATLAB Kernel",
   "language": "matlab",
   "name": "jupyter_matlab_kernel"
  },
  "language_info": {
   "file_extension": ".m",
   "mimetype": "text/x-matlab",
   "name": "matlab"
  }
 },
 "nbformat": 4,
 "nbformat_minor": 5
}