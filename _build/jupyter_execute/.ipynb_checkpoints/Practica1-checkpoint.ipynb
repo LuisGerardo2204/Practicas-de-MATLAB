{
 "cells": [
  {
   "attachments": {},
   "cell_type": "markdown",
   "id": "dc411ab3-620c-4e68-8ff4-d527b3bf07b2",
   "metadata": {},
   "source": [
    "# Práctica 1\n",
    "\n",
    "En esta práctica se utilizan comandos básicos de MATLAB y un ejemplo sencillo de solución de un sistema de ecuaciones.\n",
    ">\r\n"
   ]
  },
  {
   "cell_type": "code",
   "execution_count": 1,
   "id": "715c77bf-af96-4a02-963e-97406f466dbb",
   "metadata": {},
   "outputs": [
    {
     "data": {
      "image/png": "[encoded data removed]"
     },
     "execution_count": 1,
     "metadata": {},
     "output_type": "execute_result"
    }
   ],
   "source": [
    "t=[0:0.001:5];\n",
    "y=exp(-2.5*t).*cos(12*t);\n",
    "plot(t,y)"
   ]
  },
  {
   "cell_type": "markdown",
   "id": "95200958-3e28-4b7c-bb8b-b463913debd3",
   "metadata": {},
   "source": [
    "## Resolver un sistema de ecuaciones usando MATLAB\n",
    "\n",
    "El siguiente ejemplo muestra como utilizar MATLAB para resolver un sistema de ecuaciones de tres incógnitas\n",
    "```{math}\n",
    ":label: my_label\n",
    "\\begin{eqnarray}\n",
    "\t3x+2y-5z=10\\\\\n",
    "    2x-5y=25=13\\\\\n",
    "    -x+2y=3z=13\n",
    "\t\\label{dos}\n",
    "\t\\end{eqnarray}\n",
    "```\n",
    "    "
   ]
  },
  {
   "cell_type": "code",
   "execution_count": 2,
   "id": "eb9c9f0a-5b08-4dce-a505-5e0fae306ae1",
   "metadata": {},
   "outputs": [
    {
     "data": {
      "text/html": [
       "<html><body><pre>A = 3x3 double\n",
       "     3     2    -5\n",
       "     2    -5     1\n",
       "    -1     3    -3\n",
       "</pre></body></html>"
      ],
      "text/plain": [
       "A = 3x3 double\n",
       "     3     2    -5\n",
       "     2    -5     1\n",
       "    -1     3    -3\n"
      ]
     },
     "execution_count": 2,
     "metadata": {},
     "output_type": "execute_result"
    },
    {
     "data": {
      "text/html": [
       "<html><body><pre>B = 3x1 double\n",
       "    10\n",
       "    25\n",
       "    13\n",
       "</pre></body></html>"
      ],
      "text/plain": [
       "B = 3x1 double\n",
       "    10\n",
       "    25\n",
       "    13\n"
      ]
     },
     "execution_count": 2,
     "metadata": {},
     "output_type": "execute_result"
    }
   ],
   "source": [
    "A=[3 2 -5;2 -5 1;-1 3 -3]\n",
    "B=[10;25;13]"
   ]
  },
  {
   "cell_type": "markdown",
   "id": "25d25a1b",
   "metadata": {},
   "source": [
    "## La solución del sistema de ecuaciones se encuentra al realizar la operación matricial siguiente:\n",
    "\n",
    " \\begin{equation}\n",
    "   X=A^{-1}B\n",
    " \\end{equation}\n"
   ]
  },
  {
   "cell_type": "code",
   "execution_count": 3,
   "id": "ed563196",
   "metadata": {},
   "outputs": [
    {
     "data": {
      "text/html": [
       "<html><body><pre>X = 3x1 double\n",
       "   -9.8537\n",
       "  -11.4390\n",
       "  -12.4878\n",
       "</pre></body></html>"
      ],
      "text/plain": [
       "X = 3x1 double\n",
       "   -9.8537\n",
       "  -11.4390\n",
       "  -12.4878\n"
      ]
     },
     "execution_count": 3,
     "metadata": {},
     "output_type": "execute_result"
    }
   ],
   "source": [
    "X=inv(A)*B"
   ]
  },
  {
   "cell_type": "code",
   "execution_count": null,
   "id": "edf63b7d-67fe-48d1-bebf-9ae924cbdfb8",
   "metadata": {},
   "outputs": [],
   "source": []
  }
 ],
 "metadata": {
  "kernelspec": {
   "display_name": "MATLAB Kernel",
   "language": "matlab",
   "name": "jupyter_matlab_kernel"
  },
  "language_info": {
   "file_extension": ".m",
   "mimetype": "text/x-matlab",
   "name": "matlab"
  }
 },
 "nbformat": 4,
 "nbformat_minor": 5
}
