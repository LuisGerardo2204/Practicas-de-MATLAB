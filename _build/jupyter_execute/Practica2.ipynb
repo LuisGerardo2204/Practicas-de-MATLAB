{
 "cells": [
  {
   "cell_type": "markdown",
   "id": "3a678c7a",
   "metadata": {},
   "source": [
    " # Práctica 2: Archivos de programa y funciones\n",
    "\n",
    " En esta práctica se presenta el procedimiento para generar funciones personalizadas y programas. MATLAB cuenta con un basto repertorio de funciones y operaciones nativas como las que se utilizaron en la práctica pasada. Cuando re requiere ejecutar un conjunto de instrucciones en particular de manera repetida, que no se encuentre entre las que ofrece MATLAB, se debe crear una función o programa. \n",
    "\n",
    "```{admonition} Características de las funciones y los programas\n",
    "Las diferencias entre programas y funciones son las siguientes:\n",
    "* **Los programas** son secuencias de istrucciones, algunas de ellas pueden ser repetidas varias veces dentro de la secuencia. Se invocan escribiendo el nombre del archivo en el que se encuentran en la ventana de comandos.\n",
    "\n",
    "* **Las funciones** son secuencias de instrucciones que entregan alguna o varias salidas y requieren parámetros de entrada con los cuales trabajar o procesar. Se invocan usando el nombre con el que se guardaron, el resultado o resultados que entregan se almacena en alguna o algunas variables, por ejemplo: `a=area_circulo(2);`, esta instrucción calculará el radio de un circulo de radio 2.\n",
    "```\n",
    "\n",
    "## Selección de la carpeta de trabajo\n",
    "\n",
    "Con el fin de tener orden en las programas y funciones que se crean con fines específicos, es recpmendable crear una carpeta\n",
    "de trabajo en donde todos los archivos se almacenen. Para seleccionar una carpeta en especiífico, se debe seguir el procedimiento que se muestra en el video siguiente:\n",
    "\n",
    "<div align='center'>\n",
    "<video controls autoplay muted=\"true\" loop=\"true\" width=\"600\">\n",
    "    <source src=\"./_static/videos/cambio_dir.mp4 \" type=\"video/mp4\">\n",
    "</video>\n",
    "</div>\n",
    "\n",
    "\n",
    "## Creación de programas\n",
    "\n",
    "Un programa en MATLAB es un conjunto de instrucciones que se escriben como una secuencia de pasos para lograr un determinado objetivo. Dichas instrucciones se almacenan en un archivo de texto. El archivo generado tendrá la extensión .m, lo que le permite a MATLAB identificar que se trata de un conjunto de instrucciones o sentencias ejecutables en el command window de manera automática. El programa o conjunto de intrucciones se genera usando la pestaña nombrada editor, en el siguiente video se muestra el procedimiento para escribir un programa:\n",
    "\n",
    " <div align='center'>\n",
    "<video controls autoplay muted=\"true\" loop=\"true\" width=\"600\">\n",
    "    <source src=\"./_static/videos/crea_script.mp4 \" type=\"video/mp4\">\n",
    "</video>\n",
    "</div>\n",
    "\n",
    "El código utilizado en el programa del video es el que se muestra a continuación:\n",
    "\n",
    "```Octave\n",
    "clear %Limpia todas la variables\n",
    "clc %Limpia la ventana de comandos\n",
    "close all %Cierra todas las graficas\n",
    "C=[-5:0.5:40]; %Tabla de datos C a F\n",
    "F=(9/5)*C+32; %Convertir C a F\n",
    "figure\n",
    "plot (C,F) %Grafica\n",
    "\n",
    "t=[0:1:5]; %Vector de variable independiente\n",
    "y=exp(-2.5*t).*cos(11.35*t) %Calculo de una funcion\n",
    "\n",
    "v=[0:0.01:100]; %Arreglo de prueba\n",
    "v(30)%Acceso a la localidad 30\n",
    "\n",
    "A=[0:0.0001:0.1]; %Vector de variable independiente\n",
    "y=cos(115*A).*sin(30*A)+2; %Calculo de una funcion\n",
    "figure\n",
    "plot(A,y) %Grafica\n",
    "\n",
    "%Solucion de un sistema de ecuaciones usando matrices\n",
    "A=[3 2 -5; 1 0.5 3; -2 7 -3]\n",
    "B=[10 5 -2]\n",
    "X=(A^-1)*B'%Calculo alternativo\n",
    "X=inv(A)*B'%B' Significa transpuesta\n",
    "\n",
    "A(1,3)%Acceder a la localidad Fila=1 Columna=3\n",
    "A(2,3)%Acceder a la localidad Fila=2 Columna=3\n",
    "```\n",
    "Este programa en particular no realiza ninguna tarea en específico, simplemente fue creado como ejemplo, recopilando las instrucciones básicas vistas en la Práctica 1.\n",
    "\n",
    "## Creación de funciones\n",
    "\n",
    "El procedimiento para generar funciones se presenta en el siguiente video:\n",
    "\n",
    " <div align='center'>\n",
    "<video controls autoplay muted=\"true\" loop=\"true\" width=\"600\">\n",
    "    <source src=\"./_static/videos/crea_func.mp4 \" type=\"video/mp4\">\n",
    "</video>\n",
    "</div>\n",
    "\n",
    "Una función se diferencia de un programa por que tiene la característica de solicitar variables de entrada, en el caso de este ejemplo, el parámetro de entrada o argumento es el radio y la salida es la multiplicación de este valor al cuadrado por la constante $\\pi$, que en MATLAB está almacenada en una variable propia llamada pi.\n",
    "\n",
    "```Octave\n",
    "function a=area_circulo(radio)\n",
    "a=pi*(radio^2);\n",
    "end\n",
    "```\n",
    "Las funciones pueden recibir varios parámetros de entrada y proporcionar varios datos de salida, por ejemplo:\n",
    "\n",
    "```Octave\n",
    "function [a v]=area_volumen_cilindro(radio,altura)\n",
    "a=pi*(radio^2);\n",
    "v=a*altura;\n",
    "end\n",
    "```\n",
    "\n",
    "`````{admonition} Información importante\n",
    ":class: tip\n",
    "Tanto las funciones como los programas almacenados en archivos con extensión .m se pueden invocar o mandar llamar desde otras funciones o programas.\n",
    "`````"
   ]
  },
  {
   "cell_type": "code",
   "execution_count": 1,
   "id": "211fff4b",
   "metadata": {
    "tags": []
   },
   "outputs": [
    {
     "name": "stdout",
     "output_type": "stream",
     "text": [
      "ans = 12.566\n"
     ]
    },
    {
     "name": "stdout",
     "output_type": "stream",
     "text": [
      "a = 201.06\n",
      "v = 2412.7\n"
     ]
    }
   ],
   "source": [
    "%Programa de prueba\n",
    "radio1=2;\n",
    "radio2=8;\n",
    "altura=12;\n",
    "area_circulo(radio1)\n",
    "[a v]=area_volumen_cilindro(radio2,altura)"
   ]
  },
  {
   "cell_type": "markdown",
   "id": "6ec35dc1",
   "metadata": {},
   "source": [
    "## Entrada de datos a traves del teclado\n",
    "\n",
    "A menudo se requiere de la interacción con el usuario de un programa, en el sentido de que resulta más cómodo proporcionar un valor numérico a travez del teclado, en vez de editar el código si se requiere hacer cálculos de formulas incluidas en el cuerpo de los programas con diferentes valores o parámetros. La instrucción para proporcionar datos a travez del teclado en  \n",
    "MATLAB es `a=input(\"mensaje\")`, donde `a` es la variable en donde se almacena el dato proporcionado por el usuario. Por ejemplo, la estructura de un programa que calcula el volumen de un tanque cilindrico es la siguiente:\n",
    "\n",
    "\n",
    "```Octave\n",
    "%Programa para calcular el volumen de un cilindro\n",
    "clear\n",
    "close all\n",
    "clc\n",
    "disp(\"Proporcione el radio de la base\")\n",
    "r=input(\"r=\")\n",
    "disp(\"Proporcione la altura del cilindro\")\n",
    "h=input(\"h=\")\n",
    "volumen=(pi*r^2)*h;\n",
    "disp(\"El volumen del cilindro es:\")\n",
    "volumen\n",
    "```"
   ]
  }
 ],
 "metadata": {
  "jupytext": {
   "formats": "md:myst",
   "text_representation": {
    "extension": ".md",
    "format_name": "myst",
    "format_version": 0.13,
    "jupytext_version": "1.11.5",
    "language": "es"
   }
  },
  "kernelspec": {
   "display_name": "Octave",
   "language": "Octave",
   "name": "Octave"
  },
  "language_info": {
   "file_extension": ".m",
   "help_links": [
    {
     "text": "GNU Octave",
     "url": "https://www.gnu.org/software/octave/support.html"
    },
    {
     "text": "Octave Kernel",
     "url": "https://github.com/Calysto/octave_kernel"
    },
    {
     "text": "MetaKernel Magics",
     "url": "https://metakernel.readthedocs.io/en/latest/source/README.html"
    }
   ],
   "mimetype": "text/x-octave",
   "name": "octave",
   "version": "8.3.0"
  },
  "source_map": [
   14,
   112,
   120
  ]
 },
 "nbformat": 4,
 "nbformat_minor": 5
}