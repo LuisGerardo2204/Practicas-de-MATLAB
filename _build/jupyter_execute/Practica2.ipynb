{
 "cells": [
  {
   "cell_type": "markdown",
   "id": "a1c318e7",
   "metadata": {},
   "source": [
    " # Práctica 2: Archivos de programa y funciones\n",
    "\n",
    " En esta práctica se presenta el procedimiento para generar funciones personalizadas y programas. MATLAB cuenta con un basto repertorio de funciones y operaciones nativas como las que se utilizaron en la práctica pasada. Cuando re requiere ejecutar un conjunto de instrucciones en particular de manera repetida, que no se encuentre entre las que ofrece MATLAB, se debe crear una función o programa. \n",
    "\n",
    "```{admonition} Características de las funciones y los programas\n",
    "Las diferencias entre programas y funciones son las siguientes:\n",
    "* **Los programas** son secuencias de istrucciones, algunas de ellas pueden ser repetidas varias veces dentro de la secuencia. Se invocan escribiendo el nombre del archivo en el que se encuentran en la ventana de comandos.\n",
    "\n",
    "* **Las funciones** son secuencias de instrucciones que entregan alguna o varias salidas y requieren parámetros de entrada con los cuales trabajar o procesar. Se invocan usando el nombre con el que se guardaron, el resultado o resultados que entregan se almacena en alguna o algunas variables, por ejemplo: `a=area_circulo(2);`, esta instrucción calculará el radio de un circulo de radio 2.\n",
    "```\n",
    "\n",
    "## Selección de la carpeta de trabajo\n",
    "\n",
    "Con el fin de tener orden en las programas y funciones que se crean con fines específicos, es recpmendable crear una carpeta\n",
    "de trabajo en donde todos los archivos se almacenen. Para seleccionar una carpeta en especiífico, se debe seguir el procedimiento que se muestra en el video siguiente:\n",
    "\n",
    "<div align='center'>\n",
    "<video controls autoplay muted=\"true\" loop=\"true\" width=\"600\">\n",
    "    <source src=\"./_static/videos/cambio_dir.mp4 \" type=\"video/mp4\">\n",
    "</video>\n",
    "</div>\n",
    "\n",
    "\n",
    "## Creación de programas\n",
    "\n",
    "Un programa en MATLAB es un conjunto de instrucciones que se escriben como una secuencia de pasos para lograr un determinado objetivo. Dichas instrucciones se almacenan en un archivo de texto. El archivo generado tendrá la extensión .m, lo que le permite a MATLAB identificar que se trata de un conjunto de instrucciones o sentencias ejecutables en el command window de manera automática. El programa o conjunto de intrucciones se genera usando la pestaña nombrada editor, en el siguiente video se muestra el procedimiento para escribir un programa:\n",
    "\n",
    " <div align='center'>\n",
    "<video controls autoplay muted=\"true\" loop=\"true\" width=\"600\">\n",
    "    <source src=\"./_static/videos/crea_script.mp4 \" type=\"video/mp4\">\n",
    "</video>\n",
    "</div>\n",
    "\n",
    "El código utilizado en el programa del video es el que se muestra a continuación:"
   ]
  },
  {
   "cell_type": "code",
   "execution_count": 1,
   "id": "67998b03",
   "metadata": {
    "tags": [
     "remove-output"
    ]
   },
   "outputs": [
    {
     "name": "stdout",
     "output_type": "stream",
     "text": [
      "y =\n",
      "\n",
      " Columns 1 through 5:\n",
      "\n",
      "   1.0000000000   0.0284877489  -0.0051148433  -0.0004833697   0.0000069233\n",
      "\n",
      " Column 6:\n",
      "\n",
      "   0.0000036514\n",
      "\n"
     ]
    },
    {
     "name": "stdout",
     "output_type": "stream",
     "text": [
      "ans =  0.29000\n"
     ]
    },
    {
     "name": "stdout",
     "output_type": "stream",
     "text": [
      "A =\n",
      "\n",
      "   3.00000   2.00000  -5.00000\n",
      "   1.00000   0.50000   3.00000\n",
      "  -2.00000   7.00000  -3.00000\n",
      "\n"
     ]
    },
    {
     "name": "stdout",
     "output_type": "stream",
     "text": [
      "B =\n",
      "\n",
      "   10    5   -2\n",
      "\n"
     ]
    },
    {
     "name": "stdout",
     "output_type": "stream",
     "text": [
      "X =\n",
      "\n",
      "   3.40969\n",
      "   0.85463\n",
      "   0.38767\n",
      "\n"
     ]
    },
    {
     "name": "stdout",
     "output_type": "stream",
     "text": [
      "X =\n",
      "\n",
      "   3.40969\n",
      "   0.85463\n",
      "   0.38767\n",
      "\n"
     ]
    },
    {
     "name": "stdout",
     "output_type": "stream",
     "text": [
      "ans = -5\n"
     ]
    },
    {
     "name": "stdout",
     "output_type": "stream",
     "text": [
      "ans =  3\n"
     ]
    },
    {
     "name": "stderr",
     "output_type": "stream",
     "text": [
      "\u001b[1;31mInline plot failed, consider trying another graphics toolkit\n",
      "error: print: figure must be visible or qt toolkit must be used with __gl_window__ property 'on' or QT_OFFSCREEN feature available\n",
      "error: called from\n",
      "    _make_figures>safe_print at line 125 column 7\n",
      "    _make_figures at line 49 column 13\n",
      "\n",
      "\u001b[0m"
     ]
    }
   ],
   "source": [
    "clear %Limpia todas la variables\n",
    "clc %Limpia la ventana de comandos\n",
    "close all %Cierra todas las graficas\n",
    "C=[-5:0.5:40]; %Tabla de datos C a F\n",
    "F=(9/5)*C+32; %Convertir C a F\n",
    "figure\n",
    "plot (C,F) %Grafica\n",
    "\n",
    "t=[0:1:5]; %Vector de variable independiente\n",
    "y=exp(-2.5*t).*cos(11.35*t) %Calculo de una funcion\n",
    "\n",
    "v=[0:0.01:100]; %Arreglo de prueba\n",
    "v(30)%Acceso a la localidad 30\n",
    "\n",
    "A=[0:0.0001:0.1]; %Vector de variable independiente\n",
    "y=cos(115*A).*sin(30*A)+2; %Calculo de una funcion\n",
    "figure\n",
    "plot(A,y) %Grafica\n",
    "\n",
    "%Solucion de un sistema de ecuaciones usando matrices\n",
    "A=[3 2 -5; 1 0.5 3; -2 7 -3]\n",
    "B=[10 5 -2]\n",
    "X=(A^-1)*B'%Calculo alternativo\n",
    "X=inv(A)*B'%B' Significa transpuesta\n",
    "\n",
    "A(1,3)%Acceder a la localidad Fila=1 Columna=3\n",
    "A(2,3)%Acceder a la localidad Fila=2 Columna=3"
   ]
  },
  {
   "cell_type": "markdown",
   "id": "d110c17a",
   "metadata": {},
   "source": [
    "Este programa en particular no realiza ninguna tarea en específico, simplemente fue creado como ejemplo, recopilando las instrucciones básicas vistas en la Práctica 1.\n",
    "\n",
    "## Creación de funciones\n",
    "\n",
    "El procedimiento para generar funciones se presenta en el siguiente video:\n",
    "\n",
    " <div align='center'>\n",
    "<video controls autoplay muted=\"true\" loop=\"true\" width=\"600\">\n",
    "    <source src=\"./_static/videos/crea_func.mp4 \" type=\"video/mp4\">\n",
    "</video>\n",
    "</div>\n",
    "\n",
    "Una función se diferencia de un programa por que tiene la característica de solicitar variables de entrada, en el caso de este ejemplo, el parámetro de entrada o argumento es el radio y la salida es la multiplicación de este valor al cuadrado por la constante $\\pi$, que en MATLAB está almacenada en una variable propia llamada pi."
   ]
  },
  {
   "cell_type": "code",
   "execution_count": 2,
   "id": "125fbf0b",
   "metadata": {
    "tags": [
     "remove-output"
    ]
   },
   "outputs": [
    {
     "name": "stderr",
     "output_type": "stream",
     "text": [
      "\u001b[1;31mInline plot failed, consider trying another graphics toolkit\n",
      "error: print: figure must be visible or qt toolkit must be used with __gl_window__ property 'on' or QT_OFFSCREEN feature available\n",
      "error: called from\n",
      "    _make_figures>safe_print at line 125 column 7\n",
      "    _make_figures at line 49 column 13\n",
      "\n",
      "\u001b[0m"
     ]
    }
   ],
   "source": [
    "function a=area_circulo(radio)\n",
    "a=pi*(radio^2);\n",
    "end"
   ]
  },
  {
   "cell_type": "markdown",
   "id": "e811cda3",
   "metadata": {},
   "source": [
    "`````{admonition} Información importante\n",
    ":class: tip\n",
    "<div align='justify'>\n",
    "Tanto las funciones como los programas almacenados en archivos con extensión .m se pueden invocar o mandar llamar desde otras funciones o programas.\n",
    "</div>\n",
    "`````"
   ]
  },
  {
   "cell_type": "code",
   "execution_count": 3,
   "id": "234b0151",
   "metadata": {
    "tags": [
     "remove-stderr"
    ]
   },
   "outputs": [
    {
     "name": "stdout",
     "output_type": "stream",
     "text": [
      "ans =  12.566\n"
     ]
    },
    {
     "name": "stdout",
     "output_type": "stream",
     "text": [
      "ans =  201.06\n"
     ]
    }
   ],
   "source": [
    "%Programa de prueba\n",
    "radio1=2;\n",
    "radio2=8;\n",
    "area_circulo(radio1)\n",
    "area_circulo(radio2)"
   ]
  }
 ],
 "metadata": {
  "jupytext": {
   "formats": "md:myst",
   "text_representation": {
    "extension": ".md",
    "format_name": "myst",
    "format_version": 0.13,
    "jupytext_version": "1.11.5",
    "language": "es"
   }
  },
  "kernelspec": {
   "display_name": "Octave",
   "language": "Octave",
   "name": "Octave"
  },
  "language_info": {
   "file_extension": ".m",
   "help_links": [
    {
     "text": "GNU Octave",
     "url": "https://www.gnu.org/software/octave/support.html"
    },
    {
     "text": "Octave Kernel",
     "url": "https://github.com/Calysto/octave_kernel"
    },
    {
     "text": "MetaKernel Magics",
     "url": "https://metakernel.readthedocs.io/en/latest/source/README.html"
    }
   ],
   "mimetype": "text/x-octave",
   "name": "octave",
   "version": "5.2.0"
  },
  "source_map": [
   14,
   50,
   80,
   97,
   102,
   111
  ]
 },
 "nbformat": 4,
 "nbformat_minor": 5
}