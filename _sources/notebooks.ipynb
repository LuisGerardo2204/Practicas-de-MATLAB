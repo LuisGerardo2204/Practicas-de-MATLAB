{
 "cells": [
  {
   "cell_type": "markdown",
   "id": "45459fd3-b13b-4307-8c28-d099ba33c3ff",
   "metadata": {},
   "source": [
    "# Notebooks con kernel de Python normales"
   ]
  },
  {
   "cell_type": "code",
   "execution_count": 1,
   "id": "24851cee-09ef-49a3-8974-d55a1b18dafd",
   "metadata": {},
   "outputs": [
    {
     "data": {
      "application/vnd.jupyter.widget-view+json": {
       "model_id": "268349da7cf04df38163ce9d5b859036",
       "version_major": 2,
       "version_minor": 0
      },
      "text/plain": [
       "interactive(children=(FloatSlider(value=1000.0, description='fs', max=5000.0, min=100.0, step=10.0), IntSlider…"
      ]
     },
     "metadata": {},
     "output_type": "display_data"
    }
   ],
   "source": [
    "%matplotlib inline\n",
    "from ipywidgets import interact\n",
    "import ipywidgets as widgets\n",
    "from __future__ import division, absolute_import, print_function\n",
    "import csv\n",
    "import array    # una variable arreglo para almacenar los datos recibidos\n",
    "import matplotlib.pyplot as plt\n",
    "import matplotlib.pylab as plb\n",
    "import numpy as np\n",
    "from optparse import OptionParser   # para desempaquetar o armar las opciones\n",
    "import time   # que permitan armar archivos  sus nombres.\n",
    "\n",
    "\n",
    "def f(fs,R,C,L):\n",
    "   \n",
    "\n",
    "    t=np.arange(0,10000*(1/10000),1/10000)\n",
    "\n",
    "    i0=0;            #\n",
    "    v0=0;            # Condiciones iniciales\n",
    "    A=0;             # \n",
    "    U0=A;            # \n",
    "    #R = 1600;\n",
    "    #R = 1570; \n",
    "    #L =15.02;\n",
    "    C =C*(10.0**(-6));  \n",
    "\n",
    "    h=1/fs;         # Ancho del paso \n",
    "    N=int(0.4/h);    # Número total de pasos\n",
    "\n",
    "    i2=np.empty([N+1],dtype=float);\n",
    "    v2=np.empty([N+1],dtype=float);\n",
    "\n",
    "    i3=np.empty([N+1],dtype=float);\n",
    "    v3=np.empty([N+1],dtype=float);\n",
    "\n",
    "    i4=np.empty([N+1],dtype=float);\n",
    "    v4=np.empty([N+1],dtype=float);\n",
    "\n",
    "    tr=np.empty([N+1],dtype=float);\n",
    "    U=np.empty([N+1],dtype=float);\n",
    "\n",
    "    tr[0]=0;         # \n",
    "    i2[0]=i0;\n",
    "    i3[0]=i0;\n",
    "    i4[0]=i0;\n",
    "# Condiciones iniciales\n",
    "    v2[0]=v0;\n",
    "    v3[0]=v0;\n",
    "    v4[0]=v0;\n",
    "# \n",
    "    U[0]=U0;\n",
    "\n",
    "\n",
    "    n=0\n",
    "    for n in range(N):\n",
    "        tr[n+1]=n*h;\n",
    "        U[n]=1.638;\n",
    "        U[n+1]=1.638;\n",
    "        #U[n]=1.598;\n",
    "        #U[n+1]=1.598\n",
    "        # método RK2 \n",
    "        k11=-R/L*i2[n]-1/L*v2[n]+1/L*U[n];\n",
    "        k12=1/C*i2[n];\n",
    "    \n",
    "        k21=-R/L*(i2[n]+h*k11)-1/L*(v2[n]+h*k12)+1/L*U[n];\n",
    "        k22=1/C*(i2[n]+h*k11);\n",
    "    \n",
    "        i2[n+1]=i2[n]+h*(0.5*k11+0.5*k21);\n",
    "        v2[n+1]=v2[n]+h*(0.5*k12+0.5*k22);\n",
    "        #i2[n+1]=i2[n]+h*((1/3)*k11+(2/3)*k21);\n",
    "        #v2[n+1]=v2[n]+h*((1/3)*k12+(2/3)*k22);\n",
    "\n",
    "        # método RK3 \n",
    "        k11=-R/L*i3[n]-1/L*v3[n]+1/L*U[n];\n",
    "        k12=1/C*i3[n];\n",
    "\n",
    "        k21=-R/L*(i3[n]+0.5*h)-1/L*(v3[n]+0.5*h*k11)+1/L*U[n];\n",
    "        k22=1/C*(i3[n]+0.5*h);\n",
    "\n",
    "        k31=-R/L*(i3[n]+h)-1/L*(v3[n]-h*k11+2*k21*h)+1/L*U[n];\n",
    "        k32=1/C*(i3[n]+h);\n",
    "    \n",
    "        i3[n+1]=i3[n]+(1/6)*h*(k11+4*k21+k31);\n",
    "        v3[n+1]=v3[n]+(1/6)*h*(k12+4*k22+k32);\n",
    "\n",
    "        # método RK4 \n",
    "        k11=-R/L*i4[n]-1/L*v4[n]+1/L*U[n];\n",
    "        k12=1/C*i4[n];\n",
    "\n",
    "        k21=-R/L*(i4[n]+0.5*h)-1/L*(v4[n]+0.5*h*k12)+1/L*U[n];\n",
    "        k22=1/C*(i4[n]+0.5*h);\n",
    "\n",
    "        k31=-R/L*(i4[n]+0.5*h)-1/L*(v4[n]+0.5*h*k22)+1/L*U[n];\n",
    "        k32=1/C*(i4[n]+h*0.5);\n",
    "    \n",
    "        k41=-R/L*(i4[n]+h)-1/L*(v4[n]+h*k32)+1/L*U[n];\n",
    "        k42=1/C*(i4[n]+h);\n",
    "\n",
    "\n",
    "        i4[n+1]=i4[n]+(1/6)*h*(k11+2*k21+2*k31+k41);\n",
    "        v4[n+1]=v4[n]+(1/6)*h*(k12+2*k22+2*k32+k42);\n",
    "\n",
    "        n=n+1;\n",
    "  \n",
    "    plt.plot(tr,v2)\n",
    "    plt.plot(tr,v3)\n",
    "    plt.plot(tr,v4)\n",
    "\n",
    "    plt.title('V(t)')\n",
    "    plt.xlabel('t [s]')\n",
    "    plt.ylabel('Voltaje (V)')\n",
    "    plt.legend([\"Runge-Kutta 2\",\"Runge-Kutta 3\",\"Runge-Kutta 4\"], numpoints=1,loc=0)\n",
    "\n",
    "    #return(R)\n",
    "#n=0\n",
    "#for n in range(4):\n",
    "#    interact(f,fs=2000, R=1200+n*100,C=1.2,L=15.3);\n",
    "#    time.sleep(0.5)\n",
    "#    n=n+1;\n",
    "\n",
    "interact(f,fs=widgets.FloatSlider(min=100,max=5000,step=10,value=1000), R=widgets.IntSlider(min=120,max=8000,step=10,value=1500),C=widgets.FloatSlider(min=1,max=100,step=1.1,value=15.0),L=widgets.FloatSlider(min=1,max=30,step=1.1,value=15.0));\n",
    "\n"
   ]
  },
  {
   "attachments": {
    "d67f1eef-544e-48d5-b183-1c7e8893c2db.PNG": {
     "image/png": "[encoded data removed]"
    }
   },
   "cell_type": "markdown",
   "id": "a2e270ce-d913-4786-b51f-efe7dfdedcd1",
   "metadata": {},
   "source": [
    "## Práctica 1\n",
    "\n",
    "En esta práctica se utilizan comandos básicos de MATLAB y un ejemplo sencillo de solución de un sistema de ecuaciones.\n",
    "\n",
    "![Captura1.PNG](attachment:d67f1eef-544e-48d5-b183-1c7e8893c2db.PNG)PNG)"
   ]
  },
  {
   "cell_type": "markdown",
   "id": "4a82da70-9e8e-4f38-919d-4aa29bcb6ff7",
   "metadata": {},
   "source": [
    "## Resolver el sistema de ecuaciones usando MATLAB\n",
    "\n",
    "\n",
    " \\begin{equation}\n",
    "   3x+2y-5z=10\n",
    " \\end{equation}\n",
    " \n",
    " \\begin{equation}\\\n",
    "   2x-5y=25=13\n",
    " \\end{equation} \\begin{equation}\\\\\n",
    "   -x+2y=3z=13\n",
    " \\end{equation}\n"
   ]
  },
  {
   "cell_type": "code",
   "execution_count": null,
   "id": "63c4796d-8bf7-418f-bcb9-68972f9c42cc",
   "metadata": {},
   "outputs": [],
   "source": []
  }
 ],
 "metadata": {
  "kernelspec": {
   "display_name": "Python 3 (ipykernel)",
   "language": "python",
   "name": "python3"
  },
  "language_info": {
   "codemirror_mode": {
    "name": "ipython",
    "version": 3
   },
   "file_extension": ".py",
   "mimetype": "text/x-python",
   "name": "python",
   "nbconvert_exporter": "python",
   "pygments_lexer": "ipython3",
   "version": "3.8.10"
  }
 },
 "nbformat": 4,
 "nbformat_minor": 5
}
