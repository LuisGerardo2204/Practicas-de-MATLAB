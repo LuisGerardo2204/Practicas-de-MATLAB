{
 "cells": [
  {
   "cell_type": "markdown",
   "id": "b068e0cc-3bef-438b-9b18-30ae2d29cfae",
   "metadata": {},
   "source": [
    "# Práctica 5: Entrada-salida de datos y formatos de dspliegue \n",
    "\n",
    " En esta prácitca se abordan situaciones que se presentan cuando se trabaja con programas, cuyo objetivo o aplicación final implican que el programador y el usuario final del código pudieran ser personas diferentes. Esto hará necesaria una comunicación sencilla y efectiva con el usuario a través de instrucciones y funciones de entrada y salid. Como se vio en la Práctica 2, en  MATLAB existen funciones nativas que permiten al usuario comunicarse con un programa conforme se ejecuta. El comando `input()` permite solicitar al usuario el valor de un dato de entrada y almacenarlo para su posterior uso. Las funciones nativas `disp()` y `fprintf()` porporcionan una salida visual en la ventana de comandos. \n",
    "\n",
    "La función `input()` permite ingresar incluso arreglos completos, por ejemplom si se usa la instrucción:\n",
    "\n",
    "`>>v=input(\"ingese un vector con el formato de corchetes\")`\n",
    "\n",
    "El usuario introduce el vector en formato de corchetes:\n",
    "\n",
    "`>>[1,-3,5];`\n",
    "\n",
    "Tambien se puede introducir una matriz completa:\n",
    "\n",
    "`A=input(\"ingese una matriz cuadrada con el formato de corchetes\")`\n",
    "\n",
    "El usuario introdude la Matriz A en formato de corchetes:\n",
    "\n",
    "`>>[1 3 4;5 6 -1;9 2 5]`\n",
    "\n",
    "Una consideración importante es el hecho de que los datos de entrada tambien puenden ser cadenas de caracteres o texto:\n",
    "\n",
    "`>>nombre=input(\"ingese su nombre completo entre comillas\")`\n",
    "\n",
    "El usuario entonces puede introducir su nombre usando el formato de las comillas:\n",
    "\n",
    "`>>\"Luis Gerardo Trujillo Franco\"`\n",
    "\n",
    "Una opción más para solicitar datos de entrada al usuario, es por medio de la coleción de datos directamente de una curva en una gráfica. Esta forma de solicitar datos al usuario se lleva a cabo usado la función `ginput()`. Esta función se utiliza para colectar puntos en forma de pares ordenados, el número entre paréntesis es el total de puntos o pares ordenados que se colectarán de la gráfica. Lo anterior se muestra en el siguiente video:\n",
    "\n",
    " <div align='center'>\n",
    "<video controls autoplay muted=\"true\" loop=\"true\" width=\"600\">\n",
    "    <source src=\"./_static/videos/ginput.mp4 \" type=\"video/mp4\">\n",
    "</video>\n",
    "</div>\n",
    "\n",
    "Las siguientes instrucciones permiten reproducir lo mostrado en el video:\n"
   ]
  },
  {
   "cell_type": "code",
   "execution_count": 1,
   "id": "ea673f7e-85b7-49ea-a39e-b40db2ea5713",
   "metadata": {},
   "outputs": [],
   "source": [
    "t=[0:0.001:2];\n",
    "y=exp(-3.5*t).*cos(45.*t);"
   ]
  },
  {
   "cell_type": "markdown",
   "id": "06d19721-3d26-415f-8f12-803b22e366c4",
   "metadata": {},
   "source": [
    "Usando el comado ginput se otienen, por ejemplo, las coordenadas de dos crestas de la gráfica:"
   ]
  },
  {
   "cell_type": "code",
   "execution_count": 2,
   "id": "adf6741a-e1b1-4910-91db-fa506efd7a18",
   "metadata": {},
   "outputs": [
    {
     "data": {
      "image/png": "[encoded data removed]"
     },
     "execution_count": 2,
     "metadata": {},
     "output_type": "execute_result"
    },
    {
     "data": {
      "text/html": [
       "<html><body><pre>x = 2x1 double\n",
       "    0.1359\n",
       "    0.2788\n",
       "</pre></body></html>"
      ],
      "text/plain": [
       "x = 2x1 double\n",
       "    0.1359\n",
       "    0.2788\n"
      ]
     },
     "execution_count": 2,
     "metadata": {},
     "output_type": "execute_result"
    },
    {
     "data": {
      "text/html": [
       "<html><body><pre>y = 2x1 double\n",
       "    0.6090\n",
       "    0.3571\n",
       "</pre></body></html>"
      ],
      "text/plain": [
       "y = 2x1 double\n",
       "    0.6090\n",
       "    0.3571\n"
      ]
     },
     "execution_count": 2,
     "metadata": {},
     "output_type": "execute_result"
    }
   ],
   "source": [
    "plot(t,y)\n",
    "[x,y]=ginput(2)"
   ]
  },
  {
   "cell_type": "markdown",
   "id": "c9cc8562-36cb-4d7c-a4d8-b5048f58b6e4",
   "metadata": {},
   "source": [
    "```{list-table} Formatos para presentación de datos\n",
    ":header-rows: 1\n",
    ":name: Tabla 05\n",
    "* - Tipo de dato\n",
    "  - Resultado\n",
    "* - **%f**\n",
    "  - Notación de punto decimal.\n",
    "* - **%e**\n",
    "  - Notación exponencial\n",
    "* - **%g**\n",
    "  - La más corta **%f** o **%e** \n",
    "* - **%c**\n",
    "  - Información de caracter\n",
    "* - **%s**\n",
    "  - Cadena de caracteres.\n",
    "```"
   ]
  },
  {
   "cell_type": "code",
   "execution_count": null,
   "id": "e5c956cb-6059-40ad-839f-5cffb9efee78",
   "metadata": {},
   "outputs": [],
   "source": []
  }
 ],
 "metadata": {
  "kernelspec": {
   "display_name": "MATLAB Kernel",
   "language": "matlab",
   "name": "jupyter_matlab_kernel"
  },
  "language_info": {
   "file_extension": ".m",
   "mimetype": "text/x-matlab",
   "name": "matlab"
  }
 },
 "nbformat": 4,
 "nbformat_minor": 5
}
