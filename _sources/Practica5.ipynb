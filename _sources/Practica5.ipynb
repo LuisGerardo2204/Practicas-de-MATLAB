{
 "cells": [
  {
   "cell_type": "markdown",
   "id": "b068e0cc-3bef-438b-9b18-30ae2d29cfae",
   "metadata": {},
   "source": [
    "# Práctica 5: Entrada y salida de datos controladas por el usuario\n",
    "\n",
    "Hasta el momento, MATLAB se ha usado de dos maneras: como una memoria de\n",
    "trabajo auxiliar (scratch pad) en la ventana de comandos y para escribir programas\n",
    "simples (archivos-m script y funciones) en la ventana de edición. En ambos casos se\n",
    "supuso que el programador era el usuario. En este capítulo se avanzará hacia los programas\n",
    "más complicados, escritos en la ventana de edición, suponiendo que el programador\n",
    "y el usuario pueden ser personas diferentes. Esto hará necesario comunicarse\n",
    "con el usuario a través de comandos de entrada y salida, en lugar de reescribir el código\n",
    "real para resolver problemas similares. MATLAB ofrece funciones internas para\n",
    "permitir al usuario comunicarse con un programa conforme se ejecuta. El comando\n",
    "input detiene el programa y conmina al usuario a ingresar una entrada; los comandos\n",
    "disp y fprintf proporcionan salida a la ventana de comandos\n"
   ]
  },
  {
   "cell_type": "code",
   "execution_count": 1,
   "id": "7944555b-8594-4c57-aed7-014a3b707af6",
   "metadata": {},
   "outputs": [
    {
     "data": {
      "image/png": "[encoded data removed]"
     },
     "execution_count": 1,
     "metadata": {},
     "output_type": "execute_result"
    },
    {
     "data": {
      "text/html": [
       "<html><body><pre>x = 2x1 double\n",
       "    0.7488\n",
       "    1.4585\n",
       "</pre></body></html>"
      ],
      "text/plain": [
       "x = 2x1 double\n",
       "    0.7488\n",
       "    1.4585\n"
      ]
     },
     "execution_count": 1,
     "metadata": {},
     "output_type": "execute_result"
    },
    {
     "data": {
      "text/html": [
       "<html><body><pre>y = 2x1 double\n",
       "    0.5423\n",
       "    2.1399\n",
       "</pre></body></html>"
      ],
      "text/plain": [
       "y = 2x1 double\n",
       "    0.5423\n",
       "    2.1399\n"
      ]
     },
     "execution_count": 1,
     "metadata": {},
     "output_type": "execute_result"
    }
   ],
   "source": [
    "t=[0:0.001:2];\n",
    "y=t.^2;\n",
    "plot(t,y)\n",
    "[x,y]=ginput(2)\n"
   ]
  }
 ],
 "metadata": {
  "kernelspec": {
   "display_name": "MATLAB Kernel",
   "language": "matlab",
   "name": "jupyter_matlab_kernel"
  },
  "language_info": {
   "file_extension": ".m",
   "mimetype": "text/x-matlab",
   "name": "matlab"
  }
 },
 "nbformat": 4,
 "nbformat_minor": 5
}
