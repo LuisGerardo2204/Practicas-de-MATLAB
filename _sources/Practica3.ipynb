{
 "cells": [
  {
   "cell_type": "markdown",
   "id": "ad2c5319-8bce-4850-855b-2d32247a725f",
   "metadata": {},
   "source": [
    "# Práctica 3: Sentencias de control\n",
    "\n",
    "En las secciones pasadas se trató el tema de la elaboración de secuencias de istrucciones en forma de un archivo de extensión .m para su ejecución repetida sin necesidad de duplicar el trabajo de volverlas a escribir. Por otra parte se desarrollaron funciones para poder invocarlas o reutilizarlas como fórmulas matemáticas destinadas a obtener resultados de manera recurrente, una vez más sin a necesidad de duplicar código.\n",
    "\n",
    "En esta práctica, analizaremos las secuencias de control. Las secuencias de control permiten al usuario tener un criterio de desición sobre que conjunto de instrucciones realizar, en base a necesidades o condiciones específicas, en vez de ejecutar todas las instrucciones de manera secuencial.\n",
    "\n",
    "Las estructuras de repetición se utilizan en ingeniería para realizar procesos que se conocen como iterativos, para poderlas aplicar de una manera eficiente a la solución de problemas, se depende de opradores que relacionan variables para tomar decisiones en base a su comparación, estas deciciones a menudo sirven para controlar el programa e incluso terminarlo.\n",
    "\n",
    "Las operaciones de comparación son básicas para lograr el objetivo antes mencionado. La mayoría de los lenguajes de programación usan el variables booleanas, \"1\" lógico para verdadero (TRUE) y  \"0\" lógico para falso (FALSE). En MATLAB, cualquier número diferente de sero indica una condición booleana de verdadero.\n",
    "\n",
    "Por ejemplo, sean dos variables a=5 y b=10, la comparacion entre sus valores numéricos se hace en MATLAB como sigue: \n",
    "\n",
    "\n"
   ]
  },
  {
   "cell_type": "code",
   "execution_count": 1,
   "id": "42cc04ed-50f3-4699-9697-f2b3c2db8176",
   "metadata": {},
   "outputs": [],
   "source": [
    "%Primero se declaran las variables\n",
    "a=5;\n",
    "b=10;"
   ]
  },
  {
   "cell_type": "markdown",
   "id": "4e3ccb1d-6372-40a2-9cdb-f8b611fb67f0",
   "metadata": {},
   "source": [
    "Después se hace la comparación usando los operadores de comparación nativos de MATLAB. La respuesta a la pregunta:\n",
    "¿Es a menor que b? se responde con la instrucción:"
   ]
  },
  {
   "cell_type": "code",
   "execution_count": 2,
   "id": "5139d804-ada8-4d03-a80a-009e0f871c81",
   "metadata": {},
   "outputs": [
    {
     "data": {
      "text/html": [
       "<html><body><pre>ans = logical\n",
       "   1\n",
       "</pre></body></html>"
      ],
      "text/plain": [
       "ans = logical\n",
       "   1\n"
      ]
     },
     "execution_count": 2,
     "metadata": {},
     "output_type": "execute_result"
    }
   ],
   "source": [
    "a<b"
   ]
  },
  {
   "cell_type": "markdown",
   "id": "b5845281-e38f-4d62-b611-dd9aa78a9260",
   "metadata": {},
   "source": [
    "Mientras que la respuesta a la pregunta: ¿Es a mayor que b? se responde con la instrucción:"
   ]
  },
  {
   "cell_type": "code",
   "execution_count": 3,
   "id": "63e17c39-7002-4f6a-adcf-05a9c2c4fb6d",
   "metadata": {},
   "outputs": [
    {
     "data": {
      "text/html": [
       "<html><body><pre>ans = logical\n",
       "   0\n",
       "</pre></body></html>"
      ],
      "text/plain": [
       "ans = logical\n",
       "   0\n"
      ]
     },
     "execution_count": 3,
     "metadata": {},
     "output_type": "execute_result"
    }
   ],
   "source": [
    "a>b"
   ]
  },
  {
   "cell_type": "markdown",
   "id": "44f3e473-4337-4fe0-8561-34ce5201c627",
   "metadata": {},
   "source": [
    "En los resultados anteriores se comprueba que las condiciones de salida son verdadero y falso como respuesta a cada una de las dos preguntas. Las condiciones de comparación se pueden extender fácilmente a variables del tipo arreglo o vector, por ejemplo:"
   ]
  },
  {
   "cell_type": "code",
   "execution_count": 4,
   "id": "a1366715-73bd-4783-9d0f-73b9a797b3d2",
   "metadata": {},
   "outputs": [
    {
     "data": {
      "text/html": [
       "<html><body><pre>ans = 1x5 logical array\n",
       "   1   1   0   0   0\n",
       "</pre></body></html>"
      ],
      "text/plain": [
       "ans = 1x5 logical array\n",
       "   1   1   0   0   0\n"
      ]
     },
     "execution_count": 4,
     "metadata": {},
     "output_type": "execute_result"
    },
    {
     "data": {
      "text/html": [
       "<html><body><pre>ans = 1x5 logical array\n",
       "   1   1   1   0   1\n",
       "</pre></body></html>"
      ],
      "text/plain": [
       "ans = 1x5 logical array\n",
       "   1   1   1   0   1\n"
      ]
     },
     "execution_count": 4,
     "metadata": {},
     "output_type": "execute_result"
    }
   ],
   "source": [
    "w=[1 2 -3 4 -5];\n",
    "x=[2 -3 0 5 6];\n",
    "y=[3 8 -2 1 4];\n",
    "y>x \n",
    "w<y"
   ]
  },
  {
   "cell_type": "markdown",
   "id": "e14d868d-4750-43d4-8bd0-22d3d937b4f3",
   "metadata": {},
   "source": [
    "Como se observa en los resultados anteriores, el operador de comparación entrega un arreglo con la misma cantidad de localidades que los dos arreglos que estan bajo comparación. Por ejemplo, cuando se compara al arreglo y con el arreglo x, se observa que 3>2, por lo tanto, la primera comparación es verdadera, resultando en un \"1\" lógico en la primera localidad de la respuesta, minetras que 1<5, resultando un cero en la localidad 4 del arreglo de respuesta."
   ]
  },
  {
   "cell_type": "markdown",
   "id": "6e8ccc87-38cf-497f-9a17-77b78d25a225",
   "metadata": {},
   "source": [
    "Es posible combinar las comparaciones con otros operadores lógicos como AND y OR:"
   ]
  },
  {
   "cell_type": "code",
   "execution_count": 5,
   "id": "88836267-0cbd-4a0a-8972-db904a55bd1e",
   "metadata": {},
   "outputs": [
    {
     "data": {
      "text/html": [
       "<html><body><pre>ans = 1x5 logical array\n",
       "   1   0   0   0   0\n",
       "</pre></body></html>"
      ],
      "text/plain": [
       "ans = 1x5 logical array\n",
       "   1   0   0   0   0\n"
      ]
     },
     "execution_count": 5,
     "metadata": {},
     "output_type": "execute_result"
    }
   ],
   "source": [
    "(w<x)&(y>x)\n"
   ]
  },
  {
   "cell_type": "code",
   "execution_count": 6,
   "id": "0ad97cc0-6b4b-4ebe-a162-640b9a367d88",
   "metadata": {},
   "outputs": [
    {
     "data": {
      "text/html": [
       "<html><body><pre>ans = 1x5 logical array\n",
       "   1   1   1   1   1\n",
       "</pre></body></html>"
      ],
      "text/plain": [
       "ans = 1x5 logical array\n",
       "   1   1   1   1   1\n"
      ]
     },
     "execution_count": 6,
     "metadata": {},
     "output_type": "execute_result"
    }
   ],
   "source": [
    "(w<y)|(x>y)"
   ]
  },
  {
   "cell_type": "markdown",
   "id": "8ec75fc3-63aa-4bd1-a291-92303e109026",
   "metadata": {},
   "source": [
    "El resultado de la combinación de comparaciones es un arreglo que obedece al criterio establecido por el operador\n",
    "comparación y el relacional lógico, por ejemplo para la instrucción `(w<x)&(y>x)` sucede de que 1<3 y  a la vez 3>2, esto es la localidad uno del arreglo \"w\" es menor que la localidad uno del arreglo \"x\" y a la vez se cumple que la localidad uno del arreglo \"y\" es mayor que la localidad uno del arreglo \"x\"."
   ]
  },
  {
   "cell_type": "markdown",
   "id": "ecfe7e40-e315-40ec-a336-b7d85310a706",
   "metadata": {},
   "source": [
    "Los operadores relacionales son los siguientes:\n",
    "\n",
    "```{list-table} Operadores que relacionan variables\n",
    ":header-rows: 1\n",
    ":name: Tabla 2\n",
    "* - Operador\n",
    "  - Función\n",
    "* -  **==** \n",
    "  - igual que\n",
    "* - **>=**\n",
    "  - mayor o igual que\n",
    "* -  **<=** \n",
    "  - menor igual que\n",
    "* -  **<**\n",
    "  - menor que\n",
    "* -  **>** \n",
    "  - mayor que\n",
    "* -  **~=** \n",
    "  - diferente que\n",
    "```\n",
    "Mientras que los operadores lógicos son:\n",
    "\n",
    "```{list-table} Operadores lógicos\n",
    ":header-rows: 1\n",
    ":name: Tabla 3\n",
    "* - Operador\n",
    "  - Función\n",
    "* - **&** \n",
    "  - AND (Y lógica)\n",
    "* - **|**\n",
    "  - OR (O lógico)\n",
    "* - **~**\n",
    "  - NOT (negación lógica)\n",
    "* - **xor**\n",
    "  - XOR (or exclusivo)\n",
    "```\n",
    "\n"
   ]
  },
  {
   "cell_type": "markdown",
   "id": "6f84903d-b0a2-4a7b-a958-d11ac2f19bab",
   "metadata": {},
   "source": [
    "## Búsqueda de elementos en un conjunto de datos que cumplen con cierto criterio\n",
    "\n",
    "En MATLAB existe una instrucción especial denominada `find()`, esta instrucción especial busca entre los elementos de un arreglo los elementos que cumplen con un criterio especificado en entre paréntesis. Por ejemplo, consiere las mediciones de temperatura almacenadas en un arreglo llamado T. una forma de encontrar las temperaturas superiores a 30 grados es la siguiente:\n"
   ]
  },
  {
   "cell_type": "code",
   "execution_count": 7,
   "id": "1bdaf973-4de8-4870-bcfa-95643acb4ee9",
   "metadata": {},
   "outputs": [
    {
     "data": {
      "text/html": [
       "<html><body><pre>ans = 1x4 double\n",
       "     3     4     9    11\n",
       "</pre></body></html>"
      ],
      "text/plain": [
       "ans = 1x4 double\n",
       "     3     4     9    11\n"
      ]
     },
     "execution_count": 7,
     "metadata": {},
     "output_type": "execute_result"
    }
   ],
   "source": [
    "T=[22,28,33,31,24,20,19,28,32,20,33];\n",
    "find(T>30)"
   ]
  },
  {
   "cell_type": "markdown",
   "id": "38a55e43-d6f8-4310-abf0-1758a9b31ff2",
   "metadata": {},
   "source": [
    "Como se puede observar, la instrucción `find(T)` devuelve las localidades en las cuales el valor almacenado es superior a 30. Así, se puede construir un vector que contenga únicamnente los datos que cumplen el criterio. El procedimiento las instrucciones de MATLAB son las siguientes:"
   ]
  },
  {
   "cell_type": "code",
   "execution_count": 8,
   "id": "fd7c10a1-6a14-48af-8251-00f7c46c01e7",
   "metadata": {},
   "outputs": [
    {
     "data": {
      "text/html": [
       "<html><body><pre>T_30 = 1x4 double\n",
       "    33    31    32    33\n",
       "</pre></body></html>"
      ],
      "text/plain": [
       "T_30 = 1x4 double\n",
       "    33    31    32    33\n"
      ]
     },
     "execution_count": 8,
     "metadata": {},
     "output_type": "execute_result"
    }
   ],
   "source": [
    "T_30=T(find(T>30))"
   ]
  },
  {
   "cell_type": "markdown",
   "id": "2ef82cb0-a627-4ae1-a801-1efd7e60a3fc",
   "metadata": {},
   "source": [
    "Cuando se trata con arreglos multidimencionales como las matrices, se puede usar la instrucción `find()` para localizar los valores que cumplan con los criterios, adicionalmente, se pueden almacenar en dos variables la localización de los elementos buscados en forma de filas y columnas. Por ejemplo, supongase que se desea encontrar los elementos mayores a 5 en la matriz $A$ definida como:\n",
    "\n",
    "$$\n",
    "\\begin{equation}\n",
    "A=\\begin{bmatrix}\n",
    "4 & 12 & 15 & 10\\\\\n",
    "1 & 2 & 3.3 & 4.5\\\\\n",
    "2 & 10 & 2 & 5.5\\\\\n",
    "12 & 7 & 3 & 8\n",
    "\\end{bmatrix}\n",
    "\\end{equation}\n",
    "$$\n"
   ]
  },
  {
   "cell_type": "markdown",
   "id": "a20a4e24-bf56-41c6-a63a-36c9c2d06b15",
   "metadata": {},
   "source": [
    "Primero se crea la matriz A:"
   ]
  },
  {
   "cell_type": "code",
   "execution_count": 9,
   "id": "74556e63-8f75-4570-8205-14fecdfff5f7",
   "metadata": {},
   "outputs": [
    {
     "data": {
      "text/html": [
       "<html><body><pre>A = 4x4 double\n",
       "    4.0000   12.0000   15.0000   10.0000\n",
       "    1.0000    2.0000    3.3000    4.5000\n",
       "    2.0000   10.0000    2.0000    5.5000\n",
       "   12.0000    7.0000    3.0000    8.0000\n",
       "</pre></body></html>"
      ],
      "text/plain": [
       "A = 4x4 double\n",
       "    4.0000   12.0000   15.0000   10.0000\n",
       "    1.0000    2.0000    3.3000    4.5000\n",
       "    2.0000   10.0000    2.0000    5.5000\n",
       "   12.0000    7.0000    3.0000    8.0000\n"
      ]
     },
     "execution_count": 9,
     "metadata": {},
     "output_type": "execute_result"
    }
   ],
   "source": [
    "A=[4  12  15 10;1 2 3.3 4.5;2 10 2 5.5;12 7 3 8]"
   ]
  },
  {
   "cell_type": "markdown",
   "id": "49937d47-b42f-4195-ac19-ef2fe92b0ec1",
   "metadata": {},
   "source": [
    "Para encontrar la localización de los elementos mayores a 5 se usa la instrucción o comando `find()` como sigue:"
   ]
  },
  {
   "cell_type": "code",
   "execution_count": 10,
   "id": "fb11ec1d-e8a4-420e-86fd-7654a9d737f0",
   "metadata": {},
   "outputs": [
    {
     "data": {
      "text/html": [
       "<html><body><pre>ans = 8x1 double\n",
       "     4\n",
       "     5\n",
       "     7\n",
       "     8\n",
       "     9\n",
       "    13\n",
       "    15\n",
       "    16\n",
       "</pre></body></html>"
      ],
      "text/plain": [
       "ans = 8x1 double\n",
       "     4\n",
       "     5\n",
       "     7\n",
       "     8\n",
       "     9\n",
       "    13\n",
       "    15\n",
       "    16\n"
      ]
     },
     "execution_count": 10,
     "metadata": {},
     "output_type": "execute_result"
    }
   ],
   "source": [
    "find(A>5)"
   ]
  },
  {
   "cell_type": "markdown",
   "id": "8f02299a-c383-4846-a25d-5dc1ce6b3096",
   "metadata": {},
   "source": [
    "Las localizaciones de las entradas de la matriz que cumplen con el criterio se almacenan en orden simple, no hay información de la fila y columna, en este caso, las localidades se ubican en orden ascendente, observe que el primer elemento que cumple con el criterio de búsqueda (x>5) se encuentra en la pimera columna, en la fila cuatro, minetras que el segundo elemento que cumple con el criterio se encuentra en la fila uno y la segunda columna, es decir, el quinto elemento contando desde el elemento de la fila uno columna uno y continuando en orden aescendente. Para obtener la localización de los datos en formato de filas y columnas se usa la instrucción `find()` antecedida por un par de variables entre corchetes para almacenar los índices:"
   ]
  },
  {
   "cell_type": "code",
   "execution_count": 11,
   "id": "caa6b3e3-e078-4a11-8845-626a93321973",
   "metadata": {},
   "outputs": [
    {
     "data": {
      "text/html": [
       "<html><body><pre>i = 8x1 double\n",
       "     4\n",
       "     1\n",
       "     3\n",
       "     4\n",
       "     1\n",
       "     1\n",
       "     3\n",
       "     4\n",
       "</pre></body></html>"
      ],
      "text/plain": [
       "i = 8x1 double\n",
       "     4\n",
       "     1\n",
       "     3\n",
       "     4\n",
       "     1\n",
       "     1\n",
       "     3\n",
       "     4\n"
      ]
     },
     "execution_count": 11,
     "metadata": {},
     "output_type": "execute_result"
    },
    {
     "data": {
      "text/html": [
       "<html><body><pre>j = 8x1 double\n",
       "     1\n",
       "     2\n",
       "     2\n",
       "     2\n",
       "     3\n",
       "     4\n",
       "     4\n",
       "     4\n",
       "</pre></body></html>"
      ],
      "text/plain": [
       "j = 8x1 double\n",
       "     1\n",
       "     2\n",
       "     2\n",
       "     2\n",
       "     3\n",
       "     4\n",
       "     4\n",
       "     4\n"
      ]
     },
     "execution_count": 11,
     "metadata": {},
     "output_type": "execute_result"
    }
   ],
   "source": [
    "[i j]=find(A>5)"
   ]
  },
  {
   "cell_type": "markdown",
   "id": "ffecb9b7-7af6-4c45-ac6d-886e9cdd4b69",
   "metadata": {},
   "source": [
    "En el arreglo `i` se almacena la información del renglón y en el arreglo `j` se almacena la información de la columna, de manera que se verifica que el elemento o entrada de la matriz $a_{ij}$ cumple con el criterio de busqueda, por ejemplo, en el caso que aterior, el elemento `A(4,1)` es mayor que 5:"
   ]
  },
  {
   "cell_type": "code",
   "execution_count": 12,
   "id": "d2f929e2-ca92-42d7-acb9-627ef3909714",
   "metadata": {},
   "outputs": [
    {
     "data": {
      "text/html": [
       "<html><body><pre>ans = 12</pre></body></html>"
      ],
      "text/plain": [
       "ans = 12"
      ]
     },
     "execution_count": 12,
     "metadata": {},
     "output_type": "execute_result"
    }
   ],
   "source": [
    "A(4,1)"
   ]
  },
  {
   "cell_type": "markdown",
   "id": "63511c5f-7f42-4233-90ec-ef6093d2d67e",
   "metadata": {},
   "source": [
    "O equivalentemente:"
   ]
  },
  {
   "cell_type": "code",
   "execution_count": 13,
   "id": "f7010c35-6426-4994-a0e2-1250ff2ce239",
   "metadata": {},
   "outputs": [
    {
     "data": {
      "text/html": [
       "<html><body><pre>ans = 12</pre></body></html>"
      ],
      "text/plain": [
       "ans = 12"
      ]
     },
     "execution_count": 13,
     "metadata": {},
     "output_type": "execute_result"
    }
   ],
   "source": [
    "A(i(1),j(1))"
   ]
  },
  {
   "cell_type": "markdown",
   "id": "825c24a2-b666-41bc-813e-ffd60f6a67ac",
   "metadata": {},
   "source": [
    "\n",
    "## Graficación de funciones continuas a pedazos\n",
    "\n",
    "Se dice que una función es definida a pedazos si es continua en un intervalo dado si está definida en un intervalo cualquiera y además, las expresiones matemáticas que describen o modelan a dicha función son continuas en ese intervalo. Adicionalemente, tambien se cumple que no hay discontinuidad en ningún punto extremo de los subintervalos. Una función contínua a pedazos se define por medio de un conjunto de expresiones, utilizando una llave, funciones locales e intervalos. Por ejemplo, considere la función contínua a pedazos definida en la siguiente expresión:\n",
    "\n",
    "```{math}\n",
    ":label: func_pedazos\n",
    "\\begin{equation}\n",
    "         g(t)= \\left\\{ \\begin{array}{lcc} 5 & si & 0 \\leq t \\leq 2 \\\\ \\\\ t^2-t+10 & si & 2 < t \\leq 5 \\\\ \\\\ -4t-15 & si & 5 < t < 7 \\\\ \\\\ 0 & si & 7 \\leq t  \\end{array} \\right.\n",
    "\t\t \\end{equation}\n",
    "```\n",
    "\n",
    "Como puede observarse, los subintervalos se pueden definir en MATLAB, usando los comandos de la {numref}`Tabla 2`\n"
   ]
  },
  {
   "cell_type": "code",
   "execution_count": 14,
   "id": "36f6132b-e684-422f-be97-c11b0bac1caa",
   "metadata": {},
   "outputs": [
    {
     "data": {
      "image/png": "[encoded data removed]"
     },
     "execution_count": 14,
     "metadata": {},
     "output_type": "execute_result"
    }
   ],
   "source": [
    "t=[-1:0.01:9];\n",
    "g1=5.*((t>=0)&(t<=2))+(t.^2-t+10).*((t>2)&(t<=5))+(-4*t-15).*((t>5)&(t<7))+0.*(t>=7);\n",
    "\n",
    "plot(t,g1);\n",
    "xlabel(\"t\");\n",
    "ylabel(\"g_{1}(t)\")\n",
    "grid;"
   ]
  },
  {
   "cell_type": "code",
   "execution_count": null,
   "id": "203ef0b2-a91c-42f0-96d5-f4878ce0b414",
   "metadata": {},
   "outputs": [],
   "source": []
  }
 ],
 "metadata": {
  "kernelspec": {
   "display_name": "MATLAB Kernel",
   "language": "matlab",
   "name": "jupyter_matlab_kernel"
  },
  "language_info": {
   "file_extension": ".m",
   "mimetype": "text/x-matlab",
   "name": "matlab"
  }
 },
 "nbformat": 4,
 "nbformat_minor": 5
}
