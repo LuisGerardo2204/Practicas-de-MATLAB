{
 "cells": [
  {
   "cell_type": "markdown",
   "id": "b068e0cc-3bef-438b-9b18-30ae2d29cfae",
   "metadata": {},
   "source": [
    "# Práctica 6: Matrices y su manejo \n",
    "\n",
    "En el ambiente de programación MATLAB, las matrices se definen al escribir uno varios valores numéricos entre corchetes. Cada uno de esos números son las entradas o elementos de las matrices. Para crear una matriz en MATLAB se separa cada elemento con un espacio o coma de forma indistinta como hemos visto en prácticas anteriores. Las siguientes instucciones para la creación de matrices en MATLAB son equivalentes:"
   ]
  },
  {
   "cell_type": "code",
   "execution_count": 1,
   "id": "ea673f7e-85b7-49ea-a39e-b40db2ea5713",
   "metadata": {},
   "outputs": [
    {
     "data": {
      "text/html": [
       "<html><body><pre>C = 1.3000</pre></body></html>"
      ],
      "text/plain": [
       "C = 1.3000"
      ]
     },
     "execution_count": 1,
     "metadata": {},
     "output_type": "execute_result"
    },
    {
     "data": {
      "text/html": [
       "<html><body><pre>B = 1x3 double\n",
       "     1    -3     4\n",
       "</pre></body></html>"
      ],
      "text/plain": [
       "B = 1x3 double\n",
       "     1    -3     4\n"
      ]
     },
     "execution_count": 1,
     "metadata": {},
     "output_type": "execute_result"
    },
    {
     "data": {
      "text/html": [
       "<html><body><pre>B = 1x3 double\n",
       "     1    -3     4\n",
       "</pre></body></html>"
      ],
      "text/plain": [
       "B = 1x3 double\n",
       "     1    -3     4\n"
      ]
     },
     "execution_count": 1,
     "metadata": {},
     "output_type": "execute_result"
    },
    {
     "data": {
      "text/html": [
       "<html><body><pre>A = 2x2 double\n",
       "    -1     3\n",
       "     3    -4\n",
       "</pre></body></html>"
      ],
      "text/plain": [
       "A = 2x2 double\n",
       "    -1     3\n",
       "     3    -4\n"
      ]
     },
     "execution_count": 1,
     "metadata": {},
     "output_type": "execute_result"
    },
    {
     "data": {
      "text/html": [
       "<html><body><pre>A = 2x2 double\n",
       "    -1     3\n",
       "     3    -4\n",
       "</pre></body></html>"
      ],
      "text/plain": [
       "A = 2x2 double\n",
       "    -1     3\n",
       "     3    -4\n"
      ]
     },
     "execution_count": 1,
     "metadata": {},
     "output_type": "execute_result"
    }
   ],
   "source": [
    "C=[1.3]\n",
    "B=[1 -3 4]\n",
    "B=[1,-3,4]\n",
    "A=[-1 3;3 -4]\n",
    "A=[-1,3;3,-4]"
   ]
  },
  {
   "cell_type": "markdown",
   "id": "2a0f1896-6b26-4298-b6d2-a618b46e365e",
   "metadata": {},
   "source": [
    "Es posible además, usar un formato que resulta más compatible con la notación matemática como se muestra en la siguiente línea de código:"
   ]
  },
  {
   "cell_type": "code",
   "execution_count": 2,
   "id": "51132dc4-539e-4a4e-a211-8bdefdab797c",
   "metadata": {},
   "outputs": [
    {
     "data": {
      "text/html": [
       "<html><body><pre>A = 3x3 double\n",
       "    -1     3     4\n",
       "     5     3     6\n",
       "     3    -4     8\n",
       "</pre></body></html>"
      ],
      "text/plain": [
       "A = 3x3 double\n",
       "    -1     3     4\n",
       "     5     3     6\n",
       "     3    -4     8\n"
      ]
     },
     "execution_count": 2,
     "metadata": {},
     "output_type": "execute_result"
    }
   ],
   "source": [
    "A=[-1  3  4;\n",
    "    5  3  6;\n",
    "    3 -4  8]"
   ]
  },
  {
   "cell_type": "markdown",
   "id": "8b1e2f85-aefe-4944-9046-e7c2024586bc",
   "metadata": {},
   "source": [
    "Alternativamente, se puede usar un formato que permite que no sea necesario utilizar el punto y coma para iniciar un nuevo renglón, para crear la misma matriz que en el caso anterior:"
   ]
  },
  {
   "cell_type": "code",
   "execution_count": 3,
   "id": "302fffdb-5163-4321-ba4b-6441096be3ab",
   "metadata": {},
   "outputs": [
    {
     "data": {
      "text/html": [
       "<html><body><pre>A = 3x3 double\n",
       "    -1     3     4\n",
       "     5     3     6\n",
       "     3    -4     8\n",
       "</pre></body></html>"
      ],
      "text/plain": [
       "A = 3x3 double\n",
       "    -1     3     4\n",
       "     5     3     6\n",
       "     3    -4     8\n"
      ]
     },
     "execution_count": 3,
     "metadata": {},
     "output_type": "execute_result"
    }
   ],
   "source": [
    "A=[-1,3,4\n",
    "    5,3,6\n",
    "    3,-4,8]"
   ]
  },
  {
   "cell_type": "markdown",
   "id": "1e94b3cf-4025-4bbc-b7f7-dda1c73b8d91",
   "metadata": {},
   "source": [
    "Las matrices columna, son las que comnmente conocemos como vectores, su creación se consigue con la instrucción:"
   ]
  },
  {
   "cell_type": "code",
   "execution_count": 4,
   "id": "51f11fc6-bc8e-49e2-8c8f-112aa597ed4a",
   "metadata": {},
   "outputs": [
    {
     "data": {
      "text/html": [
       "<html><body><pre>V = 3x1 double\n",
       "     1\n",
       "     3\n",
       "     5\n",
       "</pre></body></html>"
      ],
      "text/plain": [
       "V = 3x1 double\n",
       "     1\n",
       "     3\n",
       "     5\n"
      ]
     },
     "execution_count": 4,
     "metadata": {},
     "output_type": "execute_result"
    }
   ],
   "source": [
    "V=[1;3;5]"
   ]
  },
  {
   "cell_type": "markdown",
   "id": "d2ef9be0-614b-4158-9124-a5de54eb2ef5",
   "metadata": {},
   "source": [
    "Si existen demasiados números en una fila como para encajar en una línea, puede continuar\n",
    "el enunciado en la línea siguiente, pero se requieren una coma y una elipsis (...) al final de la\n",
    "línea, lo que indica que la fila continúa. También puede usar la elipsis para continuar otros\n",
    "enunciados de asignación largos en MATLAB. Por ejemplo:"
   ]
  },
  {
   "cell_type": "code",
   "execution_count": 5,
   "id": "00da64c3-9e06-4c06-b6bc-675f14cd7e4e",
   "metadata": {},
   "outputs": [
    {
     "data": {
      "text/html": [
       "<html><body><pre>R = 1x11 double\n",
       "    11    43    54    65    67    79    34    89    55    43    78\n",
       "</pre></body></html>"
      ],
      "text/plain": [
       "R = 1x11 double\n",
       "    11    43    54    65    67    79    34    89    55    43    78\n"
      ]
     },
     "execution_count": 5,
     "metadata": {},
     "output_type": "execute_result"
    },
    {
     "name": "stdout",
     "output_type": "stream",
     "text": [
      "Usando la elipsis tres puntos:\n"
     ]
    },
    {
     "data": {
      "text/html": [
       "<html><body><pre>R = 1x11 double\n",
       "    11    43    54    65    67    79    34    89    55    43    78\n",
       "</pre></body></html>"
      ],
      "text/plain": [
       "R = 1x11 double\n",
       "    11    43    54    65    67    79    34    89    55    43    78\n"
      ]
     },
     "execution_count": 5,
     "metadata": {},
     "output_type": "execute_result"
    }
   ],
   "source": [
    "R=[11,43,54,65,67,79,34,89,55,43,78] \n",
    "disp(\"Usando la elipsis tres puntos:\")\n",
    "R=[11,43,54,65,67,...\n",
    "    79,34,89,55,43,78]"
   ]
  },
  {
   "cell_type": "markdown",
   "id": "f56c29cc-dde4-46c5-bf6a-5bfccea5dfff",
   "metadata": {},
   "source": [
    "Otra característica muy útil de MATLAB es la posibilidad de concatenar o combinar matrices para crear otra más grande, por ejemplo, si se tienen dos matrices $X$ y $Y$, se puede crear una matriz $Z$ que sea el resultado de combinarlas:\n",
    "\n",
    "$$\n",
    "\\begin{equation}\n",
    "X=\\begin{bmatrix}\n",
    "3 & 2 & -5\n",
    "\\end{bmatrix}\n",
    "\\end{equation}\n",
    "$$\n",
    "\n",
    "$$\n",
    "\\begin{equation}\n",
    "Y=\\begin{bmatrix}\n",
    "-3 & 22 & -15 & 34 & -16 \n",
    "\\end{bmatrix}\n",
    "\\end{equation}\n",
    "$$\n",
    "\n",
    "La matriz $Z$ se puede crear entonces como:\n",
    "\n",
    "$$\n",
    "\\begin{equation}\n",
    "Z=\\begin{bmatrix}\n",
    "X & Y\n",
    "\\end{bmatrix}=\\begin{bmatrix}\n",
    "3 & 2 & -5 &-3 & 22 & -15 & 34 & -16 \n",
    "\\end{bmatrix}\n",
    "\\end{equation}\n",
    "$$\n",
    "\n",
    "En MATLAB, el código para la creación de la matriz $Z$, resultado de la combinación de las matrices $X$ y $Y$ es:"
   ]
  },
  {
   "cell_type": "code",
   "execution_count": 6,
   "id": "88c5b3e7-220e-4295-8d35-329f8b1759ed",
   "metadata": {},
   "outputs": [
    {
     "data": {
      "text/html": [
       "<html><body><pre>X = 1x3 double\n",
       "     3     2    -5\n",
       "</pre></body></html>"
      ],
      "text/plain": [
       "X = 1x3 double\n",
       "     3     2    -5\n"
      ]
     },
     "execution_count": 6,
     "metadata": {},
     "output_type": "execute_result"
    },
    {
     "data": {
      "text/html": [
       "<html><body><pre>Y = 1x5 double\n",
       "    -3    22   -15    34   -16\n",
       "</pre></body></html>"
      ],
      "text/plain": [
       "Y = 1x5 double\n",
       "    -3    22   -15    34   -16\n"
      ]
     },
     "execution_count": 6,
     "metadata": {},
     "output_type": "execute_result"
    },
    {
     "name": "stdout",
     "output_type": "stream",
     "text": [
      "Matriz Z=[X Y]\n"
     ]
    },
    {
     "data": {
      "text/html": [
       "<html><body><pre>Z = 1x8 double\n",
       "     3     2    -5    -3    22   -15    34   -16\n",
       "</pre></body></html>"
      ],
      "text/plain": [
       "Z = 1x8 double\n",
       "     3     2    -5    -3    22   -15    34   -16\n"
      ]
     },
     "execution_count": 6,
     "metadata": {},
     "output_type": "execute_result"
    }
   ],
   "source": [
    "X=[3 2 -5]\n",
    "Y=[-3 22 -15 34 -16]\n",
    "disp(\"Matriz Z=[X Y]\")\n",
    "Z=[X Y]"
   ]
  },
  {
   "cell_type": "markdown",
   "id": "78614c24-da54-4370-a41e-8e8f407469c1",
   "metadata": {},
   "source": [
    "La función de concatenación de matrices es especialmente útil cuando se realiza una adquisición de datos o se genera una función que se actualiza o aumenta de tamaño y se requiere almacenar la información en un arreglo para post-procesamiento y/ó graficación. Otra función importante que permite MATLAB cuando se trabaja con matrices, es la asignación o cambio de valores de los elementos. Como ya se hizo en las primeras prácticas, se puede accesar a un elemento de una matriz por medio de la indexación. Para cambiar o asignar un valor requerido a un elemento en particular de una matriz se usa la sintaxis siguiente:"
   ]
  },
  {
   "cell_type": "code",
   "execution_count": 7,
   "id": "9f33ef90-0399-4bb4-b474-875812618420",
   "metadata": {},
   "outputs": [
    {
     "data": {
      "text/html": [
       "<html><body><pre>A = 1x5 double\n",
       "    -4    -1     4     5     8\n",
       "</pre></body></html>"
      ],
      "text/plain": [
       "A = 1x5 double\n",
       "    -4    -1     4     5     8\n"
      ]
     },
     "execution_count": 7,
     "metadata": {},
     "output_type": "execute_result"
    }
   ],
   "source": [
    "A=[-4 3 4 5 8];\n",
    "A(2)=-1"
   ]
  },
  {
   "cell_type": "markdown",
   "id": "bce40478-c7c7-42d7-8e40-7ad20c243da5",
   "metadata": {},
   "source": [
    "Como puede notarse, el valor del elemento 2 del arreglo A, fué asignado originalmente como 3, por medio de la instrucción ``A(2)=-1``, se asigna un valor de -1 a esa localidad. Se puede extender el tamaño de la matriz original si se asiga un valor a nuevos elementos que no estaban presentes en el arreglo original, por ejemplo:"
   ]
  },
  {
   "cell_type": "code",
   "execution_count": 8,
   "id": "4fe5b3ba-5022-4f35-a58d-5f738f218d8a",
   "metadata": {},
   "outputs": [
    {
     "data": {
      "text/html": [
       "<html><body><pre>A = 1x6 double\n",
       "    -4    -1     4     5     8    13\n",
       "</pre></body></html>"
      ],
      "text/plain": [
       "A = 1x6 double\n",
       "    -4    -1     4     5     8    13\n"
      ]
     },
     "execution_count": 8,
     "metadata": {},
     "output_type": "execute_result"
    }
   ],
   "source": [
    "A(6)=13"
   ]
  },
  {
   "cell_type": "markdown",
   "id": "a163cb34-8cbd-47a7-970c-bf24f8913540",
   "metadata": {},
   "source": [
    "El Arreglo o matriz A, ha aumentado una localidad en tamaño, es decir, se ha realizado la concatenación de un solo valor a la matriz en vez de concatenar varios valores a la vez. Si la localidad supera aun más el tamaño del arreglo, MATLAB rellenará con ceros las localidades no asignadas:"
   ]
  },
  {
   "cell_type": "code",
   "execution_count": 9,
   "id": "28afb1fc-b28c-4ee9-af0b-624ca55a14cc",
   "metadata": {},
   "outputs": [
    {
     "data": {
      "text/html": [
       "<html><body><pre>A = 1x8 double\n",
       "    -4     3     4     5     8     0     0    -3\n",
       "</pre></body></html>"
      ],
      "text/plain": [
       "A = 1x8 double\n",
       "    -4     3     4     5     8     0     0    -3\n"
      ]
     },
     "execution_count": 9,
     "metadata": {},
     "output_type": "execute_result"
    },
    {
     "data": {
      "text/html": [
       "<html><body><pre>A = 1x10 double\n",
       "    -4     3     4     5     8     0     0    -3     0     5\n",
       "</pre></body></html>"
      ],
      "text/plain": [
       "A = 1x10 double\n",
       "    -4     3     4     5     8     0     0    -3     0     5\n"
      ]
     },
     "execution_count": 9,
     "metadata": {},
     "output_type": "execute_result"
    }
   ],
   "source": [
    "A=[-4 3 4 5 8];\n",
    "A(8)=-3\n",
    "A(10)=5"
   ]
  },
  {
   "cell_type": "markdown",
   "id": "16de4d53-d6a2-4102-9f59-20bc42a3573c",
   "metadata": {},
   "source": [
    "## El operador **:**\n",
    "\n",
    "El operador **:** es muy útil para crear vectores que contengan un rango de valores de alguna variable independiente, esto es muy útil para graficar una función del tipo $y=f(x)$ en un intervalo o dominio específico. El operador dos puntos es un operador muy poderoso para definir finir una matriz igualmente espaciadas, es decir, con un incremento fijo. por ejemplo, sea la curva $y=5x^4-4x^3+3x^2-6x+2$, la gráfica de la funcíon evaluada en el intervalo $-2 \\leq x \\leq 2$ se obitiene en MATLAB con las intrucciones:\n"
   ]
  },
  {
   "cell_type": "code",
   "execution_count": 10,
   "id": "1f8fac3a-a196-485d-905d-82566beee95c",
   "metadata": {},
   "outputs": [
    {
     "data": {
      "image/png": "[encoded data removed]"
     },
     "execution_count": 10,
     "metadata": {},
     "output_type": "execute_result"
    }
   ],
   "source": [
    "x=[-2:0.1:2];%Intervalo o dominio de interés \n",
    "y=-0.5*x.^4+24*x.^3-13*x.^2+6*x-12;\n",
    "% Se grafica la curva con el comando plot()\n",
    "plot(x,y)\n",
    "title(\"f(x)=-0.5x^4+24x^3-13x^2+6x-12\")\n",
    "xlabel(\"x\")\n",
    "ylabel(\"y=f(x)\")\n"
   ]
  },
  {
   "cell_type": "markdown",
   "id": "ff51ffa1-5dac-4b42-b76b-630c0902f70e",
   "metadata": {},
   "source": [
    "Por defecto, el incremento es unitario, es decir, de no especificarse, MATLAB creará una matriz con números que difieren exactamete en uno: "
   ]
  },
  {
   "cell_type": "code",
   "execution_count": 11,
   "id": "468b7da4-9e41-408f-8504-9db8634f5901",
   "metadata": {},
   "outputs": [
    {
     "data": {
      "text/html": [
       "<html><body><pre>t = 1x8 double\n",
       "     0     1     2     3     4     5     6     7\n",
       "</pre></body></html>"
      ],
      "text/plain": [
       "t = 1x8 double\n",
       "     0     1     2     3     4     5     6     7\n"
      ]
     },
     "execution_count": 11,
     "metadata": {},
     "output_type": "execute_result"
    }
   ],
   "source": [
    "t=[0:7]"
   ]
  },
  {
   "cell_type": "markdown",
   "id": "af52fca9-4d57-4e84-971c-3229e3eb659e",
   "metadata": {},
   "source": [
    "El operador **:** se puede usar para extraer datos de las matrices o arreglos. Esta característica es muy útil cuando se analizan datos. Cuando en una matriz se usa el operador **:** como referencia en lugar de especificar un índice, el operador **:** representa toda una columna o fila. Por ejemplo, sea la matriz $A$ definida como:\n",
    "\n",
    "$$\n",
    "A=\\begin{bmatrix}\n",
    "1&2&-4&3\\\\\n",
    "3&4&6&12\\\\\n",
    "-5&8&10&7\\\\\n",
    "-4&3&7&-9\n",
    "\\end{bmatrix}\n",
    "$$\n",
    "\n",
    "Se puede extraer la columna 2 de la matriz A con las siguientes instrucciones:"
   ]
  },
  {
   "cell_type": "code",
   "execution_count": 12,
   "id": "7a2ddd99-aa6f-44e6-8ad7-9d889197a640",
   "metadata": {},
   "outputs": [
    {
     "data": {
      "text/html": [
       "<html><body><pre>c = 4x1 double\n",
       "     2\n",
       "     4\n",
       "     8\n",
       "     3\n",
       "</pre></body></html>"
      ],
      "text/plain": [
       "c = 4x1 double\n",
       "     2\n",
       "     4\n",
       "     8\n",
       "     3\n"
      ]
     },
     "execution_count": 12,
     "metadata": {},
     "output_type": "execute_result"
    }
   ],
   "source": [
    "A=[ 1 2 -4 3;\n",
    "    3 4  6 12;\n",
    "   -5 8 10 7;\n",
    "   -4 3 7 -9];\n",
    "c=A(:,2)"
   ]
  },
  {
   "cell_type": "markdown",
   "id": "6c4e1355-7192-4d02-8c6b-3595af1f3c9e",
   "metadata": {},
   "source": [
    "La sintaxis anterior se puede leer como “todas las filas en la columna 2”. Para extraer\n",
    "una fila en específico se usa la sintaxis ``d=A(2,:)``, que significa todas las columnas de la fila 2."
   ]
  },
  {
   "cell_type": "code",
   "execution_count": 13,
   "id": "5d25ea13-c49c-4874-920b-7944d776a115",
   "metadata": {},
   "outputs": [
    {
     "data": {
      "text/html": [
       "<html><body><pre>d = 1x4 double\n",
       "     3     4     6    12\n",
       "</pre></body></html>"
      ],
      "text/plain": [
       "d = 1x4 double\n",
       "     3     4     6    12\n"
      ]
     },
     "execution_count": 13,
     "metadata": {},
     "output_type": "execute_result"
    }
   ],
   "source": [
    "d=A(2,:)"
   ]
  },
  {
   "cell_type": "markdown",
   "id": "15888018-5c6e-4b34-9b79-00f7beec8671",
   "metadata": {},
   "source": [
    "Es posible extraer parte de una fila o una columna sin extraerla toda completa. El operador **:** puntos también se puede usar para especificar una extracción de localidades “desde fila i hasta fila k” o “desde columna l hasta columna m”. Por ejemplo, para extraer las dos filas superiores de la matriz A, se escribe:"
   ]
  },
  {
   "cell_type": "code",
   "execution_count": 14,
   "id": "4e9a498d-f051-40bf-8fd5-81cff31e21f5",
   "metadata": {},
   "outputs": [
    {
     "data": {
      "text/html": [
       "<html><body><pre>s = 2x4 double\n",
       "     1     2    -4     3\n",
       "     3     4     6    12\n",
       "</pre></body></html>"
      ],
      "text/plain": [
       "s = 2x4 double\n",
       "     1     2    -4     3\n",
       "     3     4     6    12\n"
      ]
     },
     "execution_count": 14,
     "metadata": {},
     "output_type": "execute_result"
    }
   ],
   "source": [
    "s=A(1:2,:)"
   ]
  },
  {
   "cell_type": "markdown",
   "id": "56fd7961-967a-4df4-8740-e3dc036bd649",
   "metadata": {},
   "source": [
    "La isntrucción anterior se interpreta como “filas 1 a 2, todas las columnas”. De manera similar, para extraer sólo los cuatro números en la esquina inferior derecha de la matriz A se escribe:"
   ]
  },
  {
   "cell_type": "code",
   "execution_count": 15,
   "id": "dcdd2b10-1ef8-4544-94a0-05e5e411f80d",
   "metadata": {},
   "outputs": [
    {
     "data": {
      "text/html": [
       "<html><body><pre>i = 2x2 double\n",
       "    10     7\n",
       "     7    -9\n",
       "</pre></body></html>"
      ],
      "text/plain": [
       "i = 2x2 double\n",
       "    10     7\n",
       "     7    -9\n"
      ]
     },
     "execution_count": 15,
     "metadata": {},
     "output_type": "execute_result"
    }
   ],
   "source": [
    "i=A(3:4,3:4)"
   ]
  },
  {
   "cell_type": "markdown",
   "id": "72196849-af85-4da4-baf2-6c10f2247bed",
   "metadata": {},
   "source": [
    "Es posible crear una matriz vacía para posteriormente asignar valores a sus localidades, por ejemplo para crear una matriz que contenga todos los números en órden del 1 al 16 se usa el siguiente conjunto de instrucciones:"
   ]
  },
  {
   "cell_type": "code",
   "execution_count": 16,
   "id": "25064e3f-4ade-43c6-8c81-57511c2f993a",
   "metadata": {},
   "outputs": [
    {
     "data": {
      "text/html": [
       "<html><body><pre>A = 4x4 double\n",
       "     1     2     3     4\n",
       "     5     6     7     8\n",
       "     9    10    11    12\n",
       "    13    14    15    16\n",
       "</pre></body></html>"
      ],
      "text/plain": [
       "A = 4x4 double\n",
       "     1     2     3     4\n",
       "     5     6     7     8\n",
       "     9    10    11    12\n",
       "    13    14    15    16\n"
      ]
     },
     "execution_count": 16,
     "metadata": {},
     "output_type": "execute_result"
    }
   ],
   "source": [
    "clear\n",
    "clc\n",
    "close all\n",
    "\n",
    "A=[];% se crea una matriz vacía\n",
    "r=0;\n",
    "\n",
    "for i=1:4\n",
    "  for j=1:4\n",
    "     r=r+1;\n",
    "     A(i,j)=r;\n",
    "   end\n",
    "end\n",
    "\n",
    "A"
   ]
  },
  {
   "cell_type": "markdown",
   "id": "67c70f1b-5b1f-4399-afdb-ac4e8b95bd02",
   "metadata": {},
   "source": [
    "Como ya se ha mencionado en prácticas anteriores, para acceder a una localidad o entrada en una matriz se especifica entre paréntesis el número de fila y el número de columna separados por una coma, por ejemplo para accesar a la localidad o entrada $A(3,2)$ se escribe:"
   ]
  },
  {
   "cell_type": "code",
   "execution_count": 17,
   "id": "1601c07b-1683-4f45-b798-a9fcff7bf293",
   "metadata": {},
   "outputs": [
    {
     "data": {
      "text/html": [
       "<html><body><pre>elemento = 10</pre></body></html>"
      ],
      "text/plain": [
       "elemento = 10"
      ]
     },
     "execution_count": 17,
     "metadata": {},
     "output_type": "execute_result"
    }
   ],
   "source": [
    "elemento=A(3,2) %La variable elemento almacena la entrada A(3,2) de la matriz A"
   ]
  },
  {
   "cell_type": "markdown",
   "id": "45c6bb92-120f-4aa1-b3dc-aebb6faca981",
   "metadata": {},
   "source": [
    "De manera alternativa, puede usar un solo número índice. El valor en la fila 3,\n",
    "columna 2 de la matriz A es el elemento número 7. (Se cuenta la columna 1, luego la columna 2, hasta el elemento correcto.) El comando MATLAB asociado es:"
   ]
  },
  {
   "cell_type": "code",
   "execution_count": 18,
   "id": "408298e7-fd99-42ee-b352-e9d67b131f4e",
   "metadata": {},
   "outputs": [
    {
     "data": {
      "text/html": [
       "<html><body><pre>elemento = 10</pre></body></html>"
      ],
      "text/plain": [
       "elemento = 10"
      ]
     },
     "execution_count": 18,
     "metadata": {},
     "output_type": "execute_result"
    }
   ],
   "source": [
    "elemento=A(7)"
   ]
  },
  {
   "cell_type": "markdown",
   "id": "3a2d20e6-1880-430b-aaad-dd20b2c163b9",
   "metadata": {},
   "source": [
    "## Ejercicio de la práctica 6.\n",
    "\n",
    "Genere las siguientes matrices:\n",
    "\n",
    "$$\n",
    "w=\\begin{bmatrix}\n",
    "3 & 2 & -5 & -13 & 10\n",
    "\\end{bmatrix}~~~~x=\\begin{bmatrix}\n",
    "3 & 2 & -5 & 6\\\\\n",
    "5 & -3 & 9 & 12\\\\\n",
    "4 & -4 & 10 & 1\\\\\n",
    "-3 & 3 & 4 & 13\n",
    "\\end{bmatrix}~~~~y=\\begin{bmatrix}\n",
    "-2.5\\\\\n",
    " 9.8\\\\\n",
    " 10.4\\\\\n",
    " 4.5 \n",
    "\\end{bmatrix}\n",
    "$$\n",
    "\n",
    "Una vez creadas las matrices, resuelva los siguientes ejercicios:\n",
    "\n",
    "1.- Asigne a la variable $x_1$ el valor en la segunda columna de la matriz $w$ el cual se representa como el elemento $w_{1,2}$ y se expresa como $x_1=w_{1,2}$.\n",
    " \n",
    "2.- Asigne a la variable $x_2$ la tercera columna de la matriz $x$.\n",
    "\n",
    "3.- Asigne a la variable $x_3$ la tercera fila de la matriz $x$.\n",
    "\n",
    "4.- Asigne a la variable $x_4$ los valores en la matriz $x$ a lo largo de la diagonal (es\n",
    "decir: elementos $x_{1,1}$, $x_{2,2}$, $x_{3,3}$ y $x_{4,4}$).\n",
    "\n",
    "5.- Asigne a la variable $x_5$ los primeros cuatro valores en la matriz $w$ como la primera\n",
    "fila y todos los valores en la matriz $x$ como la segunda a la cuarta filas.\n",
    "\n",
    "6.- Asigne a la variable $x_6$ los valores en la matriz $y$ como la primera columna,\n",
    "los valores en la matriz $x$ como las columnas 2, 3, 4 y 5, y los valores en la matriz $w$ como la última fila.\n",
    "\n",
    "7.- Asigne a la variable $x_7$ el valor del elemento 7 en la matriz $x$, use el esquema\n",
    "de identificación de número de índice simple.\n",
    "\n",
    "8.- Convierta la matriz $x$ en un vector columna que se almacene en la variable $x_8$."
   ]
  }
 ],
 "metadata": {
  "kernelspec": {
   "display_name": "MATLAB Kernel",
   "language": "matlab",
   "name": "jupyter_matlab_kernel"
  },
  "language_info": {
   "file_extension": ".m",
   "mimetype": "text/x-matlab",
   "name": "matlab"
  }
 },
 "nbformat": 4,
 "nbformat_minor": 5
}
